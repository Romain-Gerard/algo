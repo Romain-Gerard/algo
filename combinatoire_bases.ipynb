{
 "cells": [
  {
   "cell_type": "markdown",
   "metadata": {},
   "source": [
    "# **Combinatoire : notions préalables**\n",
    "### Romain GERARD"
   ]
  },
  {
   "cell_type": "markdown",
   "metadata": {},
   "source": [
    "Importer les packages."
   ]
  },
  {
   "cell_type": "code",
   "execution_count": 2,
   "metadata": {},
   "outputs": [],
   "source": [
    "import numpy as np\n",
    "np.set_printoptions(suppress=True)\n",
    "import pandas as pd\n",
    "import matplotlib.pyplot as plt\n",
    "from IPython.display import display, Math, Latex\n",
    "from sympy import symbols, expand, latex"
   ]
  },
  {
   "cell_type": "markdown",
   "metadata": {},
   "source": [
    "## Factorielle et coefficient binomial"
   ]
  },
  {
   "cell_type": "code",
   "execution_count": 3,
   "metadata": {},
   "outputs": [
    {
     "data": {
      "text/latex": [
       "$\\displaystyle 7! = 5040$"
      ],
      "text/plain": [
       "<IPython.core.display.Math object>"
      ]
     },
     "metadata": {},
     "output_type": "display_data"
    },
    {
     "data": {
      "text/latex": [
       "$\\displaystyle \\binom{10}{2} = 45$"
      ],
      "text/plain": [
       "<IPython.core.display.Math object>"
      ]
     },
     "metadata": {},
     "output_type": "display_data"
    },
    {
     "data": {
      "text/latex": [
       "$\\displaystyle \\binom{100}{20} = 535983370403809682970$"
      ],
      "text/plain": [
       "<IPython.core.display.Math object>"
      ]
     },
     "metadata": {},
     "output_type": "display_data"
    }
   ],
   "source": [
    "def facto_rec(x):\n",
    "    \"\"\"\n",
    "    Calcule la factorielle de x de manière récursive.\n",
    "    \"\"\"\n",
    "    if x == 0:\n",
    "        return 1\n",
    "    return x * facto_rec(x-1)\n",
    "\n",
    "\n",
    "def coeff_bino(n, k):\n",
    "    \"\"\"\n",
    "    Calcule le coefficient binomial C(n, k).\n",
    "    \"\"\"\n",
    "    return facto_rec(n) // (facto_rec(k)*facto_rec(n-k))\n",
    "\n",
    "\n",
    "def coeff_bino_rec(n, k):\n",
    "    \"\"\"\n",
    "    Calcule le coefficient binomial C(n, k) de manière récursive.\n",
    "    \"\"\"\n",
    "    if k > n:\n",
    "        return 0\n",
    "    if k == 0 or k == n:\n",
    "        return 1\n",
    "    \n",
    "    return coeff_bino_rec(n-1, k-1) + coeff_bino_rec(n-1, k)\n",
    "\n",
    "\n",
    "def coeff_bino_dyn(n, k, memo={}):\n",
    "    \"\"\"\n",
    "    Calcule le coefficient binomial C(n, k) de manière récursive et dynamique.\n",
    "    \"\"\"\n",
    "    if k > n:\n",
    "        return 0\n",
    "    if k == 0 or k == n:\n",
    "        return 1\n",
    "    \n",
    "    if (n, k) not in memo:\n",
    "        memo[(n, k)] = coeff_bino_dyn(n-1, k-1) + coeff_bino_dyn(n-1, k)\n",
    "    return memo[(n, k)]\n",
    "\n",
    "\n",
    "# Exemple: 7!\n",
    "x = 7\n",
    "display(Math(rf\"{x}! = {facto_rec(x)}\"))\n",
    "\n",
    "# Exemple: C(10, 5)\n",
    "n, k = 10, 2\n",
    "display(Math(rf\"\\binom{{{n}}}{{{k}}} = {coeff_bino_rec(n, k)}\"))\n",
    "\n",
    "# Exemple dynamique : C(100, 20)\n",
    "display(Math(rf\"\\binom{{{100}}}{{{20}}} = {coeff_bino_dyn(100, 20)}\"))\n"
   ]
  },
  {
   "cell_type": "markdown",
   "metadata": {},
   "source": [
    "## Permutations"
   ]
  },
  {
   "cell_type": "code",
   "execution_count": 4,
   "metadata": {},
   "outputs": [
    {
     "name": "stdout",
     "output_type": "stream",
     "text": [
      "A = [1, 2, 3, 4, 5, 6, 7]\n",
      "\n",
      "Ensemble de toutes les n-permutations de A :\n",
      "[1, 2, 3, 4, 5, 6, 7]\n",
      "[1, 2, 3, 4, 5, 7, 6]\n",
      "[1, 2, 3, 4, 6, 5, 7]\n",
      "[1, 2, 3, 4, 6, 7, 5]\n",
      ". . .\n",
      "[7, 6, 5, 4, 3, 1, 2]\n",
      "[7, 6, 5, 4, 3, 2, 1]\n"
     ]
    },
    {
     "data": {
      "text/latex": [
       "$\\displaystyle |\\sigma_n| = 5040$"
      ],
      "text/plain": [
       "<IPython.core.display.Math object>"
      ]
     },
     "metadata": {},
     "output_type": "display_data"
    },
    {
     "data": {
      "text/latex": [
       "$\\displaystyle |A|! = 5040$"
      ],
      "text/plain": [
       "<IPython.core.display.Math object>"
      ]
     },
     "metadata": {},
     "output_type": "display_data"
    }
   ],
   "source": [
    "def permute_rec(lst):\n",
    "    \"\"\"\n",
    "    Retourne la liste de toutes les permutations de lst, de manière récursive.\n",
    "    \"\"\"\n",
    "    if len(lst) == 0:\n",
    "        return [[]]\n",
    "\n",
    "    result = []\n",
    "    for i in range(len(lst)):\n",
    "        current = lst[i]\n",
    "        remaining = lst[:i] + lst[i+1:]\n",
    "        for e in permute_rec(remaining):\n",
    "            result.append([current] + e)\n",
    "    return result\n",
    "\n",
    "def combine_dyn(lst, memo=None):\n",
    "    \"\"\"\n",
    "    Génère toutes les combinaisons possibles de toutes les tailles à partir d'une liste.\n",
    "    \"\"\"\n",
    "    if memo is None:\n",
    "        memo = {}\n",
    "\n",
    "    # Si la liste est vide, il n'y a qu'une seule combinaison : l'ensemble vide.\n",
    "    if len(lst) == 0:\n",
    "        return [[]]\n",
    "\n",
    "    # Si le résultat est déjà calculé, on le retourne depuis la mémoire.\n",
    "    lst_tuple = tuple(lst)\n",
    "    if lst_tuple in memo:\n",
    "        return memo[lst_tuple]\n",
    "\n",
    "    # Récurrence :\n",
    "    # On exclut le premier élément et génère les combinaisons du reste.\n",
    "    combinaisons_sans_premier = combine_dyn(lst[1:], memo)\n",
    "    # On inclut le premier élément dans chaque combinaison du reste.\n",
    "    premier = lst[0]\n",
    "    combinaisons_avec_premier = [[premier] + combinaison for combinaison in combinaisons_sans_premier]\n",
    "    # On combine les deux ensembles de combinaisons.\n",
    "    result = combinaisons_sans_premier + combinaisons_avec_premier\n",
    "\n",
    "    memo[lst_tuple] = result\n",
    "\n",
    "    return result\n",
    "\n",
    "\n",
    "# Exemple\n",
    "n = 7\n",
    "A = list(range(1, n+1))\n",
    "sigma_n = permute_rec(A)\n",
    "\n",
    "print(\"A =\", A)\n",
    "print()\n",
    "print(\"Ensemble de toutes les n-permutations de A :\")\n",
    "print(sigma_n[0])\n",
    "print(sigma_n[1])\n",
    "print(sigma_n[2])\n",
    "print(sigma_n[3])\n",
    "print(\". . .\")\n",
    "print(sigma_n[-2])\n",
    "print(sigma_n[-1])\n",
    "\n",
    "display(Math(rf\"|\\sigma_n| = {len(sigma_n)}\"))\n",
    "display(Math(rf\"|A|! = {facto_rec(len(A))}\"))\n"
   ]
  },
  {
   "cell_type": "markdown",
   "metadata": {},
   "source": [
    "## Nombre de Stirling de seconde espèce"
   ]
  },
  {
   "cell_type": "code",
   "execution_count": 5,
   "metadata": {},
   "outputs": [
    {
     "data": {
      "text/latex": [
       "$\\displaystyle \n",
       "\\textbf{Nombres de Stirling de seconde espèce} :\n",
       "\\\\\n",
       "\\text{Définition récursive : }\n",
       "S(n, k) = S(n-1, k-1) + k \\, S(n-1, k),\n",
       "\\quad S(0, 0) = 1,\n",
       "\\quad S(x, 0) = S(0, y) = 0 \\quad \\text{pour tout } x>0, y>0.\n",
       "$"
      ],
      "text/plain": [
       "<IPython.core.display.Math object>"
      ]
     },
     "metadata": {},
     "output_type": "display_data"
    },
    {
     "data": {
      "text/latex": [
       "$\\displaystyle S(4,0) = 0$"
      ],
      "text/plain": [
       "<IPython.core.display.Math object>"
      ]
     },
     "metadata": {},
     "output_type": "display_data"
    },
    {
     "data": {
      "text/latex": [
       "$\\displaystyle S(4,1) = 1$"
      ],
      "text/plain": [
       "<IPython.core.display.Math object>"
      ]
     },
     "metadata": {},
     "output_type": "display_data"
    },
    {
     "data": {
      "text/latex": [
       "$\\displaystyle S(4,2) = 7$"
      ],
      "text/plain": [
       "<IPython.core.display.Math object>"
      ]
     },
     "metadata": {},
     "output_type": "display_data"
    },
    {
     "data": {
      "text/latex": [
       "$\\displaystyle S(4,3) = 6$"
      ],
      "text/plain": [
       "<IPython.core.display.Math object>"
      ]
     },
     "metadata": {},
     "output_type": "display_data"
    },
    {
     "data": {
      "text/latex": [
       "$\\displaystyle S(4,4) = 1$"
      ],
      "text/plain": [
       "<IPython.core.display.Math object>"
      ]
     },
     "metadata": {},
     "output_type": "display_data"
    },
    {
     "data": {
      "text/latex": [
       "$\\displaystyle S(10,5) = 42525$"
      ],
      "text/plain": [
       "<IPython.core.display.Math object>"
      ]
     },
     "metadata": {},
     "output_type": "display_data"
    }
   ],
   "source": [
    "def calcule_stirling_rec(n, k):\n",
    "    \"\"\"\n",
    "    Calcule le nombre de Stirling de seconde espèce S(n, k)\n",
    "    selon une définition récursive.\n",
    "    \n",
    "    S(n, k) = S(n-1, k-1) + k * S(n-1, k)\n",
    "    avec les cas de base :\n",
    "       - S(0, 0) = 1\n",
    "       - S(n, 0) = 0 pour n > 0\n",
    "       - S(0, k) = 0 pour k > 0\n",
    "    \"\"\"\n",
    "    if n == 0 and k == 0:\n",
    "        return 1\n",
    "    if (n == 0 and k > 0) or (n > 0 and k == 0):\n",
    "        return 0\n",
    "\n",
    "    return calcule_stirling_rec(n-1, k-1) + k*calcule_stirling_rec(n-1, k)\n",
    "\n",
    "\n",
    "def calcule_stirling_dyn(n, k, memo={}):\n",
    "    \"\"\"\n",
    "    Calcule le nombre de Stirling de seconde espèce (version dynamique).\n",
    "    \"\"\"\n",
    "    if n == 0 and k == 0:\n",
    "        return 1\n",
    "    if (n == 0 and k > 0) or (n > 0 and k == 0):\n",
    "        return 0\n",
    "\n",
    "    if (n, k) not in memo:\n",
    "        memo[(n, k)] = calcule_stirling_dyn(n-1, k-1) + k*calcule_stirling_dyn(n-1, k)\n",
    "    return memo[(n, k)]\n",
    "\n",
    "\n",
    "display(Math(r\"\"\"\n",
    "\\textbf{Nombres de Stirling de seconde espèce} :\n",
    "\\\\\n",
    "\\text{Définition récursive : }\n",
    "S(n, k) = S(n-1, k-1) + k \\, S(n-1, k),\n",
    "\\quad S(0, 0) = 1,\n",
    "\\quad S(x, 0) = S(0, y) = 0 \\quad \\text{pour tout } x>0, y>0.\n",
    "\"\"\"))\n",
    "\n",
    "# Exemple\n",
    "n = 4\n",
    "for k in range(5):\n",
    "    display(Math(rf\"S({n},{k}) = {calcule_stirling_rec(n,k)}\"))\n",
    "\n",
    "# Exemple dynamique\n",
    "display(Math(rf\"S({10},{5}) = {calcule_stirling_dyn(10, 5)}\"))\n"
   ]
  },
  {
   "cell_type": "code",
   "execution_count": 6,
   "metadata": {},
   "outputs": [
    {
     "name": "stdout",
     "output_type": "stream",
     "text": [
      "Nombres de Stirling de seconde espèce (n/k):\n",
      "[[   1.    0.    0.    0.    0.    0.    0.    0.    0.    0.]\n",
      " [   0.    1.    0.    0.    0.    0.    0.    0.    0.    0.]\n",
      " [   0.    1.    1.    0.    0.    0.    0.    0.    0.    0.]\n",
      " [   0.    1.    3.    1.    0.    0.    0.    0.    0.    0.]\n",
      " [   0.    1.    7.    6.    1.    0.    0.    0.    0.    0.]\n",
      " [   0.    1.   15.   25.   10.    1.    0.    0.    0.    0.]\n",
      " [   0.    1.   31.   90.   65.   15.    1.    0.    0.    0.]\n",
      " [   0.    1.   63.  301.  350.  140.   21.    1.    0.    0.]\n",
      " [   0.    1.  127.  966. 1701. 1050.  266.   28.    1.    0.]\n",
      " [   0.    1.  255. 3025. 7770. 6951. 2646.  462.   36.    1.]]\n"
     ]
    }
   ],
   "source": [
    "# Table des nombres de Stirling de seconde espèce (n/k).\n",
    "L = 10\n",
    "table_stirling = np.zeros((L, L))\n",
    "n, k = table_stirling.shape\n",
    "table_stirling[0, 0] = 1\n",
    "for i in range(1, n):\n",
    "    for j in range(1, n):\n",
    "        table_stirling[i, j] = table_stirling[i-1, j-1] + j*table_stirling[i-1, j]\n",
    "print(\"Nombres de Stirling de seconde espèce (n/k):\\n\", table_stirling, sep=\"\")"
   ]
  },
  {
   "cell_type": "markdown",
   "metadata": {},
   "source": [
    "## Nombre de Bell"
   ]
  },
  {
   "cell_type": "code",
   "execution_count": null,
   "metadata": {},
   "outputs": [
    {
     "data": {
      "text/latex": [
       "$\\displaystyle \n",
       "\\textbf{Nombres de Bell} : B(n) = \\sum_{k=1}^{n} S(n,k).\n",
       "\\\\\n",
       "\\text{Définition récursive : }\n",
       "B(n) = \\sum_{m=0}^{n-1} \\binom{n-1}{m} \\, B(m), \\quad B(0) = 1.\n",
       "$"
      ],
      "text/plain": [
       "<IPython.core.display.Math object>"
      ]
     },
     "metadata": {},
     "output_type": "display_data"
    },
    {
     "data": {
      "text/latex": [
       "$\\displaystyle B(0) = 1$"
      ],
      "text/plain": [
       "<IPython.core.display.Math object>"
      ]
     },
     "metadata": {},
     "output_type": "display_data"
    },
    {
     "data": {
      "text/latex": [
       "$\\displaystyle B(1) = 1$"
      ],
      "text/plain": [
       "<IPython.core.display.Math object>"
      ]
     },
     "metadata": {},
     "output_type": "display_data"
    },
    {
     "data": {
      "text/latex": [
       "$\\displaystyle B(2) = 2$"
      ],
      "text/plain": [
       "<IPython.core.display.Math object>"
      ]
     },
     "metadata": {},
     "output_type": "display_data"
    },
    {
     "data": {
      "text/latex": [
       "$\\displaystyle B(3) = 5$"
      ],
      "text/plain": [
       "<IPython.core.display.Math object>"
      ]
     },
     "metadata": {},
     "output_type": "display_data"
    },
    {
     "data": {
      "text/latex": [
       "$\\displaystyle B(4) = 15$"
      ],
      "text/plain": [
       "<IPython.core.display.Math object>"
      ]
     },
     "metadata": {},
     "output_type": "display_data"
    },
    {
     "data": {
      "text/latex": [
       "$\\displaystyle B(5) = 52$"
      ],
      "text/plain": [
       "<IPython.core.display.Math object>"
      ]
     },
     "metadata": {},
     "output_type": "display_data"
    },
    {
     "data": {
      "text/latex": [
       "$\\displaystyle B(6) = 203$"
      ],
      "text/plain": [
       "<IPython.core.display.Math object>"
      ]
     },
     "metadata": {},
     "output_type": "display_data"
    },
    {
     "data": {
      "text/latex": [
       "$\\displaystyle B(7) = 877$"
      ],
      "text/plain": [
       "<IPython.core.display.Math object>"
      ]
     },
     "metadata": {},
     "output_type": "display_data"
    },
    {
     "data": {
      "text/latex": [
       "$\\displaystyle B(8) = 4140$"
      ],
      "text/plain": [
       "<IPython.core.display.Math object>"
      ]
     },
     "metadata": {},
     "output_type": "display_data"
    },
    {
     "data": {
      "text/latex": [
       "$\\displaystyle B(9) = 21147$"
      ],
      "text/plain": [
       "<IPython.core.display.Math object>"
      ]
     },
     "metadata": {},
     "output_type": "display_data"
    },
    {
     "data": {
      "text/latex": [
       "$\\displaystyle B(10) = 115975$"
      ],
      "text/plain": [
       "<IPython.core.display.Math object>"
      ]
     },
     "metadata": {},
     "output_type": "display_data"
    }
   ],
   "source": [
    "def calcule_bell_iter(n):\n",
    "    res = 0\n",
    "    for k in range(1, n+1):\n",
    "        res += calcule_stirling_rec(n, k)\n",
    "    return res\n",
    "\n",
    "\n",
    "def calcule_bell_rec(n):\n",
    "    if n == 0:\n",
    "        return 1\n",
    "    \n",
    "    res = 0\n",
    "    for m in range(n):\n",
    "        res += coeff_bino_rec(n-1, m) * calcule_bell_rec(m)\n",
    "    return res\n",
    "\n",
    "\n",
    "def calcule_bell_dyn(n, memo={}):\n",
    "    # Version dynamique.\n",
    "    if n == 0:\n",
    "        return 1\n",
    "    \n",
    "    if n in memo:\n",
    "        return memo[n]\n",
    "    \n",
    "    res = 0\n",
    "    for m in range(n):\n",
    "        res += coeff_bino_dyn(n-1, m) * calcule_bell_dyn(m)\n",
    "\n",
    "    memo[n] = res\n",
    "    return res\n",
    "\n",
    "\n",
    "display(Math(r\"\"\"\n",
    "\\textbf{Nombres de Bell} : B(n) = \\sum_{k=1}^{n} S(n,k).\n",
    "\\\\\n",
    "\\text{Définition récursive : }\n",
    "B(n) = \\sum_{m=0}^{n-1} \\binom{n-1}{m} \\, B(m), \\quad B(0) = 1.\n",
    "\"\"\"))\n",
    "\n",
    "# Exemple : A000110\n",
    "for num in range(0, 11):\n",
    "    display(Math(rf\"B({num}) = {calcule_bell_dyn(num)}\"))"
   ]
  },
  {
   "cell_type": "markdown",
   "metadata": {},
   "source": [
    "## Partitions de type A"
   ]
  },
  {
   "cell_type": "code",
   "execution_count": 8,
   "metadata": {},
   "outputs": [
    {
     "name": "stdout",
     "output_type": "stream",
     "text": [
      "[[1], [2], [3], [4], [5, 6, 7, 8, 9, 10]]\n",
      "[[1], [2], [3], [4, 5], [6, 7, 8, 9, 10]]\n",
      "[[1], [2], [3], [5], [4, 6, 7, 8, 9, 10]]\n",
      "[[1], [2], [3], [4, 5, 6], [7, 8, 9, 10]]\n",
      "...\n",
      "[[6], [1, 7], [8], [9], [2, 3, 4, 5, 10]]\n",
      "[[6], [7], [1, 8], [9], [2, 3, 4, 5, 10]]\n",
      "[[6], [7], [8], [1, 9], [2, 3, 4, 5, 10]]\n",
      "[[6], [7], [8], [9], [1, 2, 3, 4, 5, 10]]\n"
     ]
    },
    {
     "data": {
      "text/latex": [
       "$\\displaystyle S(10,5) = 42525$"
      ],
      "text/plain": [
       "<IPython.core.display.Math object>"
      ]
     },
     "metadata": {},
     "output_type": "display_data"
    }
   ],
   "source": [
    "def partitionne_stirling_rec(lst, k):\n",
    "    \"\"\"\n",
    "    Retourne la liste de toutes les partitions de lst en k sous-listes (blocs) en\n",
    "    s\"inspirant de la définition récursive du nombre de Stirling de seconde espèce:\n",
    "    \n",
    "                        S(n, k) = S(n-1, k-1) + k * S(n-1, k)\n",
    "    \"\"\"\n",
    "    n = len(lst)\n",
    "\n",
    "    # -------------\n",
    "    # Cas de base :\n",
    "    # -------------\n",
    "\n",
    "    # Si k = 0 et n = 0, alors on a une seule partition vide.\n",
    "    if k == 0 and n == 0:\n",
    "        return [[]]\n",
    "    \n",
    "    # Si k = 0 ou n = 0, mais pas les deux en même temps,\n",
    "    # alors il n\"existe aucune partition.\n",
    "    if (k == 0 or n == 0) and (k != n):\n",
    "        return []\n",
    "    \n",
    "    # Si k = n, chaque élément de lst doit être dans son propre bloc.\n",
    "    if k == n:\n",
    "        return [ [[x] for x in lst] ]\n",
    "    \n",
    "    # Si k = 1, il n\"y a qu\"un seul bloc contenant tous les éléments.\n",
    "    if k == 1:\n",
    "        return [[lst]]\n",
    "    \n",
    "    # Si k > n, il n\"existe pas de partition car on ne peut\n",
    "    # pas répartir n éléments en plus de n blocs non vides.\n",
    "    if k > n:\n",
    "        return []\n",
    "    \n",
    "    # ----------------------------------------------------\n",
    "    # Récurrence :\n",
    "    # 1) On met lst[0] dans son propre bloc, et on partitionne\n",
    "    #    lst[1:] en (k-1) blocs.\n",
    "    # 2) On met lst[0] dans chacun des blocs d\"une partition de\n",
    "    #    lst[1:] en k blocs.\n",
    "    # ----------------------------------------------------\n",
    "\n",
    "    # Initialiser la liste de toutes les partitions.\n",
    "    lst_part = []\n",
    "    \n",
    "    # 1) Ajouter lst[0] dans un nouveau bloc (S(n-1, k-1))\n",
    "    for part in partitionne_stirling_rec(lst[1:], k - 1):\n",
    "        # On ajoute le bloc [lst[0]] devant\n",
    "        new_part = [[lst[0]]] + part\n",
    "        lst_part.append(new_part)\n",
    "    \n",
    "    # 2) Ajouter lst[0] dans chacun des blocs.\n",
    "    for part in partitionne_stirling_rec(lst[1:], k):\n",
    "        # Pour chaque partition obtenue, on crée k nouvelles partitions\n",
    "        # où lst[0] est inséré dans un seul bloc par partition.\n",
    "        for i in range(len(part)):\n",
    "            new_part = []\n",
    "            for j, bloc in enumerate(part):\n",
    "                if j == i:\n",
    "                    # On ajoute lst[0] dans le bloc d\"indice i ...\n",
    "                    new_part.append([lst[0]] + bloc)\n",
    "                else:\n",
    "                    # ... sinon on recopie le bloc.\n",
    "                    new_part.append(bloc[:])\n",
    "            lst_part.append(new_part)\n",
    "    \n",
    "    return lst_part\n",
    "\n",
    "\n",
    "def partitionne_stirling_dyn(lst, k, memo=None):\n",
    "    \"\"\"\n",
    "    Version dynamique de partitionne_stirling_rec qui utilise la mémorisation.\n",
    "    \"\"\"\n",
    "    if memo is None:\n",
    "        memo = {}\n",
    "    \n",
    "    n = len(lst)\n",
    "    \n",
    "    # Créer une clé unique\n",
    "    key = (tuple(lst), k)\n",
    "    \n",
    "    # Si le résultat est déjà dans la mémoire, le retourner.\n",
    "    if key in memo:\n",
    "        return memo[key]\n",
    "\n",
    "    # -------------\n",
    "    # Cas de base :\n",
    "    # -------------\n",
    "    if k == 0 and n == 0:\n",
    "        return [[]]\n",
    "    \n",
    "    if (k == 0 or n == 0) and (k != n):\n",
    "        return []\n",
    "    \n",
    "    if k == n:\n",
    "        return [ [[x] for x in lst] ]\n",
    "    \n",
    "    if k == 1:\n",
    "        return [[lst]]\n",
    "    \n",
    "    if k > n:\n",
    "        return []\n",
    "\n",
    "    # Initialiser la liste des partitions\n",
    "    lst_part = []\n",
    "    \n",
    "    # 1) Ajouter lst[0] dans un nouveau bloc\n",
    "    for part in partitionne_stirling_dyn(lst[1:], k - 1, memo):\n",
    "        new_part = [[lst[0]]] + part\n",
    "        lst_part.append(new_part)\n",
    "    \n",
    "    # 2) Ajouter lst[0] dans chacun des blocs existants\n",
    "    for part in partitionne_stirling_dyn(lst[1:], k, memo):\n",
    "        for i in range(len(part)):\n",
    "            new_part = []\n",
    "            for j, bloc in enumerate(part):\n",
    "                if j == i:\n",
    "                    new_part.append([lst[0]] + bloc)\n",
    "                else:\n",
    "                    new_part.append(bloc[:])\n",
    "            lst_part.append(new_part)\n",
    "    \n",
    "    # Mémoriser le résultat.\n",
    "    memo[key] = lst_part\n",
    "    \n",
    "    return lst_part\n",
    "\n",
    "\n",
    "# Exemple\n",
    "A = list(range(1, 11))\n",
    "k = 5\n",
    "partitions = partitionne_stirling_dyn(A, k)\n",
    "for p in partitions[:4]:\n",
    "    print(p)\n",
    "print(\"...\")\n",
    "for p in partitions[-4:]:\n",
    "    print(p)\n",
    "\n",
    "display(Math(rf\"S({len(A)},{k}) = {len(partitions)}\"))\n"
   ]
  },
  {
   "cell_type": "code",
   "execution_count": 9,
   "metadata": {},
   "outputs": [
    {
     "name": "stdout",
     "output_type": "stream",
     "text": [
      "[[0, 1, 2, 3, 4, 5]]\n",
      "[[0], [1, 2, 3, 4, 5]]\n",
      "[[0, 1], [2, 3, 4, 5]]\n",
      "[[1], [0, 2, 3, 4, 5]]\n",
      "...\n",
      "[[1], [2], [0, 3], [4], [5]]\n",
      "[[1], [2], [3], [0, 4], [5]]\n",
      "[[1], [2], [3], [4], [0, 5]]\n",
      "[[0], [1], [2], [3], [4], [5]]\n"
     ]
    },
    {
     "data": {
      "text/latex": [
       "$\\displaystyle B(6) = 203$"
      ],
      "text/plain": [
       "<IPython.core.display.Math object>"
      ]
     },
     "metadata": {},
     "output_type": "display_data"
    }
   ],
   "source": [
    "def partitionne_bell(lst):\n",
    "    \"\"\"\n",
    "    Retourne la liste de toutes les partitions des éléments de lst en s\"inspirant\n",
    "    de la définition du nombre de Bell comme une somme de nombres de Stirling de\n",
    "    seconde espèce.\n",
    "    \"\"\"\n",
    "    n = len(lst)\n",
    "    all_part = []\n",
    "    for k in range(n+1):\n",
    "        all_part = all_part + partitionne_stirling_dyn(lst, k)\n",
    "    return all_part\n",
    "\n",
    "\n",
    "# Exemple\n",
    "A = list(range(0, 6))\n",
    "all_partitions = partitionne_bell(A)\n",
    "for p in all_partitions[:4]:\n",
    "    print(p)\n",
    "print(\"...\")\n",
    "for p in all_partitions[-4:]:\n",
    "    print(p)\n",
    "display(Math(rf\"B({len(A)}) = {len(all_partitions)}\"))\n",
    "        "
   ]
  },
  {
   "cell_type": "markdown",
   "metadata": {},
   "source": [
    "## Statistiques sur les permutations de type A"
   ]
  },
  {
   "cell_type": "markdown",
   "metadata": {},
   "source": [
    "Descente, ascension, excédence et inversion."
   ]
  },
  {
   "cell_type": "code",
   "execution_count": 10,
   "metadata": {},
   "outputs": [
    {
     "name": "stdout",
     "output_type": "stream",
     "text": [
      "Permutation:\n",
      "[0, 1, 2, 3, 4, 5, 8, 7, 9, 6]\n",
      "Descentes :\n",
      "[6, 8]\n",
      "Ascensions :\n",
      "[0, 1, 2, 3, 4, 5, 7]\n",
      "Excédence :\n",
      "[6, 8]\n",
      "Inversions :\n",
      "[(6, 7), (6, 9), (7, 9), (8, 9)]\n"
     ]
    }
   ],
   "source": [
    "def liste_desc(perm):\n",
    "    \"\"\"\n",
    "    Retourne les indices i tels que σ(i) > σ(i+1).\n",
    "    \"\"\"\n",
    "    n = len(perm)\n",
    "    lst = [i for i in range(n-1) if perm[i] > perm[i+1]]\n",
    "    return lst\n",
    "\n",
    "\n",
    "def liste_asc(perm):\n",
    "    \"\"\"\n",
    "    Retourne les indices i tels que σ(i) < σ(i+1).\n",
    "    \"\"\"\n",
    "    n = len(perm)\n",
    "    lst = [i for i in range(n-1) if perm[i] < perm[i+1]]\n",
    "    return lst\n",
    "\n",
    "\n",
    "def liste_exce(perm):\n",
    "    \"\"\"\n",
    "    Retourne les indices i tels que σ(i) > i.\n",
    "    \"\"\"\n",
    "    n = len(perm)\n",
    "    lst = [i for i in range(n-1) if perm[i] > i]\n",
    "    return lst\n",
    "\n",
    "\n",
    "def liste_inv(perm):\n",
    "    \"\"\"\n",
    "    Retourne les paires (i, j) avec i < j et σ(i) > σ(j).\n",
    "    \"\"\"\n",
    "    n = len(perm)\n",
    "    lst = [(i, j) for i in range(n) for j in range(i+1, n) if perm[i] > perm[j]]\n",
    "    return lst\n",
    "\n",
    "\n",
    "# Exemple\n",
    "n = 10\n",
    "n_perm = [0, 1, 2, 3, 4, 5, 8, 7, 9, 6]\n",
    "\n",
    "print(f\"Permutation:\\n{n_perm}\")\n",
    "print(f\"Descentes :\\n{liste_desc(n_perm)}\")\n",
    "print(f\"Ascensions :\\n{liste_asc(n_perm)}\")\n",
    "print(f\"Excédence :\\n{liste_exce(n_perm)}\")\n",
    "print(f\"Inversions :\\n{liste_inv(n_perm)}\")\n",
    "\n"
   ]
  },
  {
   "cell_type": "markdown",
   "metadata": {},
   "source": [
    "Visualisation des distributions des statistiques."
   ]
  },
  {
   "cell_type": "code",
   "execution_count": 11,
   "metadata": {},
   "outputs": [
    {
     "data": {
      "image/png": "[encoded data removed]",
      "text/plain": [
       "<Figure size 1000x800 with 4 Axes>"
      ]
     },
     "metadata": {},
     "output_type": "display_data"
    },
    {
     "name": "stdout",
     "output_type": "stream",
     "text": [
      "Analyse sur 40320 permutations de taille 8.\n"
     ]
    }
   ],
   "source": [
    "# Paramètres\n",
    "n = 8\n",
    "A = list(range(n))\n",
    "\n",
    "# Générer les permutations\n",
    "permutations = permute_rec(A)\n",
    "\n",
    "# Calculer les statistiques\n",
    "desc_counts = []\n",
    "asc_counts  = []\n",
    "exce_counts = []\n",
    "inv_counts  = []\n",
    "\n",
    "for perm in permutations:\n",
    "    desc_counts.append(len(liste_desc(perm)))\n",
    "    asc_counts.append(len(liste_asc(perm)))\n",
    "    exce_counts.append(len(liste_exce(perm)))\n",
    "    inv_counts.append(len(liste_inv(perm)))\n",
    "\n",
    "# ------------\n",
    "# Visualiser\n",
    "# ------------\n",
    "fig, axes = plt.subplots(2, 2, figsize=(10, 8))\n",
    "\n",
    "# Nombre de descentes\n",
    "axes[0,0].hist(desc_counts, bins=\"auto\", color=\"#90d743\", edgecolor=\"black\")\n",
    "axes[0,0].set_xlabel(\"Nombre de descentes\")\n",
    "axes[0,0].set_ylabel(\"Effectifs\")\n",
    "\n",
    "# Nombre d\"ascensions\n",
    "axes[0,1].hist(asc_counts, bins=\"auto\", color=\"#35b779\", edgecolor=\"black\")\n",
    "axes[0,1].set_xlabel(\"Nombre d'ascensions\")\n",
    "axes[0,1].set_ylabel(\"Effectifs\")\n",
    "\n",
    "# Nombre d\"excédences\n",
    "axes[1,0].hist(exce_counts, bins=\"auto\", color=\"#21918c\", edgecolor=\"black\")\n",
    "axes[1,0].set_xlabel(\"Nombre d'excédences\")\n",
    "axes[1,0].set_ylabel(\"Effectifs\")\n",
    "\n",
    "# Nombre d\"inversions\n",
    "axes[1,1].hist(inv_counts, bins=\"auto\", color=\"#31688e\", edgecolor=\"black\")\n",
    "axes[1,1].set_xlabel(\"Nombre d'inversions\")\n",
    "axes[1,1].set_ylabel(\"Effectifs\")\n",
    "\n",
    "plt.show()\n",
    "\n",
    "print(f\"Analyse sur {len(permutations)} permutations de taille {n}.\")"
   ]
  },
  {
   "cell_type": "markdown",
   "metadata": {},
   "source": [
    "## Partitions de type B"
   ]
  },
  {
   "cell_type": "markdown",
   "metadata": {},
   "source": [
    "### Générer des partitions de type B."
   ]
  },
  {
   "cell_type": "code",
   "execution_count": 90,
   "metadata": {},
   "outputs": [
    {
     "name": "stdout",
     "output_type": "stream",
     "text": [
      "[[0, 1, 2, 3]]\n",
      "[[0], [1, 2, 3]]\n",
      "[[0], [1, 2, -3]]\n",
      "[[0], [1, -2, 3]]\n",
      "[[0], [1, -2, -3]]\n",
      "...\n",
      "[[0], [1, -3], [2]]\n",
      "[[0, 1], [2], [3]]\n",
      "[[0, 2], [1], [3]]\n",
      "[[0, 3], [1], [2]]\n",
      "[[0], [1], [2], [3]]\n",
      "Nombre de partitions de type B pour n=3 : 24\n",
      "Nombre de partitions de type A pour n=3 : 15\n"
     ]
    }
   ],
   "source": [
    "# Une partition de type B est une partition d'un ensemble ⟨n⟩ qui respecte les propriétés suivantes :\n",
    "# 1. Pour tout i ≥ 1, les blocs π2i et π2i−1 sont opposés, c'est-à-dire que π2i = −π2i−1,\n",
    "#    où −β représente l'ensemble des opposés des éléments de β (−β = {−a : a ∈ β}).\n",
    "# 2. Il existe un bloc spécial appelé le bloc zéro (π0), qui est symétrique, c'est-à-dire que si a ∈ π0,\n",
    "#    alors −a ∈ π0 également.\n",
    "#\n",
    "# Représentation d'Adler :\n",
    "# - Dans le bloc zéro, tous les éléments négatifs sont supprimés.\n",
    "# - Dans chaque bloc, les éléments sont triés par valeur absolue croissante.\n",
    "# - Pour chaque paire de blocs opposés, seul le bloc avec le premier élément positif est conservé.\n",
    "\n",
    "# Stratégie pour générer une partition de type B d'un ensemble de taille et divisée en k blocs :\n",
    "# 1.1. Récupérer une partition de type A d'un ensemble de taille n divisée en k blocs (liste de k sous-listes).\n",
    "# 1.2. Trier tous les éléments de chaque sous-liste par valeur croissante.\n",
    "# 1.3. Trier les sous-listes par valeur croissante de leur premier élément.\n",
    "# 1.4. Récupérer la liste des indices des éléments qui ne sont pas les premiers de leur bloc et pas dans le bloc zéro.\n",
    "# 2. Générer toutes les combinaisons des indices de la liste obtenue à l'étape 1.4. de longueur 0 à la longueur de la liste.\n",
    "# 3. Pour chaque combinaison d'indices, créer une nouvelle partition de type B en inversant le signe aux indices de la combinaison.\n",
    "\n",
    "\n",
    "def sort_partitions(partitions):\n",
    "    \"\"\"\n",
    "    Trie les partitions de type B (ou A) selon la représentation d'Adler.\n",
    "    \"\"\"\n",
    "    sorted_partitions = []\n",
    "    for part in partitions:\n",
    "        # Trier les blocs par valeur croissante de leur premier élément\n",
    "        part.sort(key=lambda x: x[0])\n",
    "        # Trier les éléments de chaque bloc par valeur absolue croissante\n",
    "        for bloc in part:\n",
    "            bloc.sort(key=lambda x: abs(x))\n",
    "        sorted_partitions.append(part)\n",
    "    return sorted_partitions\n",
    "\n",
    "\n",
    "def get_signable_inds(part):\n",
    "    \"\"\"\n",
    "    Récupère la liste des indices des éléments qui ne sont pas les premiers de leur bloc et pas dans le bloc zéro.\n",
    "    \"\"\"\n",
    "    liste_signable_inds = []\n",
    "    ind = 0\n",
    "    for i in range(len(part)):\n",
    "        for j in range(0, len(part[i])):\n",
    "            if part[i][0] != 0 and part[i][j] != part[i][0]:\n",
    "                liste_signable_inds.append(ind)\n",
    "            ind += 1\n",
    "    return liste_signable_inds\n",
    "\n",
    "\n",
    "def convert_part_A_to_B(part_A, permu_signed_inds):\n",
    "    \"\"\"\n",
    "    Convertit une partition de type A en une partition de type B en inversant le signe\n",
    "    aux indices spécifiés par permu_signed_inds.\n",
    "    \"\"\"\n",
    "    ind = 0\n",
    "    part_B = []\n",
    "    for i in range(len(part_A)):\n",
    "        bloc = []\n",
    "        for j in range(0, len(part_A[i])):\n",
    "            if ind in permu_signed_inds:\n",
    "                bloc.append(-part_A[i][j])\n",
    "            else:\n",
    "                bloc.append(part_A[i][j])\n",
    "            ind += 1\n",
    "        part_B.append(bloc)\n",
    "    return part_B\n",
    "\n",
    "\n",
    "def get_all_parts_B_from_A(parts_A):\n",
    "    \"\"\"\n",
    "    Récupère toutes les partitions de type B à partir d'une liste de partitions de type A.\n",
    "    \"\"\"\n",
    "    all_part_B = []\n",
    "    for part_A in parts_A:\n",
    "        # Trier la partition de type A selon la représentation d'Adler\n",
    "        part_A = sort_partitions([part_A])[0]\n",
    "        # Récupérer la liste des indices signables\n",
    "        liste_signable_inds = get_signable_inds(part_A)\n",
    "        # Générer toutes les combinaisons d'indices signables\n",
    "        combinaisons = combine_dyn(liste_signable_inds)\n",
    "        for comb in combinaisons:\n",
    "            # Convertir la partition de type A en type B\n",
    "            part_B = convert_part_A_to_B(part_A, comb)\n",
    "            all_part_B.append(part_B)\n",
    "    return all_part_B\n",
    "\n",
    "\n",
    "# Paramètres\n",
    "n = 3\n",
    "E = list(range(n+1))\n",
    "\n",
    "# Générer toutes les partitions de type A.\n",
    "parts_A = partitionne_bell(E)\n",
    "\n",
    "# Générer toutes les partitions de type B à partir des partitions de type A.\n",
    "parts_B = get_all_parts_B_from_A(parts_A)\n",
    "\n",
    "# Afficher les résultats\n",
    "if len(parts_B) > 10:\n",
    "    for i in range(5):\n",
    "        print(parts_B[i])\n",
    "    print(\"...\")\n",
    "    for i in range(-5, 0):\n",
    "        print(parts_B[i])\n",
    "else:\n",
    "    for i in range(len(parts_B)):\n",
    "        print(parts_B[i])\n",
    "print(f\"Nombre de partitions de type B pour n={n} : {len(parts_B)}\")\n",
    "print(f\"Nombre de partitions de type A pour n={n} : {len(parts_A)}\")\n"
   ]
  },
  {
   "cell_type": "markdown",
   "metadata": {},
   "source": [
    "### Statistiques sur les partitions de type B."
   ]
  },
  {
   "cell_type": "markdown",
   "metadata": {},
   "source": [
    "Nombre de Dowling :\n",
    "\n",
    "$$\n",
    "D_n \\;=\\; \\sum_{i=0}^n \\binom{n}{i}\n",
    "         \\sum_{k=0}^{\\,n-i} 2^{\\,n-i-k}\\,S(n-i,k).\n",
    "$$\n",
    "\n",
    "Le nombre de Dowling est une généralisation des nombres de Bell, qui compte les partitions de type B. Les nombres de Dowling sont définis pour n ≥ 0 et k ≥ 0. Ils sont calculés à l'aide de la formule ci-dessus."
   ]
  },
  {
   "cell_type": "code",
   "execution_count": null,
   "metadata": {},
   "outputs": [
    {
     "data": {
      "text/latex": [
       "$\\displaystyle D(0) = 1$"
      ],
      "text/plain": [
       "<IPython.core.display.Math object>"
      ]
     },
     "metadata": {},
     "output_type": "display_data"
    },
    {
     "data": {
      "text/latex": [
       "$\\displaystyle D(1) = 2$"
      ],
      "text/plain": [
       "<IPython.core.display.Math object>"
      ]
     },
     "metadata": {},
     "output_type": "display_data"
    },
    {
     "data": {
      "text/latex": [
       "$\\displaystyle D(2) = 6$"
      ],
      "text/plain": [
       "<IPython.core.display.Math object>"
      ]
     },
     "metadata": {},
     "output_type": "display_data"
    },
    {
     "data": {
      "text/latex": [
       "$\\displaystyle D(3) = 24$"
      ],
      "text/plain": [
       "<IPython.core.display.Math object>"
      ]
     },
     "metadata": {},
     "output_type": "display_data"
    },
    {
     "data": {
      "text/latex": [
       "$\\displaystyle D(4) = 116$"
      ],
      "text/plain": [
       "<IPython.core.display.Math object>"
      ]
     },
     "metadata": {},
     "output_type": "display_data"
    },
    {
     "data": {
      "text/latex": [
       "$\\displaystyle D(5) = 648$"
      ],
      "text/plain": [
       "<IPython.core.display.Math object>"
      ]
     },
     "metadata": {},
     "output_type": "display_data"
    },
    {
     "data": {
      "text/latex": [
       "$\\displaystyle D(6) = 4088$"
      ],
      "text/plain": [
       "<IPython.core.display.Math object>"
      ]
     },
     "metadata": {},
     "output_type": "display_data"
    },
    {
     "data": {
      "text/latex": [
       "$\\displaystyle D(7) = 28640$"
      ],
      "text/plain": [
       "<IPython.core.display.Math object>"
      ]
     },
     "metadata": {},
     "output_type": "display_data"
    },
    {
     "data": {
      "text/latex": [
       "$\\displaystyle D(8) = 219920$"
      ],
      "text/plain": [
       "<IPython.core.display.Math object>"
      ]
     },
     "metadata": {},
     "output_type": "display_data"
    },
    {
     "data": {
      "text/latex": [
       "$\\displaystyle D(9) = 1832224$"
      ],
      "text/plain": [
       "<IPython.core.display.Math object>"
      ]
     },
     "metadata": {},
     "output_type": "display_data"
    }
   ],
   "source": [
    "def calcule_dowling(n):\n",
    "    \"\"\"\n",
    "    Fonction pour calculer le nombre de partitions de type B selon la formule du nombre de Dowling\n",
    "    \"\"\"\n",
    "    dn = 0\n",
    "    for i in range(n+1):\n",
    "        # coeff binomial C(n, i)\n",
    "        c = coeff_bino_dyn(n, i)\n",
    "        # somme sur k\n",
    "        s = 0\n",
    "        for k in range(n - i + 1):\n",
    "            s += (2**(n - i - k)) * calcule_stirling_dyn(n - i, k)\n",
    "        dn += c * s\n",
    "    return dn\n",
    "\n",
    "# Exemple : A007405\n",
    "for i in range(0, 10):\n",
    "    display(Math(rf\"D({i}) = {calcule_dowling(i)}\"))"
   ]
  },
  {
   "cell_type": "markdown",
   "metadata": {},
   "source": [
    "Let $w_n$ denote the number of type B set partitions without zero block over $<n>$.\n",
    "$$\n",
    "w_n \\;=\\; \\sum_{k=0}^n 2^{\\,n-k}\\,S(n,k).\n",
    "$$"
   ]
  },
  {
   "cell_type": "code",
   "execution_count": null,
   "metadata": {},
   "outputs": [
    {
     "data": {
      "text/latex": [
       "$\\displaystyle w_0 = 1$"
      ],
      "text/plain": [
       "<IPython.core.display.Math object>"
      ]
     },
     "metadata": {},
     "output_type": "display_data"
    },
    {
     "data": {
      "text/latex": [
       "$\\displaystyle w_1 = 1$"
      ],
      "text/plain": [
       "<IPython.core.display.Math object>"
      ]
     },
     "metadata": {},
     "output_type": "display_data"
    },
    {
     "data": {
      "text/latex": [
       "$\\displaystyle w_2 = 3$"
      ],
      "text/plain": [
       "<IPython.core.display.Math object>"
      ]
     },
     "metadata": {},
     "output_type": "display_data"
    },
    {
     "data": {
      "text/latex": [
       "$\\displaystyle w_3 = 11$"
      ],
      "text/plain": [
       "<IPython.core.display.Math object>"
      ]
     },
     "metadata": {},
     "output_type": "display_data"
    },
    {
     "data": {
      "text/latex": [
       "$\\displaystyle w_4 = 49$"
      ],
      "text/plain": [
       "<IPython.core.display.Math object>"
      ]
     },
     "metadata": {},
     "output_type": "display_data"
    },
    {
     "data": {
      "text/latex": [
       "$\\displaystyle w_5 = 257$"
      ],
      "text/plain": [
       "<IPython.core.display.Math object>"
      ]
     },
     "metadata": {},
     "output_type": "display_data"
    },
    {
     "data": {
      "text/latex": [
       "$\\displaystyle w_6 = 1539$"
      ],
      "text/plain": [
       "<IPython.core.display.Math object>"
      ]
     },
     "metadata": {},
     "output_type": "display_data"
    },
    {
     "data": {
      "text/latex": [
       "$\\displaystyle w_7 = 10299$"
      ],
      "text/plain": [
       "<IPython.core.display.Math object>"
      ]
     },
     "metadata": {},
     "output_type": "display_data"
    },
    {
     "data": {
      "text/latex": [
       "$\\displaystyle w_8 = 75905$"
      ],
      "text/plain": [
       "<IPython.core.display.Math object>"
      ]
     },
     "metadata": {},
     "output_type": "display_data"
    },
    {
     "data": {
      "text/latex": [
       "$\\displaystyle w_9 = 609441$"
      ],
      "text/plain": [
       "<IPython.core.display.Math object>"
      ]
     },
     "metadata": {},
     "output_type": "display_data"
    }
   ],
   "source": [
    "def calcule_dowling_no_zero_block(n):\n",
    "    \"\"\"\n",
    "    Fonction pour calculer le nombre de partitions de type B sans bloc zéro selon la formule du nombre de Dowling\n",
    "    \"\"\"\n",
    "    wn = 0\n",
    "    for k in range(0, n+1):\n",
    "        wn += (2**(n - k)) * calcule_stirling_dyn(n, k)\n",
    "    return wn\n",
    "\n",
    "\n",
    "# Exemple : A004211\n",
    "for i in range(0, 10):\n",
    "    display(Math(rf\"w_{i} = {calcule_dowling_no_zero_block(i)}\"))\n"
   ]
  },
  {
   "cell_type": "markdown",
   "metadata": {},
   "source": [
    "### Type B separated set partitions"
   ]
  },
  {
   "cell_type": "code",
   "execution_count": 91,
   "metadata": {},
   "outputs": [
    {
     "name": "stdout",
     "output_type": "stream",
     "text": [
      "[[0], [1, 3], [2, 4]]\n",
      "[[0], [1, 3], [2, -4]]\n",
      "[[0], [1, -3], [2, 4]]\n",
      "[[0], [1, -3], [2, -4]]\n",
      "[[0], [1], [2, 4], [3]]\n",
      "...\n",
      "[[0], [1, 3], [2], [4]]\n",
      "[[0], [1, -3], [2], [4]]\n",
      "[[0], [1, 4], [2], [3]]\n",
      "[[0], [1, -4], [2], [3]]\n",
      "[[0], [1], [2], [3], [4]]\n",
      "Nombre de partitions de type B séparées sans b0 pour n=4 : 11\n",
      "Nombre de partitions de type B pour n=4 : 116\n",
      "Nombre de partitions de type B pour n=3 : 24\n",
      "Nombre de partitions de type B sans b0 pour n=3 : 11\n"
     ]
    }
   ],
   "source": [
    "# A type B separated set partition is a partition without zero block and in\n",
    "# which all integers in absolute value are non-consecutive.\n",
    "\n",
    "\n",
    "def is_separated(part):\n",
    "    \"\"\"\n",
    "    Vérifie si une partition de type B est séparée.\n",
    "    \"\"\"\n",
    "    # Vérifier les blocs\n",
    "    for bloc in part:\n",
    "        # Vérifier si les éléments sont consécutifs\n",
    "        for i in range(len(bloc) - 1):\n",
    "            if abs(bloc[i]) + 1 == abs(bloc[i + 1]):\n",
    "                return False\n",
    "    return True\n",
    "\n",
    "\n",
    "def has_zero_block(part):\n",
    "    \"\"\"\n",
    "    Vérifie si une partition de type B a un bloc zéro non vide.\n",
    "    \"\"\"\n",
    "    # Si la partition est vide, il n'y a pas de bloc zéro.\n",
    "    if len(part) == 0:\n",
    "        return False\n",
    "    \n",
    "    for bloc in part:\n",
    "        # Si le bloc qui contient 0 est ne contenant que 0\n",
    "        # alors la partition n'a pas de bloc zéro.\n",
    "        if len(bloc) == 1 and bloc[0] == 0:\n",
    "            return False\n",
    "    return True\n",
    "\n",
    "\n",
    "# Paramètres\n",
    "n = 4\n",
    "E = list(range(n+1))\n",
    "\n",
    "# Générer toutes les partitions de type A.\n",
    "parts_A = partitionne_bell(E)\n",
    "\n",
    "# Générer toutes les partitions de type B à partir des partitions de type A.\n",
    "parts_B = get_all_parts_B_from_A(parts_A)\n",
    "\n",
    "# Filtrer les partitions de type B pour ne garder que celles qui sont séparées.\n",
    "parts_B_separated = [part for part in parts_B if is_separated(part) and not has_zero_block(part)]\n",
    "\n",
    "# Afficher les résultats\n",
    "if len(parts_B_separated) > 10:\n",
    "    for i in range(5):\n",
    "        print(parts_B_separated[i])\n",
    "    print(\"...\")\n",
    "    for i in range(-5, 0):\n",
    "        print(parts_B_separated[i])\n",
    "else:\n",
    "    for i in range(len(parts_B_separated)):\n",
    "        print(parts_B_separated[i])\n",
    "\n",
    "print(f\"Nombre de partitions de type B séparées sans b0 pour n={n} : {len(parts_B_separated)}\")\n",
    "print(f\"Nombre de partitions de type B pour n={n} : {len(parts_B)}\")\n",
    "\n",
    "\n",
    "n = n-1\n",
    "E = list(range(n+1))\n",
    "parts_A = partitionne_bell(E)\n",
    "parts_B = get_all_parts_B_from_A(parts_A)\n",
    "print(f\"Nombre de partitions de type B pour n={n} : {len(parts_B)}\")\n",
    "parts_B_without_zero = [part for part in parts_B if not has_zero_block(part)]\n",
    "print(f\"Nombre de partitions de type B sans b0 pour n={n} : {len(parts_B_without_zero)}\")\n"
   ]
  }
 ],
 "metadata": {
  "kernelspec": {
   "display_name": "Python 3",
   "language": "python",
   "name": "python3"
  },
  "language_info": {
   "codemirror_mode": {
    "name": "ipython",
    "version": 3
   },
   "file_extension": ".py",
   "mimetype": "text/x-python",
   "name": "python",
   "nbconvert_exporter": "python",
   "pygments_lexer": "ipython3",
   "version": "3.12.1"
  }
 },
 "nbformat": 4,
 "nbformat_minor": 2
}
