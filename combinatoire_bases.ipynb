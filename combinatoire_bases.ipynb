{
 "cells": [
  {
   "cell_type": "markdown",
   "metadata": {},
   "source": [
    "# **Combinatoire : notions préalables**\n",
    "### Romain GERARD"
   ]
  },
  {
   "cell_type": "markdown",
   "metadata": {},
   "source": [
    "Importer les packages."
   ]
  },
  {
   "cell_type": "code",
   "execution_count": 2,
   "metadata": {},
   "outputs": [],
   "source": [
    "import numpy as np\n",
    "np.set_printoptions(suppress=True)\n",
    "import pandas as pd\n",
    "import matplotlib.pyplot as plt\n",
    "from IPython.display import display, Math, Latex\n",
    "from sympy import symbols, expand, latex"
   ]
  },
  {
   "cell_type": "markdown",
   "metadata": {},
   "source": [
    "## Factorielle et coefficient binomial"
   ]
  },
  {
   "cell_type": "code",
   "execution_count": 3,
   "metadata": {},
   "outputs": [
    {
     "data": {
      "text/latex": [
       "$\\displaystyle 7! = 5040$"
      ],
      "text/plain": [
       "<IPython.core.display.Math object>"
      ]
     },
     "metadata": {},
     "output_type": "display_data"
    },
    {
     "data": {
      "text/latex": [
       "$\\displaystyle \\binom{10}{2} = 45$"
      ],
      "text/plain": [
       "<IPython.core.display.Math object>"
      ]
     },
     "metadata": {},
     "output_type": "display_data"
    },
    {
     "data": {
      "text/latex": [
       "$\\displaystyle \\binom{100}{20} = 535983370403809682970$"
      ],
      "text/plain": [
       "<IPython.core.display.Math object>"
      ]
     },
     "metadata": {},
     "output_type": "display_data"
    }
   ],
   "source": [
    "def facto_rec(x):\n",
    "    \"\"\"\n",
    "    Calcule la factorielle de x de manière récursive.\n",
    "    \"\"\"\n",
    "    if x == 0:\n",
    "        return 1\n",
    "    return x * facto_rec(x-1)\n",
    "\n",
    "def coeff_bino(n, k):\n",
    "    \"\"\"\n",
    "    Calcule le coefficient binomial C(n, k).\n",
    "    \"\"\"\n",
    "    return facto_rec(n) // (facto_rec(k)*facto_rec(n-k))\n",
    "\n",
    "def coeff_bino_rec(n, k):\n",
    "    \"\"\"\n",
    "    Calcule le coefficient binomial C(n, k) de manière récursive.\n",
    "    \"\"\"\n",
    "    if k > n:\n",
    "        return 0\n",
    "    if k == 0 or k == n:\n",
    "        return 1\n",
    "    \n",
    "    return coeff_bino_rec(n-1, k-1) + coeff_bino_rec(n-1, k)\n",
    "\n",
    "def coeff_bino_dyn(n, k, memo):\n",
    "    \"\"\"\n",
    "    Calcule le coefficient binomial C(n, k) de manière récursive et dynamique.\n",
    "    \"\"\"\n",
    "    if k > n:\n",
    "        return 0\n",
    "    if k == 0 or k == n:\n",
    "        return 1\n",
    "    \n",
    "    if (n, k) not in memo:\n",
    "        memo[(n, k)] = coeff_bino_dyn(n-1, k-1, memo) + coeff_bino_dyn(n-1, k, memo)\n",
    "    return memo[(n, k)]\n",
    "\n",
    "\n",
    "# Exemple: 7!\n",
    "x = 7\n",
    "display(Math(rf\"{x}! = {facto_rec(x)}\"))\n",
    "\n",
    "# Exemple: C(10, 5)\n",
    "n, k = 10, 2\n",
    "display(Math(rf\"\\binom{{{n}}}{{{k}}} = {coeff_bino_rec(n, k)}\"))\n",
    "\n",
    "# Exemple dynamique : C(100, 20)\n",
    "memo_bino = {}\n",
    "display(Math(rf\"\\binom{{{100}}}{{{20}}} = {coeff_bino_dyn(100, 20, memo_bino)}\"))\n"
   ]
  },
  {
   "cell_type": "markdown",
   "metadata": {},
   "source": [
    "## Permutations"
   ]
  },
  {
   "cell_type": "code",
   "execution_count": 4,
   "metadata": {},
   "outputs": [
    {
     "name": "stdout",
     "output_type": "stream",
     "text": [
      "A = [1, 2, 3, 4, 5, 6, 7]\n",
      "\n",
      "Ensemble de toutes les n-permutations de A :\n",
      "[1, 2, 3, 4, 5, 6, 7]\n",
      "[1, 2, 3, 4, 5, 7, 6]\n",
      "[1, 2, 3, 4, 6, 5, 7]\n",
      "[1, 2, 3, 4, 6, 7, 5]\n",
      ". . .\n",
      "[7, 6, 5, 4, 3, 1, 2]\n",
      "[7, 6, 5, 4, 3, 2, 1]\n"
     ]
    },
    {
     "data": {
      "text/latex": [
       "$\\displaystyle |\\sigma_n| = 5040$"
      ],
      "text/plain": [
       "<IPython.core.display.Math object>"
      ]
     },
     "metadata": {},
     "output_type": "display_data"
    },
    {
     "data": {
      "text/latex": [
       "$\\displaystyle |A|! = 5040$"
      ],
      "text/plain": [
       "<IPython.core.display.Math object>"
      ]
     },
     "metadata": {},
     "output_type": "display_data"
    }
   ],
   "source": [
    "def permute_rec(lst):\n",
    "    \"\"\"\n",
    "    Retourne la liste de toutes les permutations de lst, de manière récursive.\n",
    "    \"\"\"\n",
    "    if len(lst) == 0:\n",
    "        return [[]]\n",
    "\n",
    "    result = []\n",
    "    for i in range(len(lst)):\n",
    "        current = lst[i]\n",
    "        remaining = lst[:i] + lst[i+1:]\n",
    "        for e in permute_rec(remaining):\n",
    "            result.append([current] + e)\n",
    "    return result\n",
    "\n",
    "\n",
    "# Exemple\n",
    "n = 7\n",
    "A = list(range(1, n+1))\n",
    "sigma_n = permute_rec(A)\n",
    "\n",
    "print(\"A =\", A)\n",
    "print()\n",
    "print(\"Ensemble de toutes les n-permutations de A :\")\n",
    "print(sigma_n[0])\n",
    "print(sigma_n[1])\n",
    "print(sigma_n[2])\n",
    "print(sigma_n[3])\n",
    "print(\". . .\")\n",
    "print(sigma_n[-2])\n",
    "print(sigma_n[-1])\n",
    "\n",
    "display(Math(rf\"|\\sigma_n| = {len(sigma_n)}\"))\n",
    "display(Math(rf\"|A|! = {facto_rec(len(A))}\"))\n"
   ]
  },
  {
   "cell_type": "markdown",
   "metadata": {},
   "source": [
    "## Nombre de Stirling de seconde espèce"
   ]
  },
  {
   "cell_type": "code",
   "execution_count": 5,
   "metadata": {},
   "outputs": [
    {
     "data": {
      "text/latex": [
       "$\\displaystyle \n",
       "\\textbf{Nombres de Stirling de seconde espèce} :\n",
       "\\\\\n",
       "\\text{Définition récursive : }\n",
       "S(n, k) = S(n-1, k-1) + k \\, S(n-1, k),\n",
       "\\quad S(0, 0) = 1,\n",
       "\\quad S(x, 0) = S(0, y) = 0 \\quad \\text{pour tout } x>0, y>0.\n",
       "$"
      ],
      "text/plain": [
       "<IPython.core.display.Math object>"
      ]
     },
     "metadata": {},
     "output_type": "display_data"
    },
    {
     "data": {
      "text/latex": [
       "$\\displaystyle S(4,0) = 0$"
      ],
      "text/plain": [
       "<IPython.core.display.Math object>"
      ]
     },
     "metadata": {},
     "output_type": "display_data"
    },
    {
     "data": {
      "text/latex": [
       "$\\displaystyle S(4,1) = 1$"
      ],
      "text/plain": [
       "<IPython.core.display.Math object>"
      ]
     },
     "metadata": {},
     "output_type": "display_data"
    },
    {
     "data": {
      "text/latex": [
       "$\\displaystyle S(4,2) = 7$"
      ],
      "text/plain": [
       "<IPython.core.display.Math object>"
      ]
     },
     "metadata": {},
     "output_type": "display_data"
    },
    {
     "data": {
      "text/latex": [
       "$\\displaystyle S(4,3) = 6$"
      ],
      "text/plain": [
       "<IPython.core.display.Math object>"
      ]
     },
     "metadata": {},
     "output_type": "display_data"
    },
    {
     "data": {
      "text/latex": [
       "$\\displaystyle S(4,4) = 1$"
      ],
      "text/plain": [
       "<IPython.core.display.Math object>"
      ]
     },
     "metadata": {},
     "output_type": "display_data"
    },
    {
     "data": {
      "text/latex": [
       "$\\displaystyle S(10,5) = 42525$"
      ],
      "text/plain": [
       "<IPython.core.display.Math object>"
      ]
     },
     "metadata": {},
     "output_type": "display_data"
    }
   ],
   "source": [
    "def calcule_stirling_rec(n, k):\n",
    "    \"\"\"\n",
    "    Calcule le nombre de Stirling de seconde espèce S(n, k)\n",
    "    selon une définition récursive.\n",
    "    \n",
    "    S(n, k) = S(n-1, k-1) + k * S(n-1, k)\n",
    "    avec les cas de base :\n",
    "       - S(0, 0) = 1\n",
    "       - S(n, 0) = 0 pour n > 0\n",
    "       - S(0, k) = 0 pour k > 0\n",
    "    \"\"\"\n",
    "    if n == 0 and k == 0:\n",
    "        return 1\n",
    "    if (n == 0 and k > 0) or (n > 0 and k == 0):\n",
    "        return 0\n",
    "\n",
    "    return calcule_stirling_rec(n-1, k-1) + k*calcule_stirling_rec(n-1, k)\n",
    "\n",
    "def calcule_stirling_dyn(n, k, memo):\n",
    "    \"\"\"\n",
    "    Calcule le nombre de Stirling de seconde espèce (version dynamique).\n",
    "    \"\"\"\n",
    "    if n == 0 and k == 0:\n",
    "        return 1\n",
    "    if (n == 0 and k > 0) or (n > 0 and k == 0):\n",
    "        return 0\n",
    "\n",
    "    if (n, k) not in memo:\n",
    "        memo[(n, k)] = calcule_stirling_dyn(n-1, k-1, memo) + k*calcule_stirling_dyn(n-1, k, memo)\n",
    "    return memo[(n, k)]\n",
    "\n",
    "display(Math(r\"\"\"\n",
    "\\textbf{Nombres de Stirling de seconde espèce} :\n",
    "\\\\\n",
    "\\text{Définition récursive : }\n",
    "S(n, k) = S(n-1, k-1) + k \\, S(n-1, k),\n",
    "\\quad S(0, 0) = 1,\n",
    "\\quad S(x, 0) = S(0, y) = 0 \\quad \\text{pour tout } x>0, y>0.\n",
    "\"\"\"))\n",
    "\n",
    "# Exemple\n",
    "n = 4\n",
    "for k in range(5):\n",
    "    display(Math(rf\"S({n},{k}) = {calcule_stirling_rec(n,k)}\"))\n",
    "\n",
    "# Exemple dynamique\n",
    "memo_stir = {}\n",
    "display(Math(rf\"S({10},{5}) = {calcule_stirling_dyn(10, 5, memo_stir)}\"))\n"
   ]
  },
  {
   "cell_type": "code",
   "execution_count": 6,
   "metadata": {},
   "outputs": [
    {
     "name": "stdout",
     "output_type": "stream",
     "text": [
      "Nombres de Stirling de seconde espèce (n/k):\n",
      "[[   1.    0.    0.    0.    0.    0.    0.    0.    0.    0.]\n",
      " [   0.    1.    0.    0.    0.    0.    0.    0.    0.    0.]\n",
      " [   0.    1.    1.    0.    0.    0.    0.    0.    0.    0.]\n",
      " [   0.    1.    3.    1.    0.    0.    0.    0.    0.    0.]\n",
      " [   0.    1.    7.    6.    1.    0.    0.    0.    0.    0.]\n",
      " [   0.    1.   15.   25.   10.    1.    0.    0.    0.    0.]\n",
      " [   0.    1.   31.   90.   65.   15.    1.    0.    0.    0.]\n",
      " [   0.    1.   63.  301.  350.  140.   21.    1.    0.    0.]\n",
      " [   0.    1.  127.  966. 1701. 1050.  266.   28.    1.    0.]\n",
      " [   0.    1.  255. 3025. 7770. 6951. 2646.  462.   36.    1.]]\n"
     ]
    }
   ],
   "source": [
    "# Table des nombres de Stirling de seconde espèce (n/k).\n",
    "L = 10\n",
    "table_stirling = np.zeros((L, L))\n",
    "n, k = table_stirling.shape\n",
    "table_stirling[0, 0] = 1\n",
    "for i in range(1, n):\n",
    "    for j in range(1, n):\n",
    "        table_stirling[i, j] = table_stirling[i-1, j-1] + j*table_stirling[i-1, j]\n",
    "print(\"Nombres de Stirling de seconde espèce (n/k):\\n\", table_stirling, sep=\"\")"
   ]
  },
  {
   "cell_type": "markdown",
   "metadata": {},
   "source": [
    "## Nombre de Bell"
   ]
  },
  {
   "cell_type": "code",
   "execution_count": 7,
   "metadata": {},
   "outputs": [
    {
     "data": {
      "text/latex": [
       "$\\displaystyle \n",
       "\\textbf{Nombres de Bell} : B(n) = \\sum_{k=1}^{n} S(n,k).\n",
       "\\\\\n",
       "\\text{Définition récursive : }\n",
       "B(n) = \\sum_{m=0}^{n-1} \\binom{n-1}{m} \\, B(m), \\quad B(0) = 1.\n",
       "$"
      ],
      "text/plain": [
       "<IPython.core.display.Math object>"
      ]
     },
     "metadata": {},
     "output_type": "display_data"
    },
    {
     "data": {
      "text/latex": [
       "$\\displaystyle B(20) = 51724158235372$"
      ],
      "text/plain": [
       "<IPython.core.display.Math object>"
      ]
     },
     "metadata": {},
     "output_type": "display_data"
    },
    {
     "data": {
      "text/latex": [
       "$\\displaystyle B(21) = 474869816156751$"
      ],
      "text/plain": [
       "<IPython.core.display.Math object>"
      ]
     },
     "metadata": {},
     "output_type": "display_data"
    },
    {
     "data": {
      "text/latex": [
       "$\\displaystyle B(22) = 4506715738447323$"
      ],
      "text/plain": [
       "<IPython.core.display.Math object>"
      ]
     },
     "metadata": {},
     "output_type": "display_data"
    },
    {
     "data": {
      "text/latex": [
       "$\\displaystyle B(23) = 44152005855084346$"
      ],
      "text/plain": [
       "<IPython.core.display.Math object>"
      ]
     },
     "metadata": {},
     "output_type": "display_data"
    },
    {
     "data": {
      "text/latex": [
       "$\\displaystyle B(24) = 445958869294805289$"
      ],
      "text/plain": [
       "<IPython.core.display.Math object>"
      ]
     },
     "metadata": {},
     "output_type": "display_data"
    },
    {
     "data": {
      "text/latex": [
       "$\\displaystyle B(25) = 4638590332229999353$"
      ],
      "text/plain": [
       "<IPython.core.display.Math object>"
      ]
     },
     "metadata": {},
     "output_type": "display_data"
    },
    {
     "data": {
      "text/latex": [
       "$\\displaystyle B(26) = 49631246523618756274$"
      ],
      "text/plain": [
       "<IPython.core.display.Math object>"
      ]
     },
     "metadata": {},
     "output_type": "display_data"
    },
    {
     "data": {
      "text/latex": [
       "$\\displaystyle B(27) = 545717047936059989389$"
      ],
      "text/plain": [
       "<IPython.core.display.Math object>"
      ]
     },
     "metadata": {},
     "output_type": "display_data"
    },
    {
     "data": {
      "text/latex": [
       "$\\displaystyle B(28) = 6160539404599934652455$"
      ],
      "text/plain": [
       "<IPython.core.display.Math object>"
      ]
     },
     "metadata": {},
     "output_type": "display_data"
    },
    {
     "data": {
      "text/latex": [
       "$\\displaystyle B(29) = 71339801938860275191172$"
      ],
      "text/plain": [
       "<IPython.core.display.Math object>"
      ]
     },
     "metadata": {},
     "output_type": "display_data"
    }
   ],
   "source": [
    "def calcule_bell_iter(n):\n",
    "    res = 0\n",
    "    for k in range(1, n+1):\n",
    "        res += calcule_stirling_rec(n, k)\n",
    "    return res\n",
    "\n",
    "def calcule_bell_rec(n):\n",
    "    if n == 0:\n",
    "        return 1\n",
    "    \n",
    "    res = 0\n",
    "    for m in range(n):\n",
    "        res += coeff_bino(n-1, m) * calcule_bell_rec(m)\n",
    "    return res\n",
    "\n",
    "def calcule_bell_dyn(n, memo_bino={}, memo_bell={}):\n",
    "    # Version dynamique.\n",
    "    if n == 0:\n",
    "        return 1\n",
    "    \n",
    "    if n in memo_bell:\n",
    "        return memo_bell[n]\n",
    "    \n",
    "    res = 0\n",
    "    for m in range(n):\n",
    "        res += coeff_bino_dyn(n-1, m, memo_bino) * calcule_bell_dyn(m, memo_bell)\n",
    "\n",
    "    memo_bell[n] = res\n",
    "    return res\n",
    "\n",
    "display(Math(r\"\"\"\n",
    "\\textbf{Nombres de Bell} : B(n) = \\sum_{k=1}^{n} S(n,k).\n",
    "\\\\\n",
    "\\text{Définition récursive : }\n",
    "B(n) = \\sum_{m=0}^{n-1} \\binom{n-1}{m} \\, B(m), \\quad B(0) = 1.\n",
    "\"\"\"))\n",
    "\n",
    "# Exemple\n",
    "for num in range(20, 30):\n",
    "    display(Math(rf\"B({num}) = {calcule_bell_dyn(num)}\"))"
   ]
  },
  {
   "cell_type": "markdown",
   "metadata": {},
   "source": [
    "## Partitions"
   ]
  },
  {
   "cell_type": "code",
   "execution_count": 8,
   "metadata": {},
   "outputs": [
    {
     "name": "stdout",
     "output_type": "stream",
     "text": [
      "[[1], [2], [3], [4], [5, 6, 7, 8, 9, 10]]\n",
      "[[1], [2], [3], [4, 5], [6, 7, 8, 9, 10]]\n",
      "[[1], [2], [3], [5], [4, 6, 7, 8, 9, 10]]\n",
      "[[1], [2], [3], [4, 5, 6], [7, 8, 9, 10]]\n",
      "...\n",
      "[[6], [1, 7], [8], [9], [2, 3, 4, 5, 10]]\n",
      "[[6], [7], [1, 8], [9], [2, 3, 4, 5, 10]]\n",
      "[[6], [7], [8], [1, 9], [2, 3, 4, 5, 10]]\n",
      "[[6], [7], [8], [9], [1, 2, 3, 4, 5, 10]]\n"
     ]
    },
    {
     "data": {
      "text/latex": [
       "$\\displaystyle S(10,5) = 42525$"
      ],
      "text/plain": [
       "<IPython.core.display.Math object>"
      ]
     },
     "metadata": {},
     "output_type": "display_data"
    }
   ],
   "source": [
    "def partitionne_stirling_rec(lst, k):\n",
    "    \"\"\"\n",
    "    Retourne la liste de toutes les partitions de lst en k sous-listes (blocs) en\n",
    "    s\"inspirant de la définition récursive du nombre de Stirling de seconde espèce:\n",
    "    \n",
    "                        S(n, k) = S(n-1, k-1) + k * S(n-1, k)\n",
    "    \"\"\"\n",
    "    n = len(lst)\n",
    "\n",
    "    # -------------\n",
    "    # Cas de base :\n",
    "    # -------------\n",
    "\n",
    "    # Si k = 0 et n = 0, alors on a une seule partition vide.\n",
    "    if k == 0 and n == 0:\n",
    "        return [[]]\n",
    "    \n",
    "    # Si k = 0 ou n = 0, mais pas les deux en même temps,\n",
    "    # alors il n\"existe aucune partition.\n",
    "    if (k == 0 or n == 0) and (k != n):\n",
    "        return []\n",
    "    \n",
    "    # Si k = n, chaque élément de lst doit être dans son propre bloc.\n",
    "    if k == n:\n",
    "        return [ [[x] for x in lst] ]\n",
    "    \n",
    "    # Si k = 1, il n\"y a qu\"un seul bloc contenant tous les éléments.\n",
    "    if k == 1:\n",
    "        return [[lst]]\n",
    "    \n",
    "    # Si k > n, il n\"existe pas de partition car on ne peut\n",
    "    # pas répartir n éléments en plus de n blocs non vides.\n",
    "    if k > n:\n",
    "        return []\n",
    "    \n",
    "    # ----------------------------------------------------\n",
    "    # Récurrence :\n",
    "    # 1) On met lst[0] dans son propre bloc, et on partitionne\n",
    "    #    lst[1:] en (k-1) blocs.\n",
    "    # 2) On met lst[0] dans chacun des blocs d\"une partition de\n",
    "    #    lst[1:] en k blocs.\n",
    "    # ----------------------------------------------------\n",
    "\n",
    "    # Initialiser la liste de toutes les partitions.\n",
    "    lst_part = []\n",
    "    \n",
    "    # 1) Ajouter lst[0] dans un nouveau bloc (S(n-1, k-1))\n",
    "    for part in partitionne_stirling_rec(lst[1:], k - 1):\n",
    "        # On ajoute le bloc [lst[0]] devant\n",
    "        new_part = [[lst[0]]] + part\n",
    "        lst_part.append(new_part)\n",
    "    \n",
    "    # 2) Ajouter lst[0] dans chacun des blocs.\n",
    "    for part in partitionne_stirling_rec(lst[1:], k):\n",
    "        # Pour chaque partition obtenue, on crée k nouvelles partitions\n",
    "        # où lst[0] est inséré dans un seul bloc par partition.\n",
    "        for i in range(len(part)):\n",
    "            new_part = []\n",
    "            for j, bloc in enumerate(part):\n",
    "                if j == i:\n",
    "                    # On ajoute lst[0] dans le bloc d\"indice i ...\n",
    "                    new_part.append([lst[0]] + bloc)\n",
    "                else:\n",
    "                    # ... sinon on recopie le bloc.\n",
    "                    new_part.append(bloc[:])\n",
    "            lst_part.append(new_part)\n",
    "    \n",
    "    return lst_part\n",
    "\n",
    "def partitionne_stirling_dyn(lst, k, memo):\n",
    "    \"\"\"\n",
    "    Version dynamique.\n",
    "    \"\"\"\n",
    "    n = len(lst)\n",
    "\n",
    "    clef = (tuple(lst), k)\n",
    "    if clef in memo:\n",
    "        return memo[clef]\n",
    "\n",
    "    # -------------\n",
    "    # Cas de base :\n",
    "    # -------------\n",
    "    if k == 0 and n == 0:\n",
    "        return [[]]\n",
    "    if (k == 0 or n == 0) and (k != n):\n",
    "        return []\n",
    "    if k == n:\n",
    "        return [ [[x] for x in lst] ]\n",
    "    if k == 1:\n",
    "        return [[lst]]\n",
    "    if k > n:\n",
    "        return []\n",
    "    \n",
    "    # ------------\n",
    "    # Récurrence :\n",
    "    # ------------\n",
    "    lst_part = []\n",
    "    \n",
    "    # 1) Ajouter lst[0] dans un nouveau bloc (S(n-1, k-1))\n",
    "    for part in partitionne_stirling_dyn(lst[1:], k - 1, memo):\n",
    "        # On ajoute le bloc [lst[0]] devant\n",
    "        new_part = [[lst[0]]] + part\n",
    "        lst_part.append(new_part)\n",
    "    \n",
    "    # 2) Ajouter lst[0] dans chacun des blocs.\n",
    "    for part in partitionne_stirling_dyn(lst[1:], k, memo):\n",
    "        for i in range(len(part)):\n",
    "            new_part = []\n",
    "            for j, bloc in enumerate(part):\n",
    "                if j == i:\n",
    "                    new_part.append([lst[0]] + bloc)\n",
    "                else:\n",
    "                    new_part.append(bloc[:])\n",
    "            lst_part.append(new_part)\n",
    "\n",
    "    memo[clef] = lst_part\n",
    "    return lst_part\n",
    "\n",
    "\n",
    "# Exemple\n",
    "A = list(range(1, 11))\n",
    "k = 5\n",
    "memo_part = {}\n",
    "partitions = partitionne_stirling_dyn(A, k, memo_part)\n",
    "for p in partitions[:4]:\n",
    "    print(p)\n",
    "print(\"...\")\n",
    "for p in partitions[-4:]:\n",
    "    print(p)\n",
    "\n",
    "display(Math(rf\"S({len(A)},{k}) = {len(partitions)}\"))\n"
   ]
  },
  {
   "cell_type": "code",
   "execution_count": 9,
   "metadata": {},
   "outputs": [
    {
     "name": "stdout",
     "output_type": "stream",
     "text": [
      "[[1, 2, 3, 4]]\n",
      "[[1], [2, 3, 4]]\n",
      "[[1, 2], [3, 4]]\n",
      "[[2], [1, 3, 4]]\n",
      "[[1, 2, 3], [4]]\n",
      "[[2, 3], [1, 4]]\n",
      "[[1, 3], [2, 4]]\n",
      "[[3], [1, 2, 4]]\n",
      "[[1], [2], [3, 4]]\n",
      "[[1], [2, 3], [4]]\n",
      "[[1], [3], [2, 4]]\n",
      "[[1, 2], [3], [4]]\n",
      "[[2], [1, 3], [4]]\n",
      "[[2], [3], [1, 4]]\n",
      "[[1], [2], [3], [4]]\n"
     ]
    },
    {
     "data": {
      "text/latex": [
       "$\\displaystyle B(4) = 15$"
      ],
      "text/plain": [
       "<IPython.core.display.Math object>"
      ]
     },
     "metadata": {},
     "output_type": "display_data"
    }
   ],
   "source": [
    "def partitionne_bell(lst):\n",
    "    \"\"\"\n",
    "    Retourne la liste de toutes les partitions des éléments de lst en s\"inspirant\n",
    "    de la définition du nombre de Bell comme une somme de nombres de Stirling de\n",
    "    seconde espèce.\n",
    "    \"\"\"\n",
    "    n = len(lst)\n",
    "    all_part = []\n",
    "    memo_part = {}\n",
    "    for k in range(n+1):\n",
    "        all_part = all_part + partitionne_stirling_dyn(lst, k, memo_part)\n",
    "    return all_part\n",
    "\n",
    "\n",
    "# Exemple\n",
    "A = list(range(1, 5))\n",
    "all_partitions = partitionne_bell(A)\n",
    "for part in all_partitions:\n",
    "    print(part) \n",
    "\n",
    "display(Math(rf\"B({len(A)}) = {len(all_partitions)}\"))\n",
    "        "
   ]
  },
  {
   "cell_type": "markdown",
   "metadata": {},
   "source": [
    "## Statistiques sur les permutations"
   ]
  },
  {
   "cell_type": "markdown",
   "metadata": {},
   "source": [
    "Descente, ascension, excédence et inversion."
   ]
  },
  {
   "cell_type": "code",
   "execution_count": 10,
   "metadata": {},
   "outputs": [
    {
     "name": "stdout",
     "output_type": "stream",
     "text": [
      "Permutation:\n",
      "[0, 1, 2, 3, 4, 5, 8, 7, 9, 6]\n",
      "Descentes :\n",
      "[6, 8]\n",
      "Ascensions :\n",
      "[0, 1, 2, 3, 4, 5, 7]\n",
      "Excédence :\n",
      "[6, 8]\n",
      "Inversions :\n",
      "[(6, 7), (6, 9), (7, 9), (8, 9)]\n"
     ]
    }
   ],
   "source": [
    "def liste_desc(perm):\n",
    "    \"\"\"\n",
    "    Retourne les indices i tels que σ(i) > σ(i+1).\n",
    "    \"\"\"\n",
    "    n = len(perm)\n",
    "    lst = [i for i in range(n-1) if perm[i] > perm[i+1]]\n",
    "    return lst\n",
    "\n",
    "\n",
    "def liste_asc(perm):\n",
    "    \"\"\"\n",
    "    Retourne les indices i tels que σ(i) < σ(i+1).\n",
    "    \"\"\"\n",
    "    n = len(perm)\n",
    "    lst = [i for i in range(n-1) if perm[i] < perm[i+1]]\n",
    "    return lst\n",
    "\n",
    "\n",
    "def liste_exce(perm):\n",
    "    \"\"\"\n",
    "    Retourne les indices i tels que σ(i) > i.\n",
    "    \"\"\"\n",
    "    n = len(perm)\n",
    "    lst = [i for i in range(n-1) if perm[i] > i]\n",
    "    return lst\n",
    "\n",
    "\n",
    "def liste_inv(perm):\n",
    "    \"\"\"\n",
    "    Retourne les paires (i, j) avec i < j et σ(i) > σ(j).\n",
    "    \"\"\"\n",
    "    n = len(perm)\n",
    "    lst = [(i, j) for i in range(n) for j in range(i+1, n) if perm[i] > perm[j]]\n",
    "    return lst\n",
    "\n",
    "\n",
    "# Exemple\n",
    "n = 10\n",
    "n_perm = [0, 1, 2, 3, 4, 5, 8, 7, 9, 6]\n",
    "\n",
    "print(f\"Permutation:\\n{n_perm}\")\n",
    "print(f\"Descentes :\\n{liste_desc(n_perm)}\")\n",
    "print(f\"Ascensions :\\n{liste_asc(n_perm)}\")\n",
    "print(f\"Excédence :\\n{liste_exce(n_perm)}\")\n",
    "print(f\"Inversions :\\n{liste_inv(n_perm)}\")\n"
   ]
  },
  {
   "cell_type": "markdown",
   "metadata": {},
   "source": [
    "Visualisation des distributions des statistiques."
   ]
  },
  {
   "cell_type": "code",
   "execution_count": 11,
   "metadata": {},
   "outputs": [
    {
     "data": {
      "image/png": "[encoded data removed]",
      "text/plain": [
       "<Figure size 1000x800 with 4 Axes>"
      ]
     },
     "metadata": {},
     "output_type": "display_data"
    },
    {
     "name": "stdout",
     "output_type": "stream",
     "text": [
      "Analyse sur 40320 permutations de taille 8.\n"
     ]
    }
   ],
   "source": [
    "# Paramètres\n",
    "n = 8\n",
    "A = list(range(n))\n",
    "\n",
    "# Générer les permutations\n",
    "permutations = permute_rec(A)\n",
    "\n",
    "# Calculer les statistiques\n",
    "desc_counts = []\n",
    "asc_counts  = []\n",
    "exce_counts = []\n",
    "inv_counts  = []\n",
    "\n",
    "for perm in permutations:\n",
    "    desc_counts.append(len(liste_desc(perm)))\n",
    "    asc_counts.append(len(liste_asc(perm)))\n",
    "    exce_counts.append(len(liste_exce(perm)))\n",
    "    inv_counts.append(len(liste_inv(perm)))\n",
    "\n",
    "# ------------\n",
    "# Visualiser\n",
    "# ------------\n",
    "fig, axes = plt.subplots(2, 2, figsize=(10, 8))\n",
    "\n",
    "# Nombre de descentes\n",
    "axes[0,0].hist(desc_counts, bins=\"auto\", color=\"#90d743\", edgecolor=\"black\")\n",
    "axes[0,0].set_xlabel(\"Nombre de descentes\")\n",
    "axes[0,0].set_ylabel(\"Effectifs\")\n",
    "\n",
    "# Nombre d\"ascensions\n",
    "axes[0,1].hist(asc_counts, bins=\"auto\", color=\"#35b779\", edgecolor=\"black\")\n",
    "axes[0,1].set_xlabel(\"Nombre d'ascensions\")\n",
    "axes[0,1].set_ylabel(\"Effectifs\")\n",
    "\n",
    "# Nombre d\"excédences\n",
    "axes[1,0].hist(exce_counts, bins=\"auto\", color=\"#21918c\", edgecolor=\"black\")\n",
    "axes[1,0].set_xlabel(\"Nombre d'excédences\")\n",
    "axes[1,0].set_ylabel(\"Effectifs\")\n",
    "\n",
    "# Nombre d\"inversions\n",
    "axes[1,1].hist(inv_counts, bins=\"auto\", color=\"#31688e\", edgecolor=\"black\")\n",
    "axes[1,1].set_xlabel(\"Nombre d'inversions\")\n",
    "axes[1,1].set_ylabel(\"Effectifs\")\n",
    "\n",
    "plt.show()\n",
    "\n",
    "print(f\"Analyse sur {len(permutations)} permutations de taille {n}.\")"
   ]
  },
  {
   "cell_type": "markdown",
   "metadata": {},
   "source": [
    "## Nombres Euclidiens"
   ]
  }
 ],
 "metadata": {
  "kernelspec": {
   "display_name": "Python 3",
   "language": "python",
   "name": "python3"
  },
  "language_info": {
   "codemirror_mode": {
    "name": "ipython",
    "version": 3
   },
   "file_extension": ".py",
   "mimetype": "text/x-python",
   "name": "python",
   "nbconvert_exporter": "python",
   "pygments_lexer": "ipython3",
   "version": "3.12.1"
  }
 },
 "nbformat": 4,
 "nbformat_minor": 2
}
