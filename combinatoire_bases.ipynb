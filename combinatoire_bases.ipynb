{
 "cells": [
  {
   "cell_type": "markdown",
   "metadata": {},
   "source": [
    "# **Combinatoire : notions préalables**\n",
    "### Romain GERARD"
   ]
  },
  {
   "cell_type": "markdown",
   "metadata": {},
   "source": [
    "Importer les packages."
   ]
  },
  {
   "cell_type": "code",
   "execution_count": 1,
   "metadata": {},
   "outputs": [],
   "source": [
    "import numpy as np\n",
    "import pandas as pd\n",
    "from IPython.display import display, Math, Latex\n",
    "from sympy import symbols, expand, latex"
   ]
  },
  {
   "cell_type": "markdown",
   "metadata": {},
   "source": [
    "## Factorielle et coefficient binomial"
   ]
  },
  {
   "cell_type": "code",
   "execution_count": 2,
   "metadata": {},
   "outputs": [
    {
     "data": {
      "text/latex": [
       "$\\displaystyle 7! = 5040$"
      ],
      "text/plain": [
       "<IPython.core.display.Math object>"
      ]
     },
     "metadata": {},
     "output_type": "display_data"
    },
    {
     "data": {
      "text/latex": [
       "$\\displaystyle \\binom{10}{5} = 252$"
      ],
      "text/plain": [
       "<IPython.core.display.Math object>"
      ]
     },
     "metadata": {},
     "output_type": "display_data"
    }
   ],
   "source": [
    "def facto_rec(x):\n",
    "    \"\"\"\n",
    "    Calcule la factorielle de x de manière récursive.\n",
    "    \"\"\"\n",
    "    if x == 0:\n",
    "        return 1\n",
    "    return x * facto_rec(x-1)\n",
    "\n",
    "def coeff_bino(n, k):\n",
    "    \"\"\"\n",
    "    Calcule le coefficient binomial C(n, k).\n",
    "    \"\"\"\n",
    "    return facto_rec(n) // (facto_rec(k)*facto_rec(n-k))\n",
    "\n",
    "def coeff_bino_rec(n, k):\n",
    "    \"\"\"\n",
    "    Calcule le coefficient binomial C(n, k) de manière récursive.\n",
    "    \"\"\"\n",
    "    if k > n:\n",
    "        return 0\n",
    "    if k == 0 or k == n:\n",
    "        return 1\n",
    "    \n",
    "    return coeff_bino_rec(n-1, k-1) + coeff_bino_rec(n-1, k)\n",
    "\n",
    "# Exemple: 7!\n",
    "x = 7\n",
    "display(Math(rf\"{x}! = {facto_rec(x)}\"))\n",
    "\n",
    "# Exemple: C(10, 5)\n",
    "n, k = 10, 5\n",
    "display(Math(rf\"\\binom{{{n}}}{{{k}}} = {coeff_bino_rec(n, k)}\"))"
   ]
  },
  {
   "cell_type": "markdown",
   "metadata": {},
   "source": [
    "## Permutations"
   ]
  },
  {
   "cell_type": "code",
   "execution_count": 3,
   "metadata": {},
   "outputs": [
    {
     "name": "stdout",
     "output_type": "stream",
     "text": [
      "A = [1, 2, 3, 4, 5, 6, 7]\n",
      "\n",
      "Ensemble de toutes les n-permutations de A :\n",
      "[1, 2, 3, 4, 5, 6, 7]\n",
      "[1, 2, 3, 4, 5, 7, 6]\n",
      "[1, 2, 3, 4, 6, 5, 7]\n",
      "[1, 2, 3, 4, 6, 7, 5]\n",
      ". . .\n",
      "[7, 6, 5, 4, 3, 1, 2]\n",
      "[7, 6, 5, 4, 3, 2, 1]\n"
     ]
    },
    {
     "data": {
      "text/latex": [
       "$\\displaystyle |\\sigma_n| = 5040$"
      ],
      "text/plain": [
       "<IPython.core.display.Math object>"
      ]
     },
     "metadata": {},
     "output_type": "display_data"
    },
    {
     "data": {
      "text/latex": [
       "$\\displaystyle |A|! = 5040$"
      ],
      "text/plain": [
       "<IPython.core.display.Math object>"
      ]
     },
     "metadata": {},
     "output_type": "display_data"
    }
   ],
   "source": [
    "def permute_rec(lst):\n",
    "    \"\"\"\n",
    "    Retourne la liste de toutes les permutations de lst, de manière récursive.\n",
    "    \"\"\"\n",
    "    if len(lst) == 0:\n",
    "        return [[]]\n",
    "\n",
    "    result = []\n",
    "    for i in range(len(lst)):\n",
    "        current = lst[i]\n",
    "        remaining = lst[:i] + lst[i+1:]\n",
    "        for e in permute_rec(remaining):\n",
    "            result.append([current] + e)\n",
    "    return result\n",
    "\n",
    "N = 7\n",
    "A = list(range(1, N+1))\n",
    "sigma_n = permute_rec(A)\n",
    "\n",
    "print(\"A =\", A)\n",
    "print()\n",
    "print(\"Ensemble de toutes les n-permutations de A :\")\n",
    "print(sigma_n[0])\n",
    "print(sigma_n[1])\n",
    "print(sigma_n[2])\n",
    "print(sigma_n[3])\n",
    "print(\". . .\")\n",
    "print(sigma_n[-2])\n",
    "print(sigma_n[-1])\n",
    "\n",
    "display(Math(rf\"|\\sigma_n| = {len(sigma_n)}\"))\n",
    "display(Math(rf\"|A|! = {facto_rec(len(A))}\"))\n"
   ]
  },
  {
   "cell_type": "markdown",
   "metadata": {},
   "source": [
    "## Nombre de Stirling de seconde espèce"
   ]
  },
  {
   "cell_type": "code",
   "execution_count": 25,
   "metadata": {},
   "outputs": [
    {
     "data": {
      "text/latex": [
       "$\\displaystyle \n",
       "\\textbf{Nombres de Stirling de seconde espèce} :\n",
       "\\\\\n",
       "\\text{Définition récursive : }\n",
       "S(n, k) = S(n-1, k-1) + k \\, S(n-1, k),\n",
       "\\quad S(0, 0) = 1,\n",
       "\\quad S(x, 0) = S(0, y) = 0 \\quad \\text{pour tout } x>0, y>0.\n",
       "$"
      ],
      "text/plain": [
       "<IPython.core.display.Math object>"
      ]
     },
     "metadata": {},
     "output_type": "display_data"
    },
    {
     "data": {
      "text/latex": [
       "$\\displaystyle S(4,1) = 0$"
      ],
      "text/plain": [
       "<IPython.core.display.Math object>"
      ]
     },
     "metadata": {},
     "output_type": "display_data"
    },
    {
     "data": {
      "text/latex": [
       "$\\displaystyle S(4,1) = 1$"
      ],
      "text/plain": [
       "<IPython.core.display.Math object>"
      ]
     },
     "metadata": {},
     "output_type": "display_data"
    },
    {
     "data": {
      "text/latex": [
       "$\\displaystyle S(4,2) = 7$"
      ],
      "text/plain": [
       "<IPython.core.display.Math object>"
      ]
     },
     "metadata": {},
     "output_type": "display_data"
    },
    {
     "data": {
      "text/latex": [
       "$\\displaystyle S(4,3) = 6$"
      ],
      "text/plain": [
       "<IPython.core.display.Math object>"
      ]
     },
     "metadata": {},
     "output_type": "display_data"
    },
    {
     "data": {
      "text/latex": [
       "$\\displaystyle S(4,4) = 1$"
      ],
      "text/plain": [
       "<IPython.core.display.Math object>"
      ]
     },
     "metadata": {},
     "output_type": "display_data"
    }
   ],
   "source": [
    "def calcule_stirling_rec(n, k):\n",
    "    \"\"\"\n",
    "    Calcule le nombre de Stirling de seconde espèce S(n, k)\n",
    "    selon une définition récursive.\n",
    "    \n",
    "    S(n, k) = S(n-1, k-1) + k * S(n-1, k)\n",
    "    avec les cas de base :\n",
    "       - S(0, 0) = 1\n",
    "       - S(n, 0) = 0 pour n > 0\n",
    "       - S(0, k) = 0 pour k > 0\n",
    "    \"\"\"\n",
    "    if n == 0 and k == 0:\n",
    "        return 1\n",
    "    if (n == 0 and k > 0) or (n > 0 and k == 0):\n",
    "        return 0\n",
    "\n",
    "    return calcule_stirling_rec(n-1, k-1) + k*calcule_stirling_rec(n-1, k)\n",
    "\n",
    "display(Math(r\"\"\"\n",
    "\\textbf{Nombres de Stirling de seconde espèce} :\n",
    "\\\\\n",
    "\\text{Définition récursive : }\n",
    "S(n, k) = S(n-1, k-1) + k \\, S(n-1, k),\n",
    "\\quad S(0, 0) = 1,\n",
    "\\quad S(x, 0) = S(0, y) = 0 \\quad \\text{pour tout } x>0, y>0.\n",
    "\"\"\"))\n",
    "\n",
    "# Exemple: S(4,1), S(4,2), S(4,3) et S(4,4)\n",
    "display(Math(rf\"S(4,1) = {calcule_stirling_rec(4,0)}\"))\n",
    "display(Math(rf\"S(4,1) = {calcule_stirling_rec(4,1)}\"))\n",
    "display(Math(rf\"S(4,2) = {calcule_stirling_rec(4,2)}\"))\n",
    "display(Math(rf\"S(4,3) = {calcule_stirling_rec(4,3)}\"))\n",
    "display(Math(rf\"S(4,4) = {calcule_stirling_rec(4,4)}\"))"
   ]
  },
  {
   "cell_type": "code",
   "execution_count": 6,
   "metadata": {},
   "outputs": [
    {
     "name": "stdout",
     "output_type": "stream",
     "text": [
      "Nombres de Stirling de seconde espèce (n/k):\n",
      "[[  1.   0.   0.   0.   0.   0.   0.]\n",
      " [  1.   1.   0.   0.   0.   0.   0.]\n",
      " [  1.   3.   1.   0.   0.   0.   0.]\n",
      " [  1.   7.   6.   1.   0.   0.   0.]\n",
      " [  1.  15.  25.  10.   1.   0.   0.]\n",
      " [  1.  31.  90.  65.  15.   1.   0.]\n",
      " [  1.  63. 301. 350. 140.  21.   1.]]\n"
     ]
    }
   ],
   "source": [
    "# Table des nombres de Stirling de seconde espèce (n/k).\n",
    "table_stirling = np.zeros((N, N))\n",
    "table_n, table_k = table_stirling.shape\n",
    "for i in range(table_n):\n",
    "    ind_n = i + 1\n",
    "    for j in range(table_k):\n",
    "        ind_k = j + 1\n",
    "        table_stirling[i, j] = calcule_stirling_rec(ind_n, ind_k)\n",
    "print(\"Nombres de Stirling de seconde espèce (n/k):\\n\", table_stirling, sep=\"\")"
   ]
  },
  {
   "cell_type": "markdown",
   "metadata": {},
   "source": [
    "## Nombre de Bell"
   ]
  },
  {
   "cell_type": "code",
   "execution_count": null,
   "metadata": {},
   "outputs": [
    {
     "data": {
      "text/latex": [
       "$\\displaystyle \n",
       "\\textbf{Nombres de Bell} : B(n) = \\sum_{k=1}^{n} S(n,k).\n",
       "\\\\\n",
       "\\text{Définition récursive : }\n",
       "B(n) = \\sum_{m=0}^{n-1} \\binom{n-1}{m} \\, B(m), \\quad B(0) = 1.\n",
       "$"
      ],
      "text/plain": [
       "<IPython.core.display.Math object>"
      ]
     },
     "metadata": {},
     "output_type": "display_data"
    },
    {
     "data": {
      "text/latex": [
       "$\\displaystyle B(0) = 1$"
      ],
      "text/plain": [
       "<IPython.core.display.Math object>"
      ]
     },
     "metadata": {},
     "output_type": "display_data"
    },
    {
     "data": {
      "text/latex": [
       "$\\displaystyle B(1) = 1$"
      ],
      "text/plain": [
       "<IPython.core.display.Math object>"
      ]
     },
     "metadata": {},
     "output_type": "display_data"
    },
    {
     "data": {
      "text/latex": [
       "$\\displaystyle B(2) = 2$"
      ],
      "text/plain": [
       "<IPython.core.display.Math object>"
      ]
     },
     "metadata": {},
     "output_type": "display_data"
    },
    {
     "data": {
      "text/latex": [
       "$\\displaystyle B(3) = 5$"
      ],
      "text/plain": [
       "<IPython.core.display.Math object>"
      ]
     },
     "metadata": {},
     "output_type": "display_data"
    },
    {
     "data": {
      "text/latex": [
       "$\\displaystyle B(4) = 15$"
      ],
      "text/plain": [
       "<IPython.core.display.Math object>"
      ]
     },
     "metadata": {},
     "output_type": "display_data"
    },
    {
     "data": {
      "text/latex": [
       "$\\displaystyle B(5) = 52$"
      ],
      "text/plain": [
       "<IPython.core.display.Math object>"
      ]
     },
     "metadata": {},
     "output_type": "display_data"
    },
    {
     "data": {
      "text/latex": [
       "$\\displaystyle B(6) = 203$"
      ],
      "text/plain": [
       "<IPython.core.display.Math object>"
      ]
     },
     "metadata": {},
     "output_type": "display_data"
    },
    {
     "data": {
      "text/latex": [
       "$\\displaystyle B(7) = 877$"
      ],
      "text/plain": [
       "<IPython.core.display.Math object>"
      ]
     },
     "metadata": {},
     "output_type": "display_data"
    }
   ],
   "source": [
    "def calcule_bell_iter(n):\n",
    "    res = 0\n",
    "    for k in range(1, n+1):\n",
    "        res += calcule_stirling_rec(n, k)\n",
    "    return res\n",
    "\n",
    "def calcule_bell_rec(n):\n",
    "    if n == 0:\n",
    "        return 1\n",
    "    \n",
    "    res = 0\n",
    "    for m in range(n):\n",
    "        res += coeff_bino(n-1, m) * calcule_bell_rec(m)\n",
    "    return res\n",
    "\n",
    "display(Math(r\"\"\"\n",
    "\\textbf{Nombres de Bell} : B(n) = \\sum_{k=1}^{n} S(n,k).\n",
    "\\\\\n",
    "\\text{Définition récursive : }\n",
    "B(n) = \\sum_{m=0}^{n-1} \\binom{n-1}{m} \\, B(m), \\quad B(0) = 1.\n",
    "\"\"\"))\n",
    "\n",
    "# Calcul des 8 premiers nombres de Bells.\n",
    "N = 7\n",
    "for num in range(N+1):\n",
    "    display(Math(rf\"B({num}) = {calcule_bell_rec(num)}\"))"
   ]
  }
 ],
 "metadata": {
  "kernelspec": {
   "display_name": "Python 3",
   "language": "python",
   "name": "python3"
  },
  "language_info": {
   "codemirror_mode": {
    "name": "ipython",
    "version": 3
   },
   "file_extension": ".py",
   "mimetype": "text/x-python",
   "name": "python",
   "nbconvert_exporter": "python",
   "pygments_lexer": "ipython3",
   "version": "3.12.1"
  }
 },
 "nbformat": 4,
 "nbformat_minor": 2
}
