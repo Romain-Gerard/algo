{
 "cells": [
  {
   "cell_type": "markdown",
   "metadata": {},
   "source": [
    "# **Combinatoire : notions préalables**\n",
    "### Romain GERARD"
   ]
  },
  {
   "cell_type": "markdown",
   "metadata": {},
   "source": [
    "Importer les packages."
   ]
  },
  {
   "cell_type": "code",
   "execution_count": 3,
   "metadata": {},
   "outputs": [],
   "source": [
    "from packcombi import *\n",
    "import numpy as np\n",
    "np.set_printoptions(suppress=True)\n",
    "import matplotlib.pyplot as plt\n",
    "from matplotlib.patches import Arc\n",
    "import pandas as pd\n",
    "from IPython.display import display, Math, Latex\n",
    "from sympy import symbols, expand, latex\n",
    "import networkx as nx"
   ]
  },
  {
   "cell_type": "markdown",
   "metadata": {},
   "source": [
    "## Factorielle et coefficient binomial"
   ]
  },
  {
   "cell_type": "code",
   "execution_count": 4,
   "metadata": {},
   "outputs": [
    {
     "data": {
      "text/latex": [
       "$\\displaystyle 7! = 5040$"
      ],
      "text/plain": [
       "<IPython.core.display.Math object>"
      ]
     },
     "metadata": {},
     "output_type": "display_data"
    },
    {
     "data": {
      "text/latex": [
       "$\\displaystyle \\binom{10}{2} = 45$"
      ],
      "text/plain": [
       "<IPython.core.display.Math object>"
      ]
     },
     "metadata": {},
     "output_type": "display_data"
    },
    {
     "data": {
      "text/latex": [
       "$\\displaystyle \\binom{100}{20} = 535983370403809682970$"
      ],
      "text/plain": [
       "<IPython.core.display.Math object>"
      ]
     },
     "metadata": {},
     "output_type": "display_data"
    }
   ],
   "source": [
    "# Exemple: 7!\n",
    "x = 7\n",
    "display(Math(rf\"{x}! = {facto_rec(x)}\"))\n",
    "\n",
    "# Exemple: C(10, 5)\n",
    "n, k = 10, 2\n",
    "display(Math(rf\"\\binom{{{n}}}{{{k}}} = {coeff_bino_rec(n, k)}\"))\n",
    "\n",
    "# Exemple dynamique : C(100, 20)\n",
    "display(Math(rf\"\\binom{{{100}}}{{{20}}} = {coeff_bino_dyn(100, 20)}\"))\n"
   ]
  },
  {
   "cell_type": "markdown",
   "metadata": {},
   "source": [
    "## Permutations"
   ]
  },
  {
   "cell_type": "code",
   "execution_count": 5,
   "metadata": {},
   "outputs": [
    {
     "name": "stdout",
     "output_type": "stream",
     "text": [
      "A = [1, 2, 3, 4, 5, 6, 7]\n",
      "\n",
      "Ensemble de toutes les n-permutations de A :\n",
      "[1, 2, 3, 4, 5, 6, 7]\n",
      "[1, 2, 3, 4, 5, 7, 6]\n",
      "[1, 2, 3, 4, 6, 5, 7]\n",
      "[1, 2, 3, 4, 6, 7, 5]\n",
      ". . .\n",
      "[7, 6, 5, 4, 3, 1, 2]\n",
      "[7, 6, 5, 4, 3, 2, 1]\n"
     ]
    },
    {
     "data": {
      "text/latex": [
       "$\\displaystyle |\\sigma_n| = 5040$"
      ],
      "text/plain": [
       "<IPython.core.display.Math object>"
      ]
     },
     "metadata": {},
     "output_type": "display_data"
    },
    {
     "data": {
      "text/latex": [
       "$\\displaystyle |A|! = 5040$"
      ],
      "text/plain": [
       "<IPython.core.display.Math object>"
      ]
     },
     "metadata": {},
     "output_type": "display_data"
    }
   ],
   "source": [
    "# Exemple\n",
    "n = 7\n",
    "A = list(range(1, n+1))\n",
    "sigma_n = permute_rec(A)\n",
    "\n",
    "print(\"A =\", A)\n",
    "print()\n",
    "print(\"Ensemble de toutes les n-permutations de A :\")\n",
    "print(sigma_n[0])\n",
    "print(sigma_n[1])\n",
    "print(sigma_n[2])\n",
    "print(sigma_n[3])\n",
    "print(\". . .\")\n",
    "print(sigma_n[-2])\n",
    "print(sigma_n[-1])\n",
    "\n",
    "display(Math(rf\"|\\sigma_n| = {len(sigma_n)}\"))\n",
    "display(Math(rf\"|A|! = {facto_rec(len(A))}\"))\n"
   ]
  },
  {
   "cell_type": "markdown",
   "metadata": {},
   "source": [
    "## Nombre de Stirling de seconde espèce"
   ]
  },
  {
   "cell_type": "code",
   "execution_count": 6,
   "metadata": {},
   "outputs": [
    {
     "data": {
      "text/latex": [
       "$\\displaystyle \n",
       "\\textbf{Nombres de Stirling de seconde espèce} :\n",
       "\\\\\n",
       "\\text{Définition récursive : }\n",
       "S(n, k) = S(n-1, k-1) + k \\, S(n-1, k),\n",
       "\\quad S(0, 0) = 1,\n",
       "\\quad S(x, 0) = S(0, y) = 0 \\quad \\text{pour tout } x>0, y>0.\n",
       "$"
      ],
      "text/plain": [
       "<IPython.core.display.Math object>"
      ]
     },
     "metadata": {},
     "output_type": "display_data"
    },
    {
     "data": {
      "text/latex": [
       "$\\displaystyle S(4,0) = 0$"
      ],
      "text/plain": [
       "<IPython.core.display.Math object>"
      ]
     },
     "metadata": {},
     "output_type": "display_data"
    },
    {
     "data": {
      "text/latex": [
       "$\\displaystyle S(4,1) = 1$"
      ],
      "text/plain": [
       "<IPython.core.display.Math object>"
      ]
     },
     "metadata": {},
     "output_type": "display_data"
    },
    {
     "data": {
      "text/latex": [
       "$\\displaystyle S(4,2) = 7$"
      ],
      "text/plain": [
       "<IPython.core.display.Math object>"
      ]
     },
     "metadata": {},
     "output_type": "display_data"
    },
    {
     "data": {
      "text/latex": [
       "$\\displaystyle S(4,3) = 6$"
      ],
      "text/plain": [
       "<IPython.core.display.Math object>"
      ]
     },
     "metadata": {},
     "output_type": "display_data"
    },
    {
     "data": {
      "text/latex": [
       "$\\displaystyle S(4,4) = 1$"
      ],
      "text/plain": [
       "<IPython.core.display.Math object>"
      ]
     },
     "metadata": {},
     "output_type": "display_data"
    },
    {
     "data": {
      "text/latex": [
       "$\\displaystyle S(10,5) = 42525$"
      ],
      "text/plain": [
       "<IPython.core.display.Math object>"
      ]
     },
     "metadata": {},
     "output_type": "display_data"
    }
   ],
   "source": [
    "display(Math(r\"\"\"\n",
    "\\textbf{Nombres de Stirling de seconde espèce} :\n",
    "\\\\\n",
    "\\text{Définition récursive : }\n",
    "S(n, k) = S(n-1, k-1) + k \\, S(n-1, k),\n",
    "\\quad S(0, 0) = 1,\n",
    "\\quad S(x, 0) = S(0, y) = 0 \\quad \\text{pour tout } x>0, y>0.\n",
    "\"\"\"))\n",
    "\n",
    "# Exemple\n",
    "n = 4\n",
    "for k in range(5):\n",
    "    display(Math(rf\"S({n},{k}) = {calcule_stirling_rec(n,k)}\"))\n",
    "\n",
    "# Exemple dynamique\n",
    "display(Math(rf\"S({10},{5}) = {calcule_stirling_dyn(10, 5)}\"))\n"
   ]
  },
  {
   "cell_type": "code",
   "execution_count": 7,
   "metadata": {},
   "outputs": [
    {
     "name": "stdout",
     "output_type": "stream",
     "text": [
      "Nombres de Stirling de seconde espèce (n/k):\n",
      "[[   1.    0.    0.    0.    0.    0.    0.    0.    0.    0.]\n",
      " [   0.    1.    0.    0.    0.    0.    0.    0.    0.    0.]\n",
      " [   0.    1.    1.    0.    0.    0.    0.    0.    0.    0.]\n",
      " [   0.    1.    3.    1.    0.    0.    0.    0.    0.    0.]\n",
      " [   0.    1.    7.    6.    1.    0.    0.    0.    0.    0.]\n",
      " [   0.    1.   15.   25.   10.    1.    0.    0.    0.    0.]\n",
      " [   0.    1.   31.   90.   65.   15.    1.    0.    0.    0.]\n",
      " [   0.    1.   63.  301.  350.  140.   21.    1.    0.    0.]\n",
      " [   0.    1.  127.  966. 1701. 1050.  266.   28.    1.    0.]\n",
      " [   0.    1.  255. 3025. 7770. 6951. 2646.  462.   36.    1.]]\n"
     ]
    }
   ],
   "source": [
    "# Table des nombres de Stirling de seconde espèce (n/k).\n",
    "L = 10\n",
    "table_stirling = np.zeros((L, L))\n",
    "n, k = table_stirling.shape\n",
    "table_stirling[0, 0] = 1\n",
    "for i in range(1, n):\n",
    "    for j in range(1, n):\n",
    "        table_stirling[i, j] = table_stirling[i-1, j-1] + j*table_stirling[i-1, j]\n",
    "print(\"Nombres de Stirling de seconde espèce (n/k):\\n\", table_stirling, sep=\"\")"
   ]
  },
  {
   "cell_type": "markdown",
   "metadata": {},
   "source": [
    "## Nombre de Bell"
   ]
  },
  {
   "cell_type": "code",
   "execution_count": 8,
   "metadata": {},
   "outputs": [
    {
     "data": {
      "text/latex": [
       "$\\displaystyle \n",
       "\\textbf{Nombres de Bell} : B(n) = \\sum_{k=1}^{n} S(n,k).\n",
       "\\\\\n",
       "\\text{Définition récursive : }\n",
       "B(n) = \\sum_{m=0}^{n-1} \\binom{n-1}{m} \\, B(m), \\quad B(0) = 1.\n",
       "$"
      ],
      "text/plain": [
       "<IPython.core.display.Math object>"
      ]
     },
     "metadata": {},
     "output_type": "display_data"
    },
    {
     "data": {
      "text/latex": [
       "$\\displaystyle B(0) = 1$"
      ],
      "text/plain": [
       "<IPython.core.display.Math object>"
      ]
     },
     "metadata": {},
     "output_type": "display_data"
    },
    {
     "data": {
      "text/latex": [
       "$\\displaystyle B(1) = 1$"
      ],
      "text/plain": [
       "<IPython.core.display.Math object>"
      ]
     },
     "metadata": {},
     "output_type": "display_data"
    },
    {
     "data": {
      "text/latex": [
       "$\\displaystyle B(2) = 2$"
      ],
      "text/plain": [
       "<IPython.core.display.Math object>"
      ]
     },
     "metadata": {},
     "output_type": "display_data"
    },
    {
     "data": {
      "text/latex": [
       "$\\displaystyle B(3) = 5$"
      ],
      "text/plain": [
       "<IPython.core.display.Math object>"
      ]
     },
     "metadata": {},
     "output_type": "display_data"
    },
    {
     "data": {
      "text/latex": [
       "$\\displaystyle B(4) = 15$"
      ],
      "text/plain": [
       "<IPython.core.display.Math object>"
      ]
     },
     "metadata": {},
     "output_type": "display_data"
    },
    {
     "data": {
      "text/latex": [
       "$\\displaystyle B(5) = 52$"
      ],
      "text/plain": [
       "<IPython.core.display.Math object>"
      ]
     },
     "metadata": {},
     "output_type": "display_data"
    },
    {
     "data": {
      "text/latex": [
       "$\\displaystyle B(6) = 203$"
      ],
      "text/plain": [
       "<IPython.core.display.Math object>"
      ]
     },
     "metadata": {},
     "output_type": "display_data"
    },
    {
     "data": {
      "text/latex": [
       "$\\displaystyle B(7) = 877$"
      ],
      "text/plain": [
       "<IPython.core.display.Math object>"
      ]
     },
     "metadata": {},
     "output_type": "display_data"
    },
    {
     "data": {
      "text/latex": [
       "$\\displaystyle B(8) = 4140$"
      ],
      "text/plain": [
       "<IPython.core.display.Math object>"
      ]
     },
     "metadata": {},
     "output_type": "display_data"
    },
    {
     "data": {
      "text/latex": [
       "$\\displaystyle B(9) = 21147$"
      ],
      "text/plain": [
       "<IPython.core.display.Math object>"
      ]
     },
     "metadata": {},
     "output_type": "display_data"
    },
    {
     "data": {
      "text/latex": [
       "$\\displaystyle B(10) = 115975$"
      ],
      "text/plain": [
       "<IPython.core.display.Math object>"
      ]
     },
     "metadata": {},
     "output_type": "display_data"
    }
   ],
   "source": [
    "display(Math(r\"\"\"\n",
    "\\textbf{Nombres de Bell} : B(n) = \\sum_{k=1}^{n} S(n,k).\n",
    "\\\\\n",
    "\\text{Définition récursive : }\n",
    "B(n) = \\sum_{m=0}^{n-1} \\binom{n-1}{m} \\, B(m), \\quad B(0) = 1.\n",
    "\"\"\"))\n",
    "\n",
    "# Exemple : A000110\n",
    "for num in range(0, 11):\n",
    "    display(Math(rf\"B({num}) = {calcule_bell_dyn(num)}\"))"
   ]
  },
  {
   "cell_type": "markdown",
   "metadata": {},
   "source": [
    "## Partitions de type A"
   ]
  },
  {
   "cell_type": "code",
   "execution_count": 9,
   "metadata": {},
   "outputs": [
    {
     "name": "stdout",
     "output_type": "stream",
     "text": [
      "[[1, 2, 3, 4, 5, 6], [7], [8], [9], [10]]\n",
      "[[1, 2, 3, 4, 5, 7], [6], [8], [9], [10]]\n",
      "[[1, 2, 3, 4, 5], [6, 7], [8], [9], [10]]\n",
      "[[1, 2, 3, 4, 6, 7], [5], [8], [9], [10]]\n",
      "...\n",
      "[[1], [2, 10], [3], [4], [5, 6, 7, 8, 9]]\n",
      "[[1], [2], [3, 10], [4], [5, 6, 7, 8, 9]]\n",
      "[[1], [2], [3], [4, 10], [5, 6, 7, 8, 9]]\n",
      "[[1], [2], [3], [4], [5, 6, 7, 8, 9, 10]]\n"
     ]
    },
    {
     "data": {
      "text/latex": [
       "$\\displaystyle S(10,5) = 42525$"
      ],
      "text/plain": [
       "<IPython.core.display.Math object>"
      ]
     },
     "metadata": {},
     "output_type": "display_data"
    }
   ],
   "source": [
    "# Exemple\n",
    "A = list(range(1, 11))\n",
    "k = 5\n",
    "partitions = partitionne_stirling_dyn(A, k)\n",
    "for p in partitions[:4]:\n",
    "    print(p)\n",
    "print(\"...\")\n",
    "for p in partitions[-4:]:\n",
    "    print(p)\n",
    "\n",
    "display(Math(rf\"S({len(A)},{k}) = {len(partitions)}\"))\n"
   ]
  },
  {
   "cell_type": "code",
   "execution_count": 10,
   "metadata": {},
   "outputs": [
    {
     "name": "stdout",
     "output_type": "stream",
     "text": [
      "[[0, 1, 2, 3, 4, 5]]\n",
      "[[0, 1, 2, 3, 4], [5]]\n",
      "[[0, 1, 2, 3, 5], [4]]\n",
      "[[0, 1, 2, 3], [4, 5]]\n",
      "...\n",
      "[[0], [1], [2, 5], [3], [4]]\n",
      "[[0], [1], [2], [3, 5], [4]]\n",
      "[[0], [1], [2], [3], [4, 5]]\n",
      "[[0], [1], [2], [3], [4], [5]]\n"
     ]
    },
    {
     "data": {
      "text/latex": [
       "$\\displaystyle B(6) = 203$"
      ],
      "text/plain": [
       "<IPython.core.display.Math object>"
      ]
     },
     "metadata": {},
     "output_type": "display_data"
    }
   ],
   "source": [
    "# Exemple\n",
    "A = list(range(0, 6))\n",
    "all_partitions = partitionne_bell(A)\n",
    "for p in all_partitions[:4]:\n",
    "    print(p)\n",
    "print(\"...\")\n",
    "for p in all_partitions[-4:]:\n",
    "    print(p)\n",
    "display(Math(rf\"B({len(A)}) = {len(all_partitions)}\"))\n",
    "        "
   ]
  },
  {
   "cell_type": "markdown",
   "metadata": {},
   "source": [
    "## Statistiques sur les permutations de type A"
   ]
  },
  {
   "cell_type": "markdown",
   "metadata": {},
   "source": [
    "Descente, ascension, excédence et inversion."
   ]
  },
  {
   "cell_type": "code",
   "execution_count": 11,
   "metadata": {},
   "outputs": [
    {
     "name": "stdout",
     "output_type": "stream",
     "text": [
      "Permutation:\n",
      "[0, 1, 2, 3, 4, 5, 8, 7, 9, 6]\n",
      "Descentes :\n",
      "[6, 8]\n",
      "Ascensions :\n",
      "[0, 1, 2, 3, 4, 5, 7]\n",
      "Excédence :\n",
      "[6, 8]\n",
      "Inversions :\n",
      "[(6, 7), (6, 9), (7, 9), (8, 9)]\n"
     ]
    }
   ],
   "source": [
    "# Exemple\n",
    "n = 10\n",
    "n_perm = [0, 1, 2, 3, 4, 5, 8, 7, 9, 6]\n",
    "\n",
    "print(f\"Permutation:\\n{n_perm}\")\n",
    "print(f\"Descentes :\\n{liste_desc(n_perm)}\")\n",
    "print(f\"Ascensions :\\n{liste_asc(n_perm)}\")\n",
    "print(f\"Excédence :\\n{liste_exce(n_perm)}\")\n",
    "print(f\"Inversions :\\n{liste_inv(n_perm)}\")\n",
    "\n"
   ]
  },
  {
   "cell_type": "markdown",
   "metadata": {},
   "source": [
    "Visualisation des distributions des statistiques."
   ]
  },
  {
   "cell_type": "code",
   "execution_count": 12,
   "metadata": {},
   "outputs": [
    {
     "data": {
      "image/png": "[encoded data removed]",
      "text/plain": [
       "<Figure size 1000x800 with 4 Axes>"
      ]
     },
     "metadata": {},
     "output_type": "display_data"
    },
    {
     "name": "stdout",
     "output_type": "stream",
     "text": [
      "Analyse sur 40320 permutations de taille 8.\n"
     ]
    }
   ],
   "source": [
    "# Paramètres\n",
    "n = 8\n",
    "A = list(range(n))\n",
    "\n",
    "# Générer les permutations\n",
    "permutations = permute_rec(A)\n",
    "\n",
    "# Calculer les statistiques\n",
    "desc_counts = []\n",
    "asc_counts  = []\n",
    "exce_counts = []\n",
    "inv_counts  = []\n",
    "\n",
    "for perm in permutations:\n",
    "    desc_counts.append(len(liste_desc(perm)))\n",
    "    asc_counts.append(len(liste_asc(perm)))\n",
    "    exce_counts.append(len(liste_exce(perm)))\n",
    "    inv_counts.append(len(liste_inv(perm)))\n",
    "\n",
    "# ------------\n",
    "# Visualiser\n",
    "# ------------\n",
    "fig, axes = plt.subplots(2, 2, figsize=(10, 8))\n",
    "\n",
    "# Nombre de descentes\n",
    "axes[0,0].hist(desc_counts, bins=\"auto\", color=\"#90d743\", edgecolor=\"black\")\n",
    "axes[0,0].set_xlabel(\"Nombre de descentes\")\n",
    "axes[0,0].set_ylabel(\"Effectifs\")\n",
    "\n",
    "# Nombre d\"ascensions\n",
    "axes[0,1].hist(asc_counts, bins=\"auto\", color=\"#35b779\", edgecolor=\"black\")\n",
    "axes[0,1].set_xlabel(\"Nombre d'ascensions\")\n",
    "axes[0,1].set_ylabel(\"Effectifs\")\n",
    "\n",
    "# Nombre d\"excédences\n",
    "axes[1,0].hist(exce_counts, bins=\"auto\", color=\"#21918c\", edgecolor=\"black\")\n",
    "axes[1,0].set_xlabel(\"Nombre d'excédences\")\n",
    "axes[1,0].set_ylabel(\"Effectifs\")\n",
    "\n",
    "# Nombre d\"inversions\n",
    "axes[1,1].hist(inv_counts, bins=\"auto\", color=\"#31688e\", edgecolor=\"black\")\n",
    "axes[1,1].set_xlabel(\"Nombre d'inversions\")\n",
    "axes[1,1].set_ylabel(\"Effectifs\")\n",
    "\n",
    "plt.show()\n",
    "\n",
    "print(f\"Analyse sur {len(permutations)} permutations de taille {n}.\")"
   ]
  },
  {
   "cell_type": "markdown",
   "metadata": {},
   "source": [
    "## Partitions de type B"
   ]
  },
  {
   "cell_type": "markdown",
   "metadata": {},
   "source": [
    "### Générer des partitions de type B."
   ]
  },
  {
   "cell_type": "code",
   "execution_count": 13,
   "metadata": {},
   "outputs": [
    {
     "name": "stdout",
     "output_type": "stream",
     "text": [
      "[[-1, -2, -3, -4, -5, -6], [1, 2, 3, 4, 5, 6]]\n",
      "[[-1, -2, -3, -4, -5, 6], [1, 2, 3, 4, 5, -6]]\n",
      "[[-1, -2, -3, -4, 5, -6], [1, 2, 3, 4, -5, 6]]\n",
      "...\n",
      "[[-1], [1], [-2], [2], [-3], [3], [-4], [4], [-5, -6], [5, 6]]\n",
      "[[-1], [1], [-2], [2], [-3], [3], [-4], [4], [-5, 6], [5, -6]]\n",
      "[[-1], [1], [-2], [2], [-3], [3], [-4], [4], [-5], [5], [-6], [6]]\n",
      "Nombre de partitions de type B pour n=6 : 1539\n",
      "[[1, 2, 3, 4, 5, 6]]\n",
      "[[1, 2, 3, 4, 5], [6]]\n",
      "[[1, 2, 3, 4, 6], [5]]\n",
      "...\n",
      "[[1], [2], [3], [4, 6], [5]]\n",
      "[[1], [2], [3], [4], [5, 6]]\n",
      "[[1], [2], [3], [4], [5], [6]]\n",
      "Nombre de partitions de type A pour n=6 : 203\n"
     ]
    }
   ],
   "source": [
    "# Paramètres\n",
    "n = 6\n",
    "E = list(range(1, n+1))\n",
    "\n",
    "# Générer toutes les partitions de type A.\n",
    "parts_A = partitionne_bell(E)\n",
    "\n",
    "# Générer toutes les partitions de type B à partir des partitions de type A.\n",
    "parts_B = get_all_parts_B_from_A(parts_A, complete=True)\n",
    "\n",
    "# Afficher les résultats\n",
    "print_partitions(parts_B, length=n, name=\"partitions de type B\", scope=3)\n",
    "print_partitions(parts_A, length=n, name=\"partitions de type A\", scope=3)\n"
   ]
  },
  {
   "cell_type": "markdown",
   "metadata": {},
   "source": [
    "Nombre de Dowling :\n",
    "\n",
    "$$\n",
    "D_n \\;=\\; \\sum_{i=0}^n \\binom{n}{i}\n",
    "         \\sum_{k=0}^{\\,n-i} 2^{\\,n-i-k}\\,S(n-i,k).\n",
    "$$\n",
    "\n",
    "Le nombre de Dowling est une généralisation des nombres de Bell, qui compte les partitions de type B. Les nombres de Dowling sont définis pour n ≥ 0 et k ≥ 0. Ils sont calculés à l'aide de la formule ci-dessus."
   ]
  },
  {
   "cell_type": "code",
   "execution_count": 14,
   "metadata": {},
   "outputs": [
    {
     "data": {
      "text/latex": [
       "$\\displaystyle D(0) = 1$"
      ],
      "text/plain": [
       "<IPython.core.display.Math object>"
      ]
     },
     "metadata": {},
     "output_type": "display_data"
    },
    {
     "data": {
      "text/latex": [
       "$\\displaystyle D(1) = 2$"
      ],
      "text/plain": [
       "<IPython.core.display.Math object>"
      ]
     },
     "metadata": {},
     "output_type": "display_data"
    },
    {
     "data": {
      "text/latex": [
       "$\\displaystyle D(2) = 6$"
      ],
      "text/plain": [
       "<IPython.core.display.Math object>"
      ]
     },
     "metadata": {},
     "output_type": "display_data"
    },
    {
     "data": {
      "text/latex": [
       "$\\displaystyle D(3) = 24$"
      ],
      "text/plain": [
       "<IPython.core.display.Math object>"
      ]
     },
     "metadata": {},
     "output_type": "display_data"
    },
    {
     "data": {
      "text/latex": [
       "$\\displaystyle D(4) = 116$"
      ],
      "text/plain": [
       "<IPython.core.display.Math object>"
      ]
     },
     "metadata": {},
     "output_type": "display_data"
    },
    {
     "data": {
      "text/latex": [
       "$\\displaystyle D(5) = 648$"
      ],
      "text/plain": [
       "<IPython.core.display.Math object>"
      ]
     },
     "metadata": {},
     "output_type": "display_data"
    },
    {
     "data": {
      "text/latex": [
       "$\\displaystyle D(6) = 4088$"
      ],
      "text/plain": [
       "<IPython.core.display.Math object>"
      ]
     },
     "metadata": {},
     "output_type": "display_data"
    },
    {
     "data": {
      "text/latex": [
       "$\\displaystyle D(7) = 28640$"
      ],
      "text/plain": [
       "<IPython.core.display.Math object>"
      ]
     },
     "metadata": {},
     "output_type": "display_data"
    },
    {
     "data": {
      "text/latex": [
       "$\\displaystyle D(8) = 219920$"
      ],
      "text/plain": [
       "<IPython.core.display.Math object>"
      ]
     },
     "metadata": {},
     "output_type": "display_data"
    },
    {
     "data": {
      "text/latex": [
       "$\\displaystyle D(9) = 1832224$"
      ],
      "text/plain": [
       "<IPython.core.display.Math object>"
      ]
     },
     "metadata": {},
     "output_type": "display_data"
    }
   ],
   "source": [
    "# Exemple : A007405\n",
    "for i in range(0, 10):\n",
    "    display(Math(rf\"D({i}) = {calcule_dowling(i)}\"))"
   ]
  },
  {
   "cell_type": "markdown",
   "metadata": {},
   "source": [
    "Let $w_n$ denote the number of type B set partitions without zero block over $<n>$.\n",
    "$$\n",
    "w_n \\;=\\; \\sum_{k=0}^n 2^{\\,n-k}\\,S(n,k).\n",
    "$$"
   ]
  },
  {
   "cell_type": "code",
   "execution_count": 15,
   "metadata": {},
   "outputs": [
    {
     "data": {
      "text/latex": [
       "$\\displaystyle w_0 = 1$"
      ],
      "text/plain": [
       "<IPython.core.display.Math object>"
      ]
     },
     "metadata": {},
     "output_type": "display_data"
    },
    {
     "data": {
      "text/latex": [
       "$\\displaystyle w_1 = 1$"
      ],
      "text/plain": [
       "<IPython.core.display.Math object>"
      ]
     },
     "metadata": {},
     "output_type": "display_data"
    },
    {
     "data": {
      "text/latex": [
       "$\\displaystyle w_2 = 3$"
      ],
      "text/plain": [
       "<IPython.core.display.Math object>"
      ]
     },
     "metadata": {},
     "output_type": "display_data"
    },
    {
     "data": {
      "text/latex": [
       "$\\displaystyle w_3 = 11$"
      ],
      "text/plain": [
       "<IPython.core.display.Math object>"
      ]
     },
     "metadata": {},
     "output_type": "display_data"
    },
    {
     "data": {
      "text/latex": [
       "$\\displaystyle w_4 = 49$"
      ],
      "text/plain": [
       "<IPython.core.display.Math object>"
      ]
     },
     "metadata": {},
     "output_type": "display_data"
    },
    {
     "data": {
      "text/latex": [
       "$\\displaystyle w_5 = 257$"
      ],
      "text/plain": [
       "<IPython.core.display.Math object>"
      ]
     },
     "metadata": {},
     "output_type": "display_data"
    },
    {
     "data": {
      "text/latex": [
       "$\\displaystyle w_6 = 1539$"
      ],
      "text/plain": [
       "<IPython.core.display.Math object>"
      ]
     },
     "metadata": {},
     "output_type": "display_data"
    },
    {
     "data": {
      "text/latex": [
       "$\\displaystyle w_7 = 10299$"
      ],
      "text/plain": [
       "<IPython.core.display.Math object>"
      ]
     },
     "metadata": {},
     "output_type": "display_data"
    },
    {
     "data": {
      "text/latex": [
       "$\\displaystyle w_8 = 75905$"
      ],
      "text/plain": [
       "<IPython.core.display.Math object>"
      ]
     },
     "metadata": {},
     "output_type": "display_data"
    },
    {
     "data": {
      "text/latex": [
       "$\\displaystyle w_9 = 609441$"
      ],
      "text/plain": [
       "<IPython.core.display.Math object>"
      ]
     },
     "metadata": {},
     "output_type": "display_data"
    }
   ],
   "source": [
    "# Exemple : A004211\n",
    "for i in range(0, 10):\n",
    "    display(Math(rf\"w_{i} = {calcule_dowling_no_zero_block(i)}\"))\n"
   ]
  },
  {
   "cell_type": "markdown",
   "metadata": {},
   "source": [
    "### Type B separated set partitions"
   ]
  },
  {
   "cell_type": "code",
   "execution_count": 16,
   "metadata": {},
   "outputs": [
    {
     "name": "stdout",
     "output_type": "stream",
     "text": [
      "[[1, -2, 3, -4, 5]]\n",
      "[[1, -2, 3, -4], [5]]\n",
      "[[1, -2, 3, 5], [4]]\n",
      "...\n",
      "[[1], [2], [3, -5], [4]]\n",
      "[[1], [2], [3], [4, -5]]\n",
      "[[1], [2], [3], [4], [5]]\n",
      "Nombre de partitions de type B séparées sans b0 pour n=5 : 116\n",
      "Nombre de partitions de type B fortement séparées sans b0 pour n=5 : 49\n",
      "Nombre de partitions de type B sans b0 pour n=4 : 49\n"
     ]
    }
   ],
   "source": [
    "# Paramètres\n",
    "n = 5\n",
    "\n",
    "# Générer toutes les partitions de type A.\n",
    "E = list(range(1, n+1))\n",
    "parts_A = partitionne_bell(E)\n",
    "\n",
    "# Générer toutes les partitions de type B à partir des partitions de type A.\n",
    "parts_B = get_all_parts_B_from_A(parts_A)\n",
    "\n",
    "# Filtrer les partitions de type B pour ne garder que celles qui sont séparées.\n",
    "parts_B_separated_no_b0 = [part for part in parts_B if is_separated(part)]\n",
    "\n",
    "# Filtrer les partitions de type B pour ne garder que celles qui sont fortement séparées.\n",
    "parts_B_strong_separated_no_b0 = [part for part in parts_B if is_strongly_separated(part)]\n",
    "\n",
    "# Afficher les résultats\n",
    "print_partitions(parts_B_separated_no_b0, length=n, name=\"partitions de type B séparées sans b0\", scope=3)\n",
    "print(f\"Nombre de partitions de type B fortement séparées sans b0 pour n={n} : {len(parts_B_strong_separated_no_b0)}\")\n",
    "\n",
    "n = n-1\n",
    "E = list(range(1, n+1))\n",
    "parts_A = partitionne_bell(E)\n",
    "parts_B = get_all_parts_B_from_A(parts_A)\n",
    "print(f\"Nombre de partitions de type B sans b0 pour n={n} : {len(parts_B)}\")\n"
   ]
  },
  {
   "cell_type": "markdown",
   "metadata": {},
   "source": [
    "### Type B Merging-Free set partitions"
   ]
  },
  {
   "cell_type": "markdown",
   "metadata": {},
   "source": [
    "Merge-free block."
   ]
  },
  {
   "cell_type": "code",
   "execution_count": 17,
   "metadata": {},
   "outputs": [
    {
     "name": "stdout",
     "output_type": "stream",
     "text": [
      "[[1, 2, 3, 4, 5]]\n",
      "[[1, 2, 3, 4, -5]]\n",
      "[[1, 2, 3, -4, 5]]\n",
      "...\n",
      "[[1, 5], [2, -4], [3]]\n",
      "[[1, -5], [2, 4], [3]]\n",
      "[[1, -5], [2, -4], [3]]\n",
      "Nombre de partitions de type B merge-free pour n=5 : 116\n",
      "Nombre de partitions de type B pour n=5 : 257\n",
      "Nombre de partitions de type B merge-free n=4 : 32\n",
      "Nombre de partitions de type B pour n=4 : 116\n"
     ]
    }
   ],
   "source": [
    "# Paramètres\n",
    "n = 5\n",
    "# Générer toutes les partitions de type A.\n",
    "E = list(range(1 ,n+1))\n",
    "parts_A = partitionne_bell(E)\n",
    "# Générer toutes les partitions de type B à partir des partitions de type A.\n",
    "parts_B = get_all_parts_B_from_A(parts_A)\n",
    "# Filtrer les partitions de type B pour ne garder que celles qui sont merge-free.\n",
    "parts_B_merge_free = [part for part in parts_B if is_merge_free(part)]\n",
    "# Afficher les résultats\n",
    "print_partitions(parts_B_merge_free, length=n, name=\"partitions de type B merge-free\", scope=3)\n",
    "print(f\"Nombre de partitions de type B pour n={n} : {len(parts_B)}\")\n",
    "\n",
    "n = n-1\n",
    "E = list(range(n+1))\n",
    "parts_A = partitionne_bell(E)\n",
    "parts_B = get_all_parts_B_from_A(parts_A)\n",
    "parts_B_merge_free = [part for part in parts_B if is_merge_free(part)]\n",
    "print(f\"Nombre de partitions de type B merge-free n={n} : {len(parts_B_merge_free)}\")\n",
    "print(f\"Nombre de partitions de type B pour n={n} : {len(parts_B)}\")\n"
   ]
  },
  {
   "cell_type": "markdown",
   "metadata": {},
   "source": [
    "Normal merge-free block."
   ]
  },
  {
   "cell_type": "code",
   "execution_count": 18,
   "metadata": {},
   "outputs": [
    {
     "name": "stdout",
     "output_type": "stream",
     "text": [
      "[[1, 2, 3, 4, 5]]\n",
      "[[1, 2, 3, 4, -5]]\n",
      "[[1, 2, 3, -4, 5]]\n",
      "...\n",
      "[[1], [2, -4], [3, -5]]\n",
      "[[1, 5], [2], [3, -4]]\n",
      "[[1], [2, -5], [3, -4]]\n",
      "Nombre de partitions de type B normal merge-free pour n=5 : 116\n"
     ]
    }
   ],
   "source": [
    "# Paramètres\n",
    "n = 5\n",
    "# Générer toutes les partitions de type A.\n",
    "E = list(range(1, n+1))\n",
    "parts_A = partitionne_bell(E)\n",
    "# Générer toutes les partitions de type B à partir des partitions de type A.\n",
    "parts_B = get_all_parts_B_from_A(parts_A)\n",
    "# Filtrer les partitions de type B pour ne garder que celles qui sont normal merge-free.\n",
    "parts_B_normal_merge_free = [part for part in parts_B if is_normal_merge_free(part)]\n",
    "# Afficher les résultats\n",
    "print_partitions(parts_B_normal_merge_free, length=n, name=\"partitions de type B normal merge-free\", scope=3)\n"
   ]
  },
  {
   "cell_type": "code",
   "execution_count": 19,
   "metadata": {},
   "outputs": [
    {
     "data": {
      "text/html": [
       "<div>\n",
       "<style scoped>\n",
       "    .dataframe tbody tr th:only-of-type {\n",
       "        vertical-align: middle;\n",
       "    }\n",
       "\n",
       "    .dataframe tbody tr th {\n",
       "        vertical-align: top;\n",
       "    }\n",
       "\n",
       "    .dataframe thead th {\n",
       "        text-align: right;\n",
       "    }\n",
       "</style>\n",
       "<table border=\"1\" class=\"dataframe\">\n",
       "  <thead>\n",
       "    <tr style=\"text-align: right;\">\n",
       "      <th></th>\n",
       "      <th>type B</th>\n",
       "      <th>no_b0</th>\n",
       "      <th>merge_free</th>\n",
       "      <th>separated</th>\n",
       "      <th>merge_free_no_b0</th>\n",
       "      <th>separated_no_b0</th>\n",
       "      <th>merge_free_separated</th>\n",
       "      <th>merge_free_separated_no_b0</th>\n",
       "      <th>strongly_separated</th>\n",
       "      <th>strongly_separated_no_b0</th>\n",
       "    </tr>\n",
       "    <tr>\n",
       "      <th>n</th>\n",
       "      <th></th>\n",
       "      <th></th>\n",
       "      <th></th>\n",
       "      <th></th>\n",
       "      <th></th>\n",
       "      <th></th>\n",
       "      <th></th>\n",
       "      <th></th>\n",
       "      <th></th>\n",
       "      <th></th>\n",
       "    </tr>\n",
       "  </thead>\n",
       "  <tbody>\n",
       "    <tr>\n",
       "      <th>0</th>\n",
       "      <td>1</td>\n",
       "      <td>1</td>\n",
       "      <td>1</td>\n",
       "      <td>1</td>\n",
       "      <td>1</td>\n",
       "      <td>1</td>\n",
       "      <td>1</td>\n",
       "      <td>1</td>\n",
       "      <td>1</td>\n",
       "      <td>1</td>\n",
       "    </tr>\n",
       "    <tr>\n",
       "      <th>1</th>\n",
       "      <td>2</td>\n",
       "      <td>1</td>\n",
       "      <td>1</td>\n",
       "      <td>2</td>\n",
       "      <td>1</td>\n",
       "      <td>1</td>\n",
       "      <td>1</td>\n",
       "      <td>1</td>\n",
       "      <td>1</td>\n",
       "      <td>1</td>\n",
       "    </tr>\n",
       "    <tr>\n",
       "      <th>2</th>\n",
       "      <td>6</td>\n",
       "      <td>3</td>\n",
       "      <td>2</td>\n",
       "      <td>4</td>\n",
       "      <td>2</td>\n",
       "      <td>2</td>\n",
       "      <td>1</td>\n",
       "      <td>1</td>\n",
       "      <td>2</td>\n",
       "      <td>1</td>\n",
       "    </tr>\n",
       "    <tr>\n",
       "      <th>3</th>\n",
       "      <td>24</td>\n",
       "      <td>11</td>\n",
       "      <td>7</td>\n",
       "      <td>14</td>\n",
       "      <td>6</td>\n",
       "      <td>6</td>\n",
       "      <td>4</td>\n",
       "      <td>3</td>\n",
       "      <td>7</td>\n",
       "      <td>3</td>\n",
       "    </tr>\n",
       "    <tr>\n",
       "      <th>4</th>\n",
       "      <td>116</td>\n",
       "      <td>49</td>\n",
       "      <td>32</td>\n",
       "      <td>60</td>\n",
       "      <td>24</td>\n",
       "      <td>24</td>\n",
       "      <td>16</td>\n",
       "      <td>11</td>\n",
       "      <td>27</td>\n",
       "      <td>11</td>\n",
       "    </tr>\n",
       "    <tr>\n",
       "      <th>5</th>\n",
       "      <td>648</td>\n",
       "      <td>257</td>\n",
       "      <td>173</td>\n",
       "      <td>306</td>\n",
       "      <td>116</td>\n",
       "      <td>116</td>\n",
       "      <td>80</td>\n",
       "      <td>49</td>\n",
       "      <td>132</td>\n",
       "      <td>49</td>\n",
       "    </tr>\n",
       "    <tr>\n",
       "      <th>6</th>\n",
       "      <td>4088</td>\n",
       "      <td>1539</td>\n",
       "      <td>1064</td>\n",
       "      <td>1796</td>\n",
       "      <td>648</td>\n",
       "      <td>648</td>\n",
       "      <td>458</td>\n",
       "      <td>257</td>\n",
       "      <td>733</td>\n",
       "      <td>257</td>\n",
       "    </tr>\n",
       "    <tr>\n",
       "      <th>7</th>\n",
       "      <td>28640</td>\n",
       "      <td>10299</td>\n",
       "      <td>7275</td>\n",
       "      <td>11838</td>\n",
       "      <td>4088</td>\n",
       "      <td>4088</td>\n",
       "      <td>2940</td>\n",
       "      <td>1539</td>\n",
       "      <td>4615</td>\n",
       "      <td>1539</td>\n",
       "    </tr>\n",
       "  </tbody>\n",
       "</table>\n",
       "</div>"
      ],
      "text/plain": [
       "   type B  no_b0  merge_free  separated  merge_free_no_b0  separated_no_b0  \\\n",
       "n                                                                            \n",
       "0       1      1           1          1                 1                1   \n",
       "1       2      1           1          2                 1                1   \n",
       "2       6      3           2          4                 2                2   \n",
       "3      24     11           7         14                 6                6   \n",
       "4     116     49          32         60                24               24   \n",
       "5     648    257         173        306               116              116   \n",
       "6    4088   1539        1064       1796               648              648   \n",
       "7   28640  10299        7275      11838              4088             4088   \n",
       "\n",
       "   merge_free_separated  merge_free_separated_no_b0  strongly_separated  \\\n",
       "n                                                                         \n",
       "0                     1                           1                   1   \n",
       "1                     1                           1                   1   \n",
       "2                     1                           1                   2   \n",
       "3                     4                           3                   7   \n",
       "4                    16                          11                  27   \n",
       "5                    80                          49                 132   \n",
       "6                   458                         257                 733   \n",
       "7                  2940                        1539                4615   \n",
       "\n",
       "   strongly_separated_no_b0  \n",
       "n                            \n",
       "0                         1  \n",
       "1                         1  \n",
       "2                         1  \n",
       "3                         3  \n",
       "4                        11  \n",
       "5                        49  \n",
       "6                       257  \n",
       "7                      1539  "
      ]
     },
     "execution_count": 19,
     "metadata": {},
     "output_type": "execute_result"
    }
   ],
   "source": [
    "# \"The number of type B merging-free separated partition over n and\n",
    "# and the number of type B set partitions without zero block over n-1\n",
    "# are equal.\"\n",
    "\n",
    "results = []\n",
    "for n in range(8):\n",
    "\n",
    "    E = list(range(n + 1))\n",
    "    parts_A = partitionne_bell(E)\n",
    "    parts_B = get_all_parts_B_from_A(parts_A)\n",
    "\n",
    "    D = list(range(1, n + 1))\n",
    "    parts_A = partitionne_bell(D)\n",
    "    parts_B_no_0 = get_all_parts_B_from_A(parts_A)\n",
    "\n",
    "    results.append({\n",
    "        'n'                              : n,\n",
    "        \"type B\"                         : len(parts_B),\n",
    "        'no_b0'                          : len(parts_B_no_0),\n",
    "        'merge_free'                     : sum(is_merge_free(p) for p in parts_B),\n",
    "        'separated'                      : sum(is_separated(p) for p in parts_B),\n",
    "        'merge_free_no_b0'               : sum(is_merge_free(p) for p in parts_B_no_0),\n",
    "        'separated_no_b0'                : sum(is_separated(p) for p in parts_B_no_0),\n",
    "        'merge_free_separated'           : sum(is_merge_free(p) and is_separated(p) for p in parts_B),\n",
    "        'merge_free_separated_no_b0'     : sum(is_merge_free(p) and is_separated(p) for p in parts_B_no_0),\n",
    "        'strongly_separated'             : sum(is_strongly_separated(p) for p in parts_B),\n",
    "        'strongly_separated_no_b0'       : sum(is_strongly_separated(p) for p in parts_B_no_0),\n",
    "    })\n",
    "\n",
    "df = pd.DataFrame(results).set_index('n')\n",
    "df"
   ]
  },
  {
   "cell_type": "markdown",
   "metadata": {},
   "source": [
    "### Statistiques sur les partitions de type B"
   ]
  },
  {
   "cell_type": "markdown",
   "metadata": {},
   "source": [
    "Une inversion est un couple $(s, S_j)$, avec $s$ un entier et $S_j$ un bloc, tels que :\n",
    "- $s \\in S_i$ avec $i<j$\n",
    "- $s > m_j$ avec $m_j$ le minimum du bloc $S$"
   ]
  },
  {
   "cell_type": "code",
   "execution_count": 20,
   "metadata": {},
   "outputs": [],
   "source": [
    "# Paramètres\n",
    "n = 6\n",
    "# Générer toutes les partitions de type A.\n",
    "E = list(range(1, n+1))\n",
    "parts_A = partitionne_bell(E)\n",
    "# Générer toutes les partitions de type B à partir des partitions de type A.\n",
    "parts_B = get_all_parts_B_from_A(parts_A, complete=True)\n",
    "# Filtrer les partitions de type B pour ne garder que celles qui sont séparées.\n",
    "parts_B_separated = [part for part in parts_B if is_separated(part)]\n",
    "# Filtrer les partitions de type B pour ne garder que celles qui sont merge-free.\n",
    "parts_B_merge_free = [part for part in parts_B if is_merge_free(part)]\n",
    "# Filtrer les partitions de type B pour ne garder que celles qui sont normal merge-free.\n",
    "parts_B_normal_merge_free = [part for part in parts_B if is_normal_merge_free(part)]\n"
   ]
  },
  {
   "cell_type": "code",
   "execution_count": 21,
   "metadata": {},
   "outputs": [],
   "source": [
    "# Compter les inversions dans chaque partition de type B\n",
    "parts_B_inv_counts = [compte_inversions(part) for part in parts_B]\n",
    "# Compter les inversions dans chaque partition de type B séparée\n",
    "parts_B_separated_inv_counts = [compte_inversions(part) for part in parts_B_separated]\n",
    "# Compter les inversions dans chaque partition de type B merge-free\n",
    "parts_B_merge_free_inv_counts = [compte_inversions(part) for part in parts_B_merge_free]\n",
    "# Compter les inversions dans chaque partition de type B normal merge-free\n",
    "parts_B_normal_merge_free_inv_counts = [compte_inversions(part) for part in parts_B_normal_merge_free]\n"
   ]
  },
  {
   "cell_type": "code",
   "execution_count": 22,
   "metadata": {},
   "outputs": [
    {
     "data": {
      "image/png": "[encoded data removed]",
      "text/plain": [
       "<Figure size 1200x900 with 4 Axes>"
      ]
     },
     "metadata": {},
     "output_type": "display_data"
    },
    {
     "name": "stdout",
     "output_type": "stream",
     "text": [
      "Partitions de type B :\n",
      "Nombre d'inversions : 0, Effectifs : 32\n",
      "Nombre d'inversions : 1, Effectifs : 80\n",
      "Nombre d'inversions : 2, Effectifs : 129\n",
      "Nombre d'inversions : 3, Effectifs : 174\n",
      "Nombre d'inversions : 4, Effectifs : 199\n",
      "Nombre d'inversions : 5, Effectifs : 211\n",
      "Nombre d'inversions : 6, Effectifs : 200\n",
      "Nombre d'inversions : 7, Effectifs : 170\n",
      "Nombre d'inversions : 8, Effectifs : 130\n",
      "Nombre d'inversions : 9, Effectifs : 91\n",
      "Nombre d'inversions : 10, Effectifs : 58\n",
      "Nombre d'inversions : 11, Effectifs : 33\n",
      "Nombre d'inversions : 12, Effectifs : 18\n",
      "Nombre d'inversions : 13, Effectifs : 9\n",
      "Nombre d'inversions : 14, Effectifs : 4\n",
      "Nombre d'inversions : 15, Effectifs : 1\n",
      "\n",
      "Partitions de type B séparées :\n",
      "Nombre d'inversions : 0, Effectifs : 1\n",
      "Nombre d'inversions : 1, Effectifs : 9\n",
      "Nombre d'inversions : 2, Effectifs : 25\n",
      "Nombre d'inversions : 3, Effectifs : 45\n",
      "Nombre d'inversions : 4, Effectifs : 71\n",
      "Nombre d'inversions : 5, Effectifs : 87\n",
      "Nombre d'inversions : 6, Effectifs : 107\n",
      "Nombre d'inversions : 7, Effectifs : 93\n",
      "Nombre d'inversions : 8, Effectifs : 80\n",
      "Nombre d'inversions : 9, Effectifs : 57\n",
      "Nombre d'inversions : 10, Effectifs : 37\n",
      "Nombre d'inversions : 11, Effectifs : 19\n",
      "Nombre d'inversions : 12, Effectifs : 12\n",
      "Nombre d'inversions : 13, Effectifs : 4\n",
      "Nombre d'inversions : 14, Effectifs : 1\n",
      "\n",
      "Partitions de type B merge-free :\n",
      "Nombre d'inversions : 0, Effectifs : 1\n",
      "Nombre d'inversions : 1, Effectifs : 5\n",
      "Nombre d'inversions : 2, Effectifs : 20\n",
      "Nombre d'inversions : 3, Effectifs : 50\n",
      "Nombre d'inversions : 4, Effectifs : 80\n",
      "Nombre d'inversions : 5, Effectifs : 96\n",
      "Nombre d'inversions : 6, Effectifs : 102\n",
      "Nombre d'inversions : 7, Effectifs : 101\n",
      "Nombre d'inversions : 8, Effectifs : 82\n",
      "Nombre d'inversions : 9, Effectifs : 51\n",
      "Nombre d'inversions : 10, Effectifs : 29\n",
      "Nombre d'inversions : 11, Effectifs : 18\n",
      "Nombre d'inversions : 12, Effectifs : 10\n",
      "Nombre d'inversions : 13, Effectifs : 3\n",
      "\n",
      "Partitions de type B normal merge-free :\n",
      "Nombre d'inversions : 1, Effectifs : 5\n",
      "Nombre d'inversions : 2, Effectifs : 20\n",
      "Nombre d'inversions : 3, Effectifs : 21\n",
      "Nombre d'inversions : 4, Effectifs : 38\n",
      "Nombre d'inversions : 5, Effectifs : 35\n",
      "Nombre d'inversions : 6, Effectifs : 42\n",
      "Nombre d'inversions : 7, Effectifs : 37\n",
      "Nombre d'inversions : 8, Effectifs : 21\n",
      "Nombre d'inversions : 9, Effectifs : 18\n",
      "Nombre d'inversions : 10, Effectifs : 4\n"
     ]
    }
   ],
   "source": [
    "def get_bar_data(inv_counts):\n",
    "    valeurs, effectifs = np.unique(inv_counts, return_counts=True)\n",
    "    return valeurs, effectifs\n",
    "\n",
    "\n",
    "# Inversions\n",
    "vals_B, cnts_B = get_bar_data(parts_B_inv_counts)\n",
    "vals_B_sep, cnts_B_sep = get_bar_data(parts_B_separated_inv_counts)\n",
    "vals_B_mf, cnts_B_mf = get_bar_data(parts_B_merge_free_inv_counts)\n",
    "vals_B_nmf, cnts_B_nmf = get_bar_data(parts_B_normal_merge_free_inv_counts)\n",
    "\n",
    "# Visualiser\n",
    "fig, axes = plt.subplots(2, 2, figsize=(12, 9))\n",
    "\n",
    "# Diagramme à bâtons pour partitions de type B\n",
    "axes[0, 0].bar(vals_B, cnts_B, color=\"#90d743\", edgecolor=\"black\")\n",
    "axes[0, 0].set_xlabel(\"Nombre d'inversions\")\n",
    "axes[0, 0].set_ylabel(\"Effectifs\")\n",
    "axes[0, 0].set_title(\"Partitions de type B\")\n",
    "\n",
    "# Diagramme à bâtons pour partitions de type B séparées\n",
    "axes[0, 1].bar(vals_B_sep, cnts_B_sep, color=\"#35b779\", edgecolor=\"black\")\n",
    "axes[0, 1].set_xlabel(\"Nombre d'inversions\")\n",
    "axes[0, 1].set_ylabel(\"Effectifs\")\n",
    "axes[0, 1].set_title(\"Partitions de type B séparées\")\n",
    "\n",
    "# Diagramme à bâtons pour partitions de type B merge-free\n",
    "axes[1, 0].bar(vals_B_mf, cnts_B_mf, color=\"#21918c\", edgecolor=\"black\")\n",
    "axes[1, 0].set_xlabel(\"Nombre d'inversions\")\n",
    "axes[1, 0].set_ylabel(\"Effectifs\")\n",
    "axes[1, 0].set_title(\"Partitions de type B merge-free\")\n",
    "\n",
    "# Diagramme à bâtons pour partitions de type B normal merge-free\n",
    "axes[1, 1].bar(vals_B_nmf, cnts_B_nmf, color=\"#31688e\", edgecolor=\"black\")\n",
    "axes[1, 1].set_xlabel(\"Nombre d'inversions\")\n",
    "axes[1, 1].set_ylabel(\"Effectifs\")\n",
    "axes[1, 1].set_title(\"Partitions de type B normal merge-free\")\n",
    "\n",
    "\n",
    "plt.tight_layout()\n",
    "plt.show()\n",
    "\n",
    "# Afficher les effectifs des diagrammes\n",
    "print(\"Partitions de type B :\")\n",
    "for val, cnt in zip(vals_B, cnts_B):\n",
    "    print(f\"Nombre d'inversions : {val}, Effectifs : {cnt}\")\n",
    "print(\"\\nPartitions de type B séparées :\")\n",
    "for val, cnt in zip(vals_B_sep, cnts_B_sep):\n",
    "    print(f\"Nombre d'inversions : {val}, Effectifs : {cnt}\")\n",
    "print(\"\\nPartitions de type B merge-free :\")\n",
    "for val, cnt in zip(vals_B_mf, cnts_B_mf):\n",
    "    print(f\"Nombre d'inversions : {val}, Effectifs : {cnt}\")\n",
    "print(\"\\nPartitions de type B normal merge-free :\")\n",
    "for val, cnt in zip(vals_B_nmf, cnts_B_nmf):\n",
    "    print(f\"Nombre d'inversions : {val}, Effectifs : {cnt}\")"
   ]
  },
  {
   "cell_type": "markdown",
   "metadata": {},
   "source": [
    "### Type B inversion free set partitions"
   ]
  },
  {
   "cell_type": "markdown",
   "metadata": {},
   "source": [
    "Une inversion est un couple $(s, S_j)$, avec $s$ un entier et $S_j$ un bloc, tels que :\n",
    "- $s \\in S_i$ avec $i<j$\n",
    "- $s > m_j$ avec $m_j$ le minimum en valeur absolue du bloc $S$ "
   ]
  },
  {
   "cell_type": "code",
   "execution_count": 23,
   "metadata": {},
   "outputs": [
    {
     "name": "stdout",
     "output_type": "stream",
     "text": [
      "[[-1, -2, -3, -4, -5], [1, 2, 3, 4, 5]]\n",
      "[[-1, -2, -3, -4], [1, 2, 3, 4], [-5], [5]]\n",
      "[[-1, -2, -3], [1, 2, 3], [-4, -5], [4, 5]]\n",
      "...\n",
      "[[-1], [1], [-2], [2], [-3, -4], [3, 4], [-5], [5]]\n",
      "[[-1], [1], [-2], [2], [-3], [3], [-4, -5], [4, 5]]\n",
      "[[-1], [1], [-2], [2], [-3], [3], [-4], [4], [-5], [5]]\n",
      "Nombre de partitions de type B inversion-free pour n=5 : 16\n",
      "Nombre de partitions de type B inversion-free séparées pour n=5 : 1\n",
      "Nombre de partitions de type B inversion-free merge-free pour n=5 : 1\n",
      "Nombre de partitions de type B inversion-free normal merge-free pour n=5 : 0\n"
     ]
    }
   ],
   "source": [
    "# Paramètres\n",
    "n = 5\n",
    "# Générer toutes les partitions de type A.\n",
    "E = list(range(1, n+1))\n",
    "parts_A = partitionne_bell(E)\n",
    "# Générer toutes les partitions de type B à partir des partitions de type A.\n",
    "parts_B = get_all_parts_B_from_A(parts_A, complete=True)\n",
    "# Partitions de type B  inversion-free.\n",
    "parts_B_inversion_free = [part for part in parts_B if is_inversion_free(part)]\n",
    "# Partition de type B inversion-free séparée.\n",
    "parts_B_inversion_free_separated = [part for part in parts_B_inversion_free if is_separated(part)]\n",
    "# Partitions de type B inversion-free merge-free.\n",
    "parts_B_inversion_free_merge_free = [part for part in parts_B_inversion_free if is_merge_free(part)]\n",
    "# Partitions de type B inversion-free normal merge-free.\n",
    "parts_B_inversion_free_normal_merge_free = [part for part in parts_B_inversion_free if is_normal_merge_free(part)]\n",
    "\n",
    "\n",
    "# Afficher les résultats\n",
    "print_partitions(parts_B_inversion_free, length=n, name=\"partitions de type B inversion-free\", scope=3)\n",
    "print(f\"Nombre de partitions de type B inversion-free séparées pour n={n} : {len(parts_B_inversion_free_separated)}\")\n",
    "print(f\"Nombre de partitions de type B inversion-free merge-free pour n={n} : {len(parts_B_inversion_free_merge_free)}\")\n",
    "print(f\"Nombre de partitions de type B inversion-free normal merge-free pour n={n} : {len(parts_B_inversion_free_normal_merge_free)}\")\n"
   ]
  },
  {
   "cell_type": "code",
   "execution_count": 24,
   "metadata": {},
   "outputs": [
    {
     "data": {
      "text/html": [
       "<div>\n",
       "<style scoped>\n",
       "    .dataframe tbody tr th:only-of-type {\n",
       "        vertical-align: middle;\n",
       "    }\n",
       "\n",
       "    .dataframe tbody tr th {\n",
       "        vertical-align: top;\n",
       "    }\n",
       "\n",
       "    .dataframe thead th {\n",
       "        text-align: right;\n",
       "    }\n",
       "</style>\n",
       "<table border=\"1\" class=\"dataframe\">\n",
       "  <thead>\n",
       "    <tr style=\"text-align: right;\">\n",
       "      <th></th>\n",
       "      <th>inversion_free</th>\n",
       "      <th>separated_IF</th>\n",
       "      <th>strongly_separated_IF</th>\n",
       "      <th>merge_free_IF</th>\n",
       "      <th>normal_merge_free_IF</th>\n",
       "    </tr>\n",
       "    <tr>\n",
       "      <th>n</th>\n",
       "      <th></th>\n",
       "      <th></th>\n",
       "      <th></th>\n",
       "      <th></th>\n",
       "      <th></th>\n",
       "    </tr>\n",
       "  </thead>\n",
       "  <tbody>\n",
       "    <tr>\n",
       "      <th>0</th>\n",
       "      <td>1</td>\n",
       "      <td>1</td>\n",
       "      <td>1</td>\n",
       "      <td>1</td>\n",
       "      <td>1</td>\n",
       "    </tr>\n",
       "    <tr>\n",
       "      <th>1</th>\n",
       "      <td>1</td>\n",
       "      <td>1</td>\n",
       "      <td>1</td>\n",
       "      <td>1</td>\n",
       "      <td>0</td>\n",
       "    </tr>\n",
       "    <tr>\n",
       "      <th>2</th>\n",
       "      <td>2</td>\n",
       "      <td>1</td>\n",
       "      <td>1</td>\n",
       "      <td>1</td>\n",
       "      <td>0</td>\n",
       "    </tr>\n",
       "    <tr>\n",
       "      <th>3</th>\n",
       "      <td>4</td>\n",
       "      <td>1</td>\n",
       "      <td>1</td>\n",
       "      <td>1</td>\n",
       "      <td>0</td>\n",
       "    </tr>\n",
       "    <tr>\n",
       "      <th>4</th>\n",
       "      <td>8</td>\n",
       "      <td>1</td>\n",
       "      <td>1</td>\n",
       "      <td>1</td>\n",
       "      <td>0</td>\n",
       "    </tr>\n",
       "    <tr>\n",
       "      <th>5</th>\n",
       "      <td>16</td>\n",
       "      <td>1</td>\n",
       "      <td>1</td>\n",
       "      <td>1</td>\n",
       "      <td>0</td>\n",
       "    </tr>\n",
       "    <tr>\n",
       "      <th>6</th>\n",
       "      <td>32</td>\n",
       "      <td>1</td>\n",
       "      <td>1</td>\n",
       "      <td>1</td>\n",
       "      <td>0</td>\n",
       "    </tr>\n",
       "    <tr>\n",
       "      <th>7</th>\n",
       "      <td>64</td>\n",
       "      <td>1</td>\n",
       "      <td>1</td>\n",
       "      <td>1</td>\n",
       "      <td>0</td>\n",
       "    </tr>\n",
       "    <tr>\n",
       "      <th>8</th>\n",
       "      <td>128</td>\n",
       "      <td>1</td>\n",
       "      <td>1</td>\n",
       "      <td>1</td>\n",
       "      <td>0</td>\n",
       "    </tr>\n",
       "  </tbody>\n",
       "</table>\n",
       "</div>"
      ],
      "text/plain": [
       "   inversion_free  separated_IF  strongly_separated_IF  merge_free_IF  \\\n",
       "n                                                                       \n",
       "0               1             1                      1              1   \n",
       "1               1             1                      1              1   \n",
       "2               2             1                      1              1   \n",
       "3               4             1                      1              1   \n",
       "4               8             1                      1              1   \n",
       "5              16             1                      1              1   \n",
       "6              32             1                      1              1   \n",
       "7              64             1                      1              1   \n",
       "8             128             1                      1              1   \n",
       "\n",
       "   normal_merge_free_IF  \n",
       "n                        \n",
       "0                     1  \n",
       "1                     0  \n",
       "2                     0  \n",
       "3                     0  \n",
       "4                     0  \n",
       "5                     0  \n",
       "6                     0  \n",
       "7                     0  \n",
       "8                     0  "
      ]
     },
     "execution_count": 24,
     "metadata": {},
     "output_type": "execute_result"
    }
   ],
   "source": [
    "results = []\n",
    "for n in range(0, 9):\n",
    "    E = list(range(1, n+1))\n",
    "    parts_A = partitionne_bell(E)\n",
    "    parts_B = get_all_parts_B_from_A(parts_A, complete=True)\n",
    "    \n",
    "    parts_B_inversion_free = [part for part in parts_B if is_inversion_free(part)]\n",
    "    parts_B_inversion_free_separated = [part for part in parts_B_inversion_free if is_separated(part)]\n",
    "    parts_B_inversion_free_strongly_separated = [part for part in parts_B_inversion_free if is_strongly_separated(part)]\n",
    "    parts_B_inversion_free_merge_free = [part for part in parts_B_inversion_free if is_merge_free(part)]\n",
    "    parts_B_inversion_free_normal_merge_free = [part for part in parts_B_inversion_free if is_normal_merge_free(part)]\n",
    "    \n",
    "    results.append({\n",
    "        'n': n,\n",
    "        'inversion_free': len(parts_B_inversion_free),\n",
    "        'separated_IF': len(parts_B_inversion_free_separated),\n",
    "        'strongly_separated_IF': len(parts_B_inversion_free_strongly_separated),\n",
    "        'merge_free_IF': len(parts_B_inversion_free_merge_free),\n",
    "        'normal_merge_free_IF': len(parts_B_inversion_free_normal_merge_free)\n",
    "    })\n",
    "\n",
    "df = pd.DataFrame(results).set_index('n')\n",
    "df"
   ]
  },
  {
   "cell_type": "code",
   "execution_count": 25,
   "metadata": {},
   "outputs": [
    {
     "name": "stdout",
     "output_type": "stream",
     "text": [
      "MIF [[-1, -2, -3, -4], [1, 2, 3, 4]] typeA [[1, 2, 3, 4]]\n"
     ]
    }
   ],
   "source": [
    "n = 4\n",
    "# Générer toutes les partitions de type A.\n",
    "E = list(range(1, n+1))\n",
    "parts_A = partitionne_bell(E)\n",
    "# Générer toutes les partitions de type B à partir des partitions de type A.\n",
    "parts_B = get_all_parts_B_from_A(parts_A, complete=True)\n",
    "# Récupérer les merged free inversion free\n",
    "parts_B_mf_if = [part for part in parts_B if is_merge_free(part) and is_inversion_free(part)]\n",
    "\n",
    "# Afficher les partitions mf-if\n",
    "for i in range(len(parts_B_mf_if)):\n",
    "    print(\"MIF\", parts_B_mf_if[i], \"typeA\", parts_A[i])"
   ]
  },
  {
   "cell_type": "markdown",
   "metadata": {},
   "source": [
    "### Type B non-crossing partitions"
   ]
  },
  {
   "cell_type": "code",
   "execution_count": 26,
   "metadata": {},
   "outputs": [
    {
     "name": "stdout",
     "output_type": "stream",
     "text": [
      "Partition: [[0, 4], [1, 2, 5, 6, 8], [3, 7]]\n",
      "Non-crossing : False\n",
      "True\n"
     ]
    }
   ],
   "source": [
    "def pp(x, y):\n",
    "    \"\"\"\n",
    "    Détermine si x < y dans l'ordre modifié\n",
    "    \"\"\"\n",
    "    if (x > 0 and y < 0) \\\n",
    "        or (x * y > 0 and abs(x) > abs(y)):\n",
    "        return True\n",
    "    else:\n",
    "        return False\n",
    "\n",
    "\n",
    "def sort_modified_order(lst):\n",
    "    \"\"\"\n",
    "    Trie une liste d'entiers dans un ordre modifié\n",
    "    \"\"\"\n",
    "    count_swaps = -1\n",
    "    while count_swaps != 0:\n",
    "        count_swaps = 0\n",
    "        for i in range(len(lst) - 1):\n",
    "            if pp(lst[i+1], lst[i]):\n",
    "                lst[i], lst[i + 1] = lst[i + 1], lst[i]\n",
    "                count_swaps += 1\n",
    "    return lst\n",
    "\n",
    "\n",
    "def is_non_crossing(part):\n",
    "    \"\"\"\n",
    "    Vérifie si une partition est non croisée\n",
    "    \"\"\"\n",
    "    # Trier chaque element de chaque bloc selon l'ordre modifié\n",
    "    sorted_part = [sort_modified_order(block) for block in part]\n",
    "\n",
    "    # Vérifier qu'il n'existe pas de a, b, c, d\n",
    "    # avec a, b dans bloc1 et c, d dans bloc2\n",
    "    # tels que a < c < b < d ou c < a < d < b\n",
    "    for bloc1 in sorted_part:\n",
    "        if len(bloc1) == 1:\n",
    "            continue\n",
    "        for i in range(len(bloc1) - 1):\n",
    "            a = bloc1[i]\n",
    "            b = bloc1[i + 1]\n",
    "            for bloc2 in sorted_part:\n",
    "                if len(bloc2) == 1:\n",
    "                    continue\n",
    "                if bloc2 != bloc1:\n",
    "                    for j in range(len(bloc2) - 1):\n",
    "                        c = bloc2[j]\n",
    "                        d = bloc2[j + 1]\n",
    "                        if (pp(a, c) and pp(c, b) and pp(b, d)) or \\\n",
    "                           (pp(c, a) and pp(a, d) and pp(d, b)):\n",
    "                            return False\n",
    "    return True\n",
    "\n",
    "\n",
    "# Exemple\n",
    "part = [[1, -2, 5, -6, -8], [-1, 2, -5, 6, 8], [3, -7], [-3, 7], [4], [-4]]\n",
    "part = [[0, 4], [1, 2, 5, 6, 8], [3, 7]]\n",
    "print(\"Partition:\", part)\n",
    "print(\"Non-crossing :\", is_non_crossing(part))\n",
    "print(is_merge_free(part))\n"
   ]
  },
  {
   "cell_type": "code",
   "execution_count": 27,
   "metadata": {},
   "outputs": [
    {
     "name": "stdout",
     "output_type": "stream",
     "text": [
      "[[-5, -4, -3, -2, -1], [5, 4, 3, 2, 1]]\n",
      "[[5, -4, -3, -2, -1], [4, 3, 2, 1, -5]]\n",
      "[[5, 4, -3, -2, -1], [3, 2, 1, -5, -4]]\n",
      "...\n",
      "[[-1], [1], [-2], [2], [-3], [3], [-5, -4], [5, 4]]\n",
      "[[-1], [1], [-2], [2], [-3], [3], [5, -4], [4, -5]]\n",
      "[[-1], [1], [-2], [2], [-3], [3], [-4], [4], [-5], [5]]\n",
      "Nombre de partitions de type B non-crossing pour n=5 : 126\n"
     ]
    }
   ],
   "source": [
    "# Paramètres\n",
    "n = 5\n",
    "# Générer toutes les partitions de type A.\n",
    "E = list(range(1, n+1))\n",
    "parts_A = partitionne_bell(E)\n",
    "# Générer toutes les partitions de type B à partir des partitions de type A.\n",
    "parts_B = get_all_parts_B_from_A(parts_A, complete=True)\n",
    "# Filtrer les partitions de type B pour ne garder que celles qui sont non-crossing.\n",
    "parts_B_non_crossing = [part for part in parts_B if is_non_crossing(part)]\n",
    "# Afficher les résultats\n",
    "print_partitions(parts_B_non_crossing, length=n, name=\"partitions de type B non-crossing\", scope=3)\n"
   ]
  },
  {
   "cell_type": "code",
   "execution_count": 28,
   "metadata": {},
   "outputs": [
    {
     "name": "stdout",
     "output_type": "stream",
     "text": [
      "Partition: [[1, 2, 4], [3]]\n",
      "Non-nesting : True\n"
     ]
    }
   ],
   "source": [
    "def is_non_nesting(part):\n",
    "    \"\"\"\n",
    "    Vérifie si une partition est non croisée\n",
    "    \"\"\"\n",
    "\n",
    "    # Trier chaque element de chaque bloc selon l'ordre naturel\n",
    "    sorted_part = [sorted(block) for block in part]\n",
    "\n",
    "    # Vérifier qu'il n'existe pas de a, b, c, d\n",
    "    # avec a, b consécutifs dans bloc1 et c, d consécutifs dans bloc2\n",
    "    # tels que a < c < d < b ou c < a < b < d\n",
    "    for bloc1 in sorted_part:\n",
    "        for i in range(len(bloc1) - 1):\n",
    "            if len(bloc1) == 1:\n",
    "                    continue\n",
    "            a = bloc1[i]\n",
    "            b = bloc1[i + 1]\n",
    "\n",
    "            for bloc2 in sorted_part:\n",
    "                if bloc2 != bloc1:\n",
    "                    if len(bloc2) == 1:\n",
    "                        continue\n",
    "                    for j in range(len(bloc2) - 1):\n",
    "                        c = bloc2[j]\n",
    "                        d = bloc2[j + 1]\n",
    "                        if (a < c < d < b) or (c < a < b < d):\n",
    "                            return False\n",
    "    return True\n",
    "\n",
    "\n",
    "# Exemple\n",
    "part = [[1, 2, 4], [3]]\n",
    "print(\"Partition:\", part)\n",
    "print(\"Non-nesting :\", is_non_nesting(part))"
   ]
  },
  {
   "cell_type": "code",
   "execution_count": 29,
   "metadata": {},
   "outputs": [
    {
     "name": "stdout",
     "output_type": "stream",
     "text": [
      "[[-1, -2, -3, -4, -5], [1, 2, 3, 4, 5]]\n",
      "[[-1, 2, -3, -4, -5], [1, -2, 3, 4, 5]]\n",
      "[[-1, 2, -3, 4, -5], [1, -2, 3, -4, 5]]\n",
      "...\n",
      "[[-1], [1], [-2], [2], [-3], [3], [-4, -5], [4, 5]]\n",
      "[[-1], [1], [-2], [2], [-3], [3], [-4, 5], [4, -5]]\n",
      "[[-1], [1], [-2], [2], [-3], [3], [-4], [4], [-5], [5]]\n",
      "Nombre de partitions de type B non-neting pour n=5 : 126\n"
     ]
    }
   ],
   "source": [
    "# Paramètres\n",
    "n = 5\n",
    "# Générer toutes les partitions de type A.\n",
    "E = list(range(1, n+1))\n",
    "parts_A = partitionne_bell(E)\n",
    "# Générer toutes les partitions de type B à partir des partitions de type A.\n",
    "parts_B = get_all_parts_B_from_A(parts_A, complete=True)\n",
    "# Filtrer les partitions de type B pour ne garder que celles qui sont non-nesting.\n",
    "parts_B_non_nesting = [part for part in parts_B if is_non_nesting(part)]\n",
    "# Afficher les résultats\n",
    "print_partitions(parts_B_non_nesting, length=n, name=\"partitions de type B non-neting\", scope=3)"
   ]
  },
  {
   "cell_type": "code",
   "execution_count": 30,
   "metadata": {},
   "outputs": [
    {
     "data": {
      "text/html": [
       "<div>\n",
       "<style scoped>\n",
       "    .dataframe tbody tr th:only-of-type {\n",
       "        vertical-align: middle;\n",
       "    }\n",
       "\n",
       "    .dataframe tbody tr th {\n",
       "        vertical-align: top;\n",
       "    }\n",
       "\n",
       "    .dataframe thead th {\n",
       "        text-align: right;\n",
       "    }\n",
       "</style>\n",
       "<table border=\"1\" class=\"dataframe\">\n",
       "  <thead>\n",
       "    <tr style=\"text-align: right;\">\n",
       "      <th></th>\n",
       "      <th>non_crossing</th>\n",
       "      <th>non_crossing_merge_free</th>\n",
       "      <th>non_crossing_with_b0</th>\n",
       "      <th>non_nesting</th>\n",
       "      <th>non_nesting_merge_free</th>\n",
       "      <th>non_nesting_with_b0</th>\n",
       "    </tr>\n",
       "    <tr>\n",
       "      <th>n</th>\n",
       "      <th></th>\n",
       "      <th></th>\n",
       "      <th></th>\n",
       "      <th></th>\n",
       "      <th></th>\n",
       "      <th></th>\n",
       "    </tr>\n",
       "  </thead>\n",
       "  <tbody>\n",
       "    <tr>\n",
       "      <th>0</th>\n",
       "      <td>1</td>\n",
       "      <td>1</td>\n",
       "      <td>1</td>\n",
       "      <td>1</td>\n",
       "      <td>1</td>\n",
       "      <td>1</td>\n",
       "    </tr>\n",
       "    <tr>\n",
       "      <th>1</th>\n",
       "      <td>1</td>\n",
       "      <td>1</td>\n",
       "      <td>2</td>\n",
       "      <td>1</td>\n",
       "      <td>1</td>\n",
       "      <td>2</td>\n",
       "    </tr>\n",
       "    <tr>\n",
       "      <th>2</th>\n",
       "      <td>3</td>\n",
       "      <td>2</td>\n",
       "      <td>6</td>\n",
       "      <td>3</td>\n",
       "      <td>2</td>\n",
       "      <td>6</td>\n",
       "    </tr>\n",
       "    <tr>\n",
       "      <th>3</th>\n",
       "      <td>10</td>\n",
       "      <td>5</td>\n",
       "      <td>20</td>\n",
       "      <td>10</td>\n",
       "      <td>5</td>\n",
       "      <td>20</td>\n",
       "    </tr>\n",
       "    <tr>\n",
       "      <th>4</th>\n",
       "      <td>35</td>\n",
       "      <td>13</td>\n",
       "      <td>70</td>\n",
       "      <td>35</td>\n",
       "      <td>14</td>\n",
       "      <td>70</td>\n",
       "    </tr>\n",
       "    <tr>\n",
       "      <th>5</th>\n",
       "      <td>126</td>\n",
       "      <td>32</td>\n",
       "      <td>252</td>\n",
       "      <td>126</td>\n",
       "      <td>38</td>\n",
       "      <td>252</td>\n",
       "    </tr>\n",
       "    <tr>\n",
       "      <th>6</th>\n",
       "      <td>462</td>\n",
       "      <td>76</td>\n",
       "      <td>924</td>\n",
       "      <td>462</td>\n",
       "      <td>106</td>\n",
       "      <td>924</td>\n",
       "    </tr>\n",
       "    <tr>\n",
       "      <th>7</th>\n",
       "      <td>1716</td>\n",
       "      <td>176</td>\n",
       "      <td>3432</td>\n",
       "      <td>1716</td>\n",
       "      <td>291</td>\n",
       "      <td>3432</td>\n",
       "    </tr>\n",
       "  </tbody>\n",
       "</table>\n",
       "</div>"
      ],
      "text/plain": [
       "   non_crossing  non_crossing_merge_free  non_crossing_with_b0  non_nesting  \\\n",
       "n                                                                             \n",
       "0             1                        1                     1            1   \n",
       "1             1                        1                     2            1   \n",
       "2             3                        2                     6            3   \n",
       "3            10                        5                    20           10   \n",
       "4            35                       13                    70           35   \n",
       "5           126                       32                   252          126   \n",
       "6           462                       76                   924          462   \n",
       "7          1716                      176                  3432         1716   \n",
       "\n",
       "   non_nesting_merge_free  non_nesting_with_b0  \n",
       "n                                               \n",
       "0                       1                    1  \n",
       "1                       1                    2  \n",
       "2                       2                    6  \n",
       "3                       5                   20  \n",
       "4                      14                   70  \n",
       "5                      38                  252  \n",
       "6                     106                  924  \n",
       "7                     291                 3432  "
      ]
     },
     "execution_count": 30,
     "metadata": {},
     "output_type": "execute_result"
    }
   ],
   "source": [
    "results = []\n",
    "for n in range(0, 8):\n",
    "    E = list(range(1, n+1))\n",
    "    U = list(range(0, n+1))\n",
    "    parts_A = partitionne_bell(E)\n",
    "    parts_B = get_all_parts_B_from_A(parts_A, complete=True)\n",
    "    parts_A_with_b0 = partitionne_bell(U)\n",
    "    parts_B_with_b0 = get_all_parts_B_from_A(parts_A_with_b0, complete=True)\n",
    "    \n",
    "    parts_B_non_crossing = [part for part in parts_B if is_non_crossing(part)]\n",
    "    parts_B_non_nesting = [part for part in parts_B if is_non_nesting(part)]\n",
    "    parts_B_non_crossing_with_b0 = [part for part in parts_B_with_b0 if is_non_crossing(part)]\n",
    "    parts_B_non_nesting_with_b0 = [part for part in parts_B_with_b0 if is_non_nesting(part)]\n",
    "\n",
    "    results.append({\n",
    "        'n': n,\n",
    "        'non_crossing': len(parts_B_non_crossing),\n",
    "        'non_crossing_merge_free': len([part for part in parts_B_non_crossing if is_merge_free(part)]),\n",
    "        'non_crossing_with_b0': len(parts_B_non_crossing_with_b0),\n",
    "        'non_nesting': len(parts_B_non_nesting),\n",
    "        'non_nesting_merge_free': len([part for part in parts_B_non_nesting if is_merge_free(part)]),\n",
    "        'non_nesting_with_b0': len(parts_B_non_nesting_with_b0)\n",
    "    })\n",
    "df = pd.DataFrame(results).set_index('n')\n",
    "df"
   ]
  },
  {
   "cell_type": "code",
   "execution_count": 31,
   "metadata": {},
   "outputs": [
    {
     "name": "stdout",
     "output_type": "stream",
     "text": [
      "5.0\n",
      "13\n",
      "32\n",
      "76\n",
      "176\n",
      "400\n",
      "896\n"
     ]
    }
   ],
   "source": [
    "def calcule_mn(n):\n",
    "    return (2**(n-4)) * (3*n + 1)\n",
    "\n",
    "for n in range(3, 10):\n",
    "    print(calcule_mn(n))"
   ]
  },
  {
   "cell_type": "markdown",
   "metadata": {},
   "source": [
    "### Type B non-nesting partitions"
   ]
  },
  {
   "cell_type": "markdown",
   "metadata": {},
   "source": [
    "$P$ is nonnesting if its bump diagram contains no two nested edges, equivalently if $G(P)$ contains no two edges of form $(a, d)$, $(b, c)$ with $a < b < c < d$.\n",
    "\n",
    "*Definition 1.10, https://inria.hal.science/hal-01185429/document*"
   ]
  },
  {
   "cell_type": "code",
   "execution_count": 32,
   "metadata": {},
   "outputs": [
    {
     "name": "stdout",
     "output_type": "stream",
     "text": [
      "[[-1, -2], [1, 2]]\n",
      "[[-1, 2], [1, -2]]\n",
      "[[-1], [1], [-2], [2]]\n",
      "Nombre de partitions de type B nesting-free pour n=2 : 3\n",
      "True\n"
     ]
    },
    {
     "data": {
      "image/png": "[encoded data removed]",
      "text/plain": [
       "<Figure size 1000x200 with 1 Axes>"
      ]
     },
     "metadata": {},
     "output_type": "display_data"
    },
    {
     "name": "stdout",
     "output_type": "stream",
     "text": [
      "True\n"
     ]
    },
    {
     "data": {
      "image/png": "[encoded data removed]",
      "text/plain": [
       "<Figure size 1000x200 with 1 Axes>"
      ]
     },
     "metadata": {},
     "output_type": "display_data"
    },
    {
     "name": "stdout",
     "output_type": "stream",
     "text": [
      "True\n"
     ]
    },
    {
     "data": {
      "image/png": "[encoded data removed]",
      "text/plain": [
       "<Figure size 1000x200 with 1 Axes>"
      ]
     },
     "metadata": {},
     "output_type": "display_data"
    }
   ],
   "source": [
    "# Exemple\n",
    "n = 2\n",
    "# Générer toutes les partitions de type A.\n",
    "E = list(range(1, n+1))\n",
    "parts_A = partitionne_bell(E)\n",
    "# Générer toutes les partitions de type B à partir des partitions de type A.\n",
    "parts_B = get_all_parts_B_from_A(parts_A, complete=True)\n",
    "# Récupérer les nesting-free\n",
    "parts_B_nf = [part for part in parts_B if is_non_nesting(part)]\n",
    "\n",
    "for part in parts_B:\n",
    "    for i in range(len(part)):\n",
    "            for j in range(len(part[i])):\n",
    "                if part[i][j] > n:\n",
    "                    part[i][j] = -(part[i][j] - n)\n",
    "\n",
    "for part in parts_B_nf:\n",
    "    for i in range(len(part)):\n",
    "            for j in range(len(part[i])):\n",
    "                if part[i][j] > n:\n",
    "                    part[i][j] = -(part[i][j] - n)\n",
    "\n",
    "\n",
    "# Afficher les résultats\n",
    "print_partitions(parts_B_nf, n, \"partitions de type B nesting-free\", 4)\n",
    "\n",
    "for part in parts_B:\n",
    "    if part in parts_B_nf:\n",
    "        print(\"True\")\n",
    "    else:\n",
    "        print(\"False\")\n",
    "    plot_partition(part)\n"
   ]
  },
  {
   "cell_type": "code",
   "execution_count": 33,
   "metadata": {},
   "outputs": [
    {
     "name": "stdout",
     "output_type": "stream",
     "text": [
      "True\n"
     ]
    },
    {
     "data": {
      "image/png": "[encoded data removed]",
      "text/plain": [
       "<Figure size 1000x200 with 1 Axes>"
      ]
     },
     "metadata": {},
     "output_type": "display_data"
    }
   ],
   "source": [
    "part = [[1, 3], [2]]\n",
    "print(is_non_nesting(part))\n",
    "plot_partition(part)"
   ]
  },
  {
   "cell_type": "code",
   "execution_count": 34,
   "metadata": {},
   "outputs": [
    {
     "data": {
      "text/html": [
       "<div>\n",
       "<style scoped>\n",
       "    .dataframe tbody tr th:only-of-type {\n",
       "        vertical-align: middle;\n",
       "    }\n",
       "\n",
       "    .dataframe tbody tr th {\n",
       "        vertical-align: top;\n",
       "    }\n",
       "\n",
       "    .dataframe thead th {\n",
       "        text-align: right;\n",
       "    }\n",
       "</style>\n",
       "<table border=\"1\" class=\"dataframe\">\n",
       "  <thead>\n",
       "    <tr style=\"text-align: right;\">\n",
       "      <th></th>\n",
       "      <th>non_nesting</th>\n",
       "      <th>separated_NN</th>\n",
       "      <th>merge_free_NN</th>\n",
       "      <th>normal_merge_free_NN</th>\n",
       "    </tr>\n",
       "    <tr>\n",
       "      <th>n</th>\n",
       "      <th></th>\n",
       "      <th></th>\n",
       "      <th></th>\n",
       "      <th></th>\n",
       "    </tr>\n",
       "  </thead>\n",
       "  <tbody>\n",
       "    <tr>\n",
       "      <th>0</th>\n",
       "      <td>1</td>\n",
       "      <td>1</td>\n",
       "      <td>1</td>\n",
       "      <td>1</td>\n",
       "    </tr>\n",
       "    <tr>\n",
       "      <th>1</th>\n",
       "      <td>1</td>\n",
       "      <td>1</td>\n",
       "      <td>1</td>\n",
       "      <td>0</td>\n",
       "    </tr>\n",
       "    <tr>\n",
       "      <th>2</th>\n",
       "      <td>3</td>\n",
       "      <td>2</td>\n",
       "      <td>2</td>\n",
       "      <td>1</td>\n",
       "    </tr>\n",
       "    <tr>\n",
       "      <th>3</th>\n",
       "      <td>10</td>\n",
       "      <td>6</td>\n",
       "      <td>5</td>\n",
       "      <td>2</td>\n",
       "    </tr>\n",
       "    <tr>\n",
       "      <th>4</th>\n",
       "      <td>35</td>\n",
       "      <td>20</td>\n",
       "      <td>14</td>\n",
       "      <td>4</td>\n",
       "    </tr>\n",
       "    <tr>\n",
       "      <th>5</th>\n",
       "      <td>126</td>\n",
       "      <td>70</td>\n",
       "      <td>38</td>\n",
       "      <td>8</td>\n",
       "    </tr>\n",
       "    <tr>\n",
       "      <th>6</th>\n",
       "      <td>462</td>\n",
       "      <td>252</td>\n",
       "      <td>106</td>\n",
       "      <td>16</td>\n",
       "    </tr>\n",
       "    <tr>\n",
       "      <th>7</th>\n",
       "      <td>1716</td>\n",
       "      <td>924</td>\n",
       "      <td>291</td>\n",
       "      <td>32</td>\n",
       "    </tr>\n",
       "    <tr>\n",
       "      <th>8</th>\n",
       "      <td>6435</td>\n",
       "      <td>3432</td>\n",
       "      <td>808</td>\n",
       "      <td>64</td>\n",
       "    </tr>\n",
       "  </tbody>\n",
       "</table>\n",
       "</div>"
      ],
      "text/plain": [
       "   non_nesting  separated_NN  merge_free_NN  normal_merge_free_NN\n",
       "n                                                                \n",
       "0            1             1              1                     1\n",
       "1            1             1              1                     0\n",
       "2            3             2              2                     1\n",
       "3           10             6              5                     2\n",
       "4           35            20             14                     4\n",
       "5          126            70             38                     8\n",
       "6          462           252            106                    16\n",
       "7         1716           924            291                    32\n",
       "8         6435          3432            808                    64"
      ]
     },
     "execution_count": 34,
     "metadata": {},
     "output_type": "execute_result"
    }
   ],
   "source": [
    "results = []\n",
    "for n in range(9):\n",
    "    # Générer toutes les partitions de type A.\n",
    "    E = list(range(1, n+1))\n",
    "    parts_A = partitionne_bell(E)\n",
    "    # Générer toutes les partitions de type B à partir des partitions de type A.\n",
    "    parts_B = get_all_parts_B_from_A(parts_A, complete=True)\n",
    "\n",
    "    parts_B_non_nesting = [part for part in parts_B if is_non_nesting(part)]\n",
    "    parts_B_non_nesting_separated = [part for part in parts_B_non_nesting if is_separated(part)]\n",
    "    parts_B_non_nesting_merge_free = [part for part in parts_B_non_nesting if is_merge_free(part)]\n",
    "    parts_B_non_nesting_normal_merge_free = [part for part in parts_B_non_nesting if is_normal_merge_free(part)]\n",
    "\n",
    "    # Afficher les résultats\n",
    "    results.append({\n",
    "        'n': n,\n",
    "        'non_nesting': len(parts_B_non_nesting),\n",
    "        'separated_NN': len(parts_B_non_nesting_separated),\n",
    "        'merge_free_NN': len(parts_B_non_nesting_merge_free),\n",
    "        'normal_merge_free_NN': len(parts_B_non_nesting_normal_merge_free)\n",
    "    })\n",
    "df = pd.DataFrame(results).set_index('n')\n",
    "df\n"
   ]
  },
  {
   "cell_type": "markdown",
   "metadata": {},
   "source": [
    "###  S MF NN NC"
   ]
  },
  {
   "cell_type": "code",
   "execution_count": 35,
   "metadata": {},
   "outputs": [
    {
     "name": "stdout",
     "output_type": "stream",
     "text": [
      "Sans bloc 0\n"
     ]
    },
    {
     "data": {
      "text/html": [
       "<div>\n",
       "<style scoped>\n",
       "    .dataframe tbody tr th:only-of-type {\n",
       "        vertical-align: middle;\n",
       "    }\n",
       "\n",
       "    .dataframe tbody tr th {\n",
       "        vertical-align: top;\n",
       "    }\n",
       "\n",
       "    .dataframe thead th {\n",
       "        text-align: right;\n",
       "    }\n",
       "</style>\n",
       "<table border=\"1\" class=\"dataframe\">\n",
       "  <thead>\n",
       "    <tr style=\"text-align: right;\">\n",
       "      <th></th>\n",
       "      <th>separated</th>\n",
       "      <th>merge_free</th>\n",
       "      <th>separated_merge_free</th>\n",
       "      <th>non_nesting</th>\n",
       "      <th>non_crossing</th>\n",
       "      <th>non_nesting_non_crossing</th>\n",
       "    </tr>\n",
       "    <tr>\n",
       "      <th>n</th>\n",
       "      <th></th>\n",
       "      <th></th>\n",
       "      <th></th>\n",
       "      <th></th>\n",
       "      <th></th>\n",
       "      <th></th>\n",
       "    </tr>\n",
       "  </thead>\n",
       "  <tbody>\n",
       "    <tr>\n",
       "      <th>0</th>\n",
       "      <td>1</td>\n",
       "      <td>1</td>\n",
       "      <td>1</td>\n",
       "      <td>1</td>\n",
       "      <td>1</td>\n",
       "      <td>1</td>\n",
       "    </tr>\n",
       "    <tr>\n",
       "      <th>1</th>\n",
       "      <td>1</td>\n",
       "      <td>1</td>\n",
       "      <td>1</td>\n",
       "      <td>1</td>\n",
       "      <td>1</td>\n",
       "      <td>1</td>\n",
       "    </tr>\n",
       "    <tr>\n",
       "      <th>2</th>\n",
       "      <td>2</td>\n",
       "      <td>2</td>\n",
       "      <td>1</td>\n",
       "      <td>3</td>\n",
       "      <td>3</td>\n",
       "      <td>3</td>\n",
       "    </tr>\n",
       "    <tr>\n",
       "      <th>3</th>\n",
       "      <td>6</td>\n",
       "      <td>6</td>\n",
       "      <td>3</td>\n",
       "      <td>10</td>\n",
       "      <td>10</td>\n",
       "      <td>9</td>\n",
       "    </tr>\n",
       "    <tr>\n",
       "      <th>4</th>\n",
       "      <td>24</td>\n",
       "      <td>24</td>\n",
       "      <td>11</td>\n",
       "      <td>35</td>\n",
       "      <td>35</td>\n",
       "      <td>26</td>\n",
       "    </tr>\n",
       "    <tr>\n",
       "      <th>5</th>\n",
       "      <td>116</td>\n",
       "      <td>116</td>\n",
       "      <td>49</td>\n",
       "      <td>126</td>\n",
       "      <td>126</td>\n",
       "      <td>73</td>\n",
       "    </tr>\n",
       "    <tr>\n",
       "      <th>6</th>\n",
       "      <td>648</td>\n",
       "      <td>648</td>\n",
       "      <td>257</td>\n",
       "      <td>462</td>\n",
       "      <td>462</td>\n",
       "      <td>201</td>\n",
       "    </tr>\n",
       "    <tr>\n",
       "      <th>7</th>\n",
       "      <td>4088</td>\n",
       "      <td>4088</td>\n",
       "      <td>1539</td>\n",
       "      <td>1716</td>\n",
       "      <td>1716</td>\n",
       "      <td>546</td>\n",
       "    </tr>\n",
       "  </tbody>\n",
       "</table>\n",
       "</div>"
      ],
      "text/plain": [
       "   separated  merge_free  separated_merge_free  non_nesting  non_crossing  \\\n",
       "n                                                                           \n",
       "0          1           1                     1            1             1   \n",
       "1          1           1                     1            1             1   \n",
       "2          2           2                     1            3             3   \n",
       "3          6           6                     3           10            10   \n",
       "4         24          24                    11           35            35   \n",
       "5        116         116                    49          126           126   \n",
       "6        648         648                   257          462           462   \n",
       "7       4088        4088                  1539         1716          1716   \n",
       "\n",
       "   non_nesting_non_crossing  \n",
       "n                            \n",
       "0                         1  \n",
       "1                         1  \n",
       "2                         3  \n",
       "3                         9  \n",
       "4                        26  \n",
       "5                        73  \n",
       "6                       201  \n",
       "7                       546  "
      ]
     },
     "execution_count": 35,
     "metadata": {},
     "output_type": "execute_result"
    }
   ],
   "source": [
    "results = []\n",
    "for n in range(8):\n",
    "    # Générer toutes les partitions de type A.\n",
    "    E = list(range(1, n+1))\n",
    "    parts_A = partitionne_bell(E)\n",
    "    # Générer toutes les partitions de type B à partir des partitions de type A.\n",
    "    parts_B = get_all_parts_B_from_A(parts_A, complete=True)\n",
    "    \n",
    "    parts_B_separated = [part for part in parts_B if is_separated(part)]\n",
    "    parts_B_merge_free = [part for part in parts_B if is_merge_free(part)]\n",
    "    parts_B_separated_merge_free = [part for part in parts_B_separated if is_merge_free(part)]\n",
    "\n",
    "    parts_B_non_nesting = [part for part in parts_B if is_non_nesting(part)]\n",
    "    parts_B_non_crossing = [part for part in parts_B if is_non_crossing(part)]\n",
    "    parts_B_non_nesting_non_crossing = [part for part in parts_B_non_nesting if is_non_crossing(part)]\n",
    "\n",
    "    # Afficher les résultats\n",
    "    results.append({\n",
    "        'n': n,\n",
    "        'separated': len(parts_B_separated),\n",
    "        'merge_free': len(parts_B_merge_free),\n",
    "        'separated_merge_free': len(parts_B_separated_merge_free),\n",
    "        'non_nesting': len(parts_B_non_nesting),\n",
    "        'non_crossing': len(parts_B_non_crossing),\n",
    "        'non_nesting_non_crossing': len(parts_B_non_nesting_non_crossing)\n",
    "    })\n",
    "df = pd.DataFrame(results).set_index('n')\n",
    "print(\"Sans bloc 0\")\n",
    "df\n"
   ]
  },
  {
   "cell_type": "code",
   "execution_count": 36,
   "metadata": {},
   "outputs": [
    {
     "name": "stdout",
     "output_type": "stream",
     "text": [
      "Avec bloc 0\n"
     ]
    },
    {
     "data": {
      "text/html": [
       "<div>\n",
       "<style scoped>\n",
       "    .dataframe tbody tr th:only-of-type {\n",
       "        vertical-align: middle;\n",
       "    }\n",
       "\n",
       "    .dataframe tbody tr th {\n",
       "        vertical-align: top;\n",
       "    }\n",
       "\n",
       "    .dataframe thead th {\n",
       "        text-align: right;\n",
       "    }\n",
       "</style>\n",
       "<table border=\"1\" class=\"dataframe\">\n",
       "  <thead>\n",
       "    <tr style=\"text-align: right;\">\n",
       "      <th></th>\n",
       "      <th>separated</th>\n",
       "      <th>merge_free</th>\n",
       "      <th>separated_merge_free</th>\n",
       "      <th>non_nesting</th>\n",
       "      <th>non_crossing</th>\n",
       "      <th>non_nesting_non_crossing</th>\n",
       "    </tr>\n",
       "    <tr>\n",
       "      <th>n</th>\n",
       "      <th></th>\n",
       "      <th></th>\n",
       "      <th></th>\n",
       "      <th></th>\n",
       "      <th></th>\n",
       "      <th></th>\n",
       "    </tr>\n",
       "  </thead>\n",
       "  <tbody>\n",
       "    <tr>\n",
       "      <th>0</th>\n",
       "      <td>1</td>\n",
       "      <td>1</td>\n",
       "      <td>1</td>\n",
       "      <td>1</td>\n",
       "      <td>1</td>\n",
       "      <td>1</td>\n",
       "    </tr>\n",
       "    <tr>\n",
       "      <th>1</th>\n",
       "      <td>2</td>\n",
       "      <td>1</td>\n",
       "      <td>1</td>\n",
       "      <td>2</td>\n",
       "      <td>2</td>\n",
       "      <td>2</td>\n",
       "    </tr>\n",
       "    <tr>\n",
       "      <th>2</th>\n",
       "      <td>4</td>\n",
       "      <td>2</td>\n",
       "      <td>1</td>\n",
       "      <td>6</td>\n",
       "      <td>6</td>\n",
       "      <td>6</td>\n",
       "    </tr>\n",
       "    <tr>\n",
       "      <th>3</th>\n",
       "      <td>14</td>\n",
       "      <td>7</td>\n",
       "      <td>4</td>\n",
       "      <td>20</td>\n",
       "      <td>20</td>\n",
       "      <td>17</td>\n",
       "    </tr>\n",
       "    <tr>\n",
       "      <th>4</th>\n",
       "      <td>60</td>\n",
       "      <td>32</td>\n",
       "      <td>16</td>\n",
       "      <td>70</td>\n",
       "      <td>70</td>\n",
       "      <td>47</td>\n",
       "    </tr>\n",
       "    <tr>\n",
       "      <th>5</th>\n",
       "      <td>306</td>\n",
       "      <td>173</td>\n",
       "      <td>80</td>\n",
       "      <td>252</td>\n",
       "      <td>252</td>\n",
       "      <td>128</td>\n",
       "    </tr>\n",
       "    <tr>\n",
       "      <th>6</th>\n",
       "      <td>1796</td>\n",
       "      <td>1064</td>\n",
       "      <td>458</td>\n",
       "      <td>924</td>\n",
       "      <td>924</td>\n",
       "      <td>345</td>\n",
       "    </tr>\n",
       "    <tr>\n",
       "      <th>7</th>\n",
       "      <td>11838</td>\n",
       "      <td>7275</td>\n",
       "      <td>2940</td>\n",
       "      <td>3432</td>\n",
       "      <td>3432</td>\n",
       "      <td>923</td>\n",
       "    </tr>\n",
       "  </tbody>\n",
       "</table>\n",
       "</div>"
      ],
      "text/plain": [
       "   separated  merge_free  separated_merge_free  non_nesting  non_crossing  \\\n",
       "n                                                                           \n",
       "0          1           1                     1            1             1   \n",
       "1          2           1                     1            2             2   \n",
       "2          4           2                     1            6             6   \n",
       "3         14           7                     4           20            20   \n",
       "4         60          32                    16           70            70   \n",
       "5        306         173                    80          252           252   \n",
       "6       1796        1064                   458          924           924   \n",
       "7      11838        7275                  2940         3432          3432   \n",
       "\n",
       "   non_nesting_non_crossing  \n",
       "n                            \n",
       "0                         1  \n",
       "1                         2  \n",
       "2                         6  \n",
       "3                        17  \n",
       "4                        47  \n",
       "5                       128  \n",
       "6                       345  \n",
       "7                       923  "
      ]
     },
     "execution_count": 36,
     "metadata": {},
     "output_type": "execute_result"
    }
   ],
   "source": [
    "results = []\n",
    "for n in range(8):\n",
    "    # Générer toutes les partitions de type A.\n",
    "    E = list(range(0, n+1))\n",
    "    parts_A = partitionne_bell(E)\n",
    "    # Générer toutes les partitions de type B à partir des partitions de type A.\n",
    "    parts_B = get_all_parts_B_from_A(parts_A, complete=True)\n",
    "    \n",
    "    parts_B_separated = [part for part in parts_B if is_separated(part)]\n",
    "    parts_B_merge_free = [part for part in parts_B if is_merge_free(part)]\n",
    "    parts_B_separated_merge_free = [part for part in parts_B_separated if is_merge_free(part)]\n",
    "\n",
    "    parts_B_non_nesting = [part for part in parts_B if is_non_nesting(part)]\n",
    "    parts_B_non_crossing = [part for part in parts_B if is_non_crossing(part)]\n",
    "    parts_B_non_nesting_non_crossing = [part for part in parts_B_non_nesting if is_non_crossing(part)]\n",
    "\n",
    "    # Afficher les résultats\n",
    "    results.append({\n",
    "        'n': n,\n",
    "        'separated': len(parts_B_separated),\n",
    "        'merge_free': len(parts_B_merge_free),\n",
    "        'separated_merge_free': len(parts_B_separated_merge_free),\n",
    "        'non_nesting': len(parts_B_non_nesting),\n",
    "        'non_crossing': len(parts_B_non_crossing),\n",
    "        'non_nesting_non_crossing': len(parts_B_non_nesting_non_crossing)\n",
    "    })\n",
    "\n",
    "df = pd.DataFrame(results).set_index('n')\n",
    "print(\"Avec bloc 0\")\n",
    "df"
   ]
  },
  {
   "cell_type": "code",
   "execution_count": 37,
   "metadata": {},
   "outputs": [
    {
     "name": "stdout",
     "output_type": "stream",
     "text": [
      "Sans bloc 0\n"
     ]
    },
    {
     "data": {
      "text/html": [
       "<div>\n",
       "<style scoped>\n",
       "    .dataframe tbody tr th:only-of-type {\n",
       "        vertical-align: middle;\n",
       "    }\n",
       "\n",
       "    .dataframe tbody tr th {\n",
       "        vertical-align: top;\n",
       "    }\n",
       "\n",
       "    .dataframe thead th {\n",
       "        text-align: right;\n",
       "    }\n",
       "</style>\n",
       "<table border=\"1\" class=\"dataframe\">\n",
       "  <thead>\n",
       "    <tr style=\"text-align: right;\">\n",
       "      <th></th>\n",
       "      <th>separated</th>\n",
       "      <th>merge_free</th>\n",
       "      <th>non_nesting</th>\n",
       "      <th>non_crossing</th>\n",
       "      <th>separated_non_nesting</th>\n",
       "      <th>separated_non_crossing</th>\n",
       "      <th>merge_free_non_nesting</th>\n",
       "      <th>merge_free_non_crossing</th>\n",
       "    </tr>\n",
       "    <tr>\n",
       "      <th>n</th>\n",
       "      <th></th>\n",
       "      <th></th>\n",
       "      <th></th>\n",
       "      <th></th>\n",
       "      <th></th>\n",
       "      <th></th>\n",
       "      <th></th>\n",
       "      <th></th>\n",
       "    </tr>\n",
       "  </thead>\n",
       "  <tbody>\n",
       "    <tr>\n",
       "      <th>0</th>\n",
       "      <td>1</td>\n",
       "      <td>1</td>\n",
       "      <td>1</td>\n",
       "      <td>1</td>\n",
       "      <td>1</td>\n",
       "      <td>1</td>\n",
       "      <td>1</td>\n",
       "      <td>1</td>\n",
       "    </tr>\n",
       "    <tr>\n",
       "      <th>1</th>\n",
       "      <td>1</td>\n",
       "      <td>1</td>\n",
       "      <td>1</td>\n",
       "      <td>1</td>\n",
       "      <td>1</td>\n",
       "      <td>1</td>\n",
       "      <td>1</td>\n",
       "      <td>1</td>\n",
       "    </tr>\n",
       "    <tr>\n",
       "      <th>2</th>\n",
       "      <td>2</td>\n",
       "      <td>2</td>\n",
       "      <td>3</td>\n",
       "      <td>3</td>\n",
       "      <td>2</td>\n",
       "      <td>2</td>\n",
       "      <td>2</td>\n",
       "      <td>2</td>\n",
       "    </tr>\n",
       "    <tr>\n",
       "      <th>3</th>\n",
       "      <td>6</td>\n",
       "      <td>6</td>\n",
       "      <td>10</td>\n",
       "      <td>10</td>\n",
       "      <td>6</td>\n",
       "      <td>5</td>\n",
       "      <td>5</td>\n",
       "      <td>5</td>\n",
       "    </tr>\n",
       "    <tr>\n",
       "      <th>4</th>\n",
       "      <td>24</td>\n",
       "      <td>24</td>\n",
       "      <td>35</td>\n",
       "      <td>35</td>\n",
       "      <td>20</td>\n",
       "      <td>13</td>\n",
       "      <td>14</td>\n",
       "      <td>13</td>\n",
       "    </tr>\n",
       "    <tr>\n",
       "      <th>5</th>\n",
       "      <td>116</td>\n",
       "      <td>116</td>\n",
       "      <td>126</td>\n",
       "      <td>126</td>\n",
       "      <td>70</td>\n",
       "      <td>35</td>\n",
       "      <td>38</td>\n",
       "      <td>32</td>\n",
       "    </tr>\n",
       "    <tr>\n",
       "      <th>6</th>\n",
       "      <td>648</td>\n",
       "      <td>648</td>\n",
       "      <td>462</td>\n",
       "      <td>462</td>\n",
       "      <td>252</td>\n",
       "      <td>96</td>\n",
       "      <td>106</td>\n",
       "      <td>76</td>\n",
       "    </tr>\n",
       "    <tr>\n",
       "      <th>7</th>\n",
       "      <td>4088</td>\n",
       "      <td>4088</td>\n",
       "      <td>1716</td>\n",
       "      <td>1716</td>\n",
       "      <td>924</td>\n",
       "      <td>267</td>\n",
       "      <td>291</td>\n",
       "      <td>176</td>\n",
       "    </tr>\n",
       "  </tbody>\n",
       "</table>\n",
       "</div>"
      ],
      "text/plain": [
       "   separated  merge_free  non_nesting  non_crossing  separated_non_nesting  \\\n",
       "n                                                                            \n",
       "0          1           1            1             1                      1   \n",
       "1          1           1            1             1                      1   \n",
       "2          2           2            3             3                      2   \n",
       "3          6           6           10            10                      6   \n",
       "4         24          24           35            35                     20   \n",
       "5        116         116          126           126                     70   \n",
       "6        648         648          462           462                    252   \n",
       "7       4088        4088         1716          1716                    924   \n",
       "\n",
       "   separated_non_crossing  merge_free_non_nesting  merge_free_non_crossing  \n",
       "n                                                                           \n",
       "0                       1                       1                        1  \n",
       "1                       1                       1                        1  \n",
       "2                       2                       2                        2  \n",
       "3                       5                       5                        5  \n",
       "4                      13                      14                       13  \n",
       "5                      35                      38                       32  \n",
       "6                      96                     106                       76  \n",
       "7                     267                     291                      176  "
      ]
     },
     "execution_count": 37,
     "metadata": {},
     "output_type": "execute_result"
    }
   ],
   "source": [
    "results = []\n",
    "for n in range(8):\n",
    "    # Générer toutes les partitions de type A.\n",
    "    E = list(range(1, n+1))\n",
    "    parts_A = partitionne_bell(E)\n",
    "    # Générer toutes les partitions de type B à partir des partitions de type A.\n",
    "    parts_B = get_all_parts_B_from_A(parts_A, complete=True)\n",
    "\n",
    "    parts_B_separated = [part for part in parts_B if is_separated(part)]\n",
    "    parts_B_merge_free = [part for part in parts_B if is_merge_free(part)]\n",
    "    parts_B_non_nesting = [part for part in parts_B if is_non_nesting(part)]\n",
    "    parts_B_non_crossing = [part for part in parts_B if is_non_crossing(part)]\n",
    "\n",
    "    parts_B_separated_non_nesting = [part for part in parts_B_separated if is_non_nesting(part)]\n",
    "    parts_B_separated_non_crossing = [part for part in parts_B_separated if is_non_crossing(part)]\n",
    "    parts_B_merge_free_non_nesting = [part for part in parts_B_merge_free if is_non_nesting(part)]\n",
    "    parts_B_merge_free_non_crossing = [part for part in parts_B_merge_free if is_non_crossing(part)]\n",
    "\n",
    "    # Afficher les résultats\n",
    "    results.append({\n",
    "        'n': n,\n",
    "        'separated': len(parts_B_separated),\n",
    "        'merge_free': len(parts_B_merge_free),\n",
    "        'non_nesting': len(parts_B_non_nesting),\n",
    "        'non_crossing': len(parts_B_non_crossing),\n",
    "        'separated_non_nesting': len(parts_B_separated_non_nesting),\n",
    "        'separated_non_crossing': len(parts_B_separated_non_crossing),\n",
    "        'merge_free_non_nesting': len(parts_B_merge_free_non_nesting),\n",
    "        'merge_free_non_crossing': len(parts_B_merge_free_non_crossing)\n",
    "    })\n",
    "df = pd.DataFrame(results).set_index('n')\n",
    "print(\"Sans bloc 0\")\n",
    "df"
   ]
  },
  {
   "cell_type": "code",
   "execution_count": 38,
   "metadata": {},
   "outputs": [
    {
     "name": "stdout",
     "output_type": "stream",
     "text": [
      "Avec bloc 0\n"
     ]
    },
    {
     "data": {
      "text/html": [
       "<div>\n",
       "<style scoped>\n",
       "    .dataframe tbody tr th:only-of-type {\n",
       "        vertical-align: middle;\n",
       "    }\n",
       "\n",
       "    .dataframe tbody tr th {\n",
       "        vertical-align: top;\n",
       "    }\n",
       "\n",
       "    .dataframe thead th {\n",
       "        text-align: right;\n",
       "    }\n",
       "</style>\n",
       "<table border=\"1\" class=\"dataframe\">\n",
       "  <thead>\n",
       "    <tr style=\"text-align: right;\">\n",
       "      <th></th>\n",
       "      <th>separated</th>\n",
       "      <th>merge_free</th>\n",
       "      <th>non_nesting</th>\n",
       "      <th>non_crossing</th>\n",
       "      <th>separated_non_nesting</th>\n",
       "      <th>separated_non_crossing</th>\n",
       "      <th>merge_free_non_nesting</th>\n",
       "      <th>merge_free_non_crossing</th>\n",
       "    </tr>\n",
       "    <tr>\n",
       "      <th>n</th>\n",
       "      <th></th>\n",
       "      <th></th>\n",
       "      <th></th>\n",
       "      <th></th>\n",
       "      <th></th>\n",
       "      <th></th>\n",
       "      <th></th>\n",
       "      <th></th>\n",
       "    </tr>\n",
       "  </thead>\n",
       "  <tbody>\n",
       "    <tr>\n",
       "      <th>0</th>\n",
       "      <td>1</td>\n",
       "      <td>1</td>\n",
       "      <td>1</td>\n",
       "      <td>1</td>\n",
       "      <td>1</td>\n",
       "      <td>1</td>\n",
       "      <td>1</td>\n",
       "      <td>1</td>\n",
       "    </tr>\n",
       "    <tr>\n",
       "      <th>1</th>\n",
       "      <td>2</td>\n",
       "      <td>1</td>\n",
       "      <td>2</td>\n",
       "      <td>2</td>\n",
       "      <td>2</td>\n",
       "      <td>2</td>\n",
       "      <td>1</td>\n",
       "      <td>1</td>\n",
       "    </tr>\n",
       "    <tr>\n",
       "      <th>2</th>\n",
       "      <td>4</td>\n",
       "      <td>2</td>\n",
       "      <td>6</td>\n",
       "      <td>6</td>\n",
       "      <td>4</td>\n",
       "      <td>4</td>\n",
       "      <td>2</td>\n",
       "      <td>2</td>\n",
       "    </tr>\n",
       "    <tr>\n",
       "      <th>3</th>\n",
       "      <td>14</td>\n",
       "      <td>7</td>\n",
       "      <td>20</td>\n",
       "      <td>20</td>\n",
       "      <td>12</td>\n",
       "      <td>10</td>\n",
       "      <td>5</td>\n",
       "      <td>5</td>\n",
       "    </tr>\n",
       "    <tr>\n",
       "      <th>4</th>\n",
       "      <td>60</td>\n",
       "      <td>32</td>\n",
       "      <td>70</td>\n",
       "      <td>70</td>\n",
       "      <td>40</td>\n",
       "      <td>26</td>\n",
       "      <td>13</td>\n",
       "      <td>13</td>\n",
       "    </tr>\n",
       "    <tr>\n",
       "      <th>5</th>\n",
       "      <td>306</td>\n",
       "      <td>173</td>\n",
       "      <td>252</td>\n",
       "      <td>252</td>\n",
       "      <td>140</td>\n",
       "      <td>70</td>\n",
       "      <td>36</td>\n",
       "      <td>34</td>\n",
       "    </tr>\n",
       "    <tr>\n",
       "      <th>6</th>\n",
       "      <td>1796</td>\n",
       "      <td>1064</td>\n",
       "      <td>924</td>\n",
       "      <td>924</td>\n",
       "      <td>504</td>\n",
       "      <td>192</td>\n",
       "      <td>98</td>\n",
       "      <td>86</td>\n",
       "    </tr>\n",
       "    <tr>\n",
       "      <th>7</th>\n",
       "      <td>11838</td>\n",
       "      <td>7275</td>\n",
       "      <td>3432</td>\n",
       "      <td>3432</td>\n",
       "      <td>1848</td>\n",
       "      <td>534</td>\n",
       "      <td>273</td>\n",
       "      <td>210</td>\n",
       "    </tr>\n",
       "  </tbody>\n",
       "</table>\n",
       "</div>"
      ],
      "text/plain": [
       "   separated  merge_free  non_nesting  non_crossing  separated_non_nesting  \\\n",
       "n                                                                            \n",
       "0          1           1            1             1                      1   \n",
       "1          2           1            2             2                      2   \n",
       "2          4           2            6             6                      4   \n",
       "3         14           7           20            20                     12   \n",
       "4         60          32           70            70                     40   \n",
       "5        306         173          252           252                    140   \n",
       "6       1796        1064          924           924                    504   \n",
       "7      11838        7275         3432          3432                   1848   \n",
       "\n",
       "   separated_non_crossing  merge_free_non_nesting  merge_free_non_crossing  \n",
       "n                                                                           \n",
       "0                       1                       1                        1  \n",
       "1                       2                       1                        1  \n",
       "2                       4                       2                        2  \n",
       "3                      10                       5                        5  \n",
       "4                      26                      13                       13  \n",
       "5                      70                      36                       34  \n",
       "6                     192                      98                       86  \n",
       "7                     534                     273                      210  "
      ]
     },
     "execution_count": 38,
     "metadata": {},
     "output_type": "execute_result"
    }
   ],
   "source": [
    "results = []\n",
    "for n in range(8):\n",
    "    # Générer toutes les partitions de type A.\n",
    "    E = list(range(0, n+1))\n",
    "    parts_A = partitionne_bell(E)\n",
    "    # Générer toutes les partitions de type B à partir des partitions de type A.\n",
    "    parts_B = get_all_parts_B_from_A(parts_A, complete=True)\n",
    "\n",
    "    parts_B_separated = [part for part in parts_B if is_separated(part)]\n",
    "    parts_B_merge_free = [part for part in parts_B if is_merge_free(part)]\n",
    "    parts_B_non_nesting = [part for part in parts_B if is_non_nesting(part)]\n",
    "    parts_B_non_crossing = [part for part in parts_B if is_non_crossing(part)]\n",
    "\n",
    "    parts_B_separated_non_nesting = [part for part in parts_B_separated if is_non_nesting(part)]\n",
    "    parts_B_separated_non_crossing = [part for part in parts_B_separated if is_non_crossing(part)]\n",
    "    parts_B_merge_free_non_nesting = [part for part in parts_B_merge_free if is_non_nesting(part)]\n",
    "    parts_B_merge_free_non_crossing = [part for part in parts_B_merge_free if is_non_crossing(part)]\n",
    "\n",
    "    # Afficher les résultats\n",
    "    results.append({\n",
    "        'n': n,\n",
    "        'separated': len(parts_B_separated),\n",
    "        'merge_free': len(parts_B_merge_free),\n",
    "        'non_nesting': len(parts_B_non_nesting),\n",
    "        'non_crossing': len(parts_B_non_crossing),\n",
    "        'separated_non_nesting': len(parts_B_separated_non_nesting),\n",
    "        'separated_non_crossing': len(parts_B_separated_non_crossing),\n",
    "        'merge_free_non_nesting': len(parts_B_merge_free_non_nesting),\n",
    "        'merge_free_non_crossing': len(parts_B_merge_free_non_crossing)\n",
    "    })\n",
    "df = pd.DataFrame(results).set_index('n')\n",
    "print(\"Avec bloc 0\")\n",
    "df"
   ]
  },
  {
   "cell_type": "markdown",
   "metadata": {},
   "source": [
    "### Stirling Permutations"
   ]
  },
  {
   "cell_type": "code",
   "execution_count": 39,
   "metadata": {},
   "outputs": [
    {
     "name": "stdout",
     "output_type": "stream",
     "text": [
      "Nombre de permutations de Stirling pour n=6 : 10395\n",
      "[5, 5, 4, 6, 6, 4, 3, 3, 2, 2, 1, 1]\n",
      "[(0, 5), (0, 4), (4, 6), (0, 3), (0, 2), (0, 1)]\n"
     ]
    },
    {
     "data": {
      "image/png": "[encoded data removed]",
      "text/plain": [
       "<Figure size 640x480 with 1 Axes>"
      ]
     },
     "metadata": {},
     "output_type": "display_data"
    }
   ],
   "source": [
    "# Exemple\n",
    "n = 6\n",
    "A = list(range(1, n + 1))\n",
    "permutations = generate_stirling_permutations_rec(n)\n",
    "print(f\"Nombre de permutations de Stirling pour n={n} : {len(permutations)}\")\n",
    "print(permutations[3])\n",
    "\n",
    "# Afficher un arbre\n",
    "graph = get_tree_from_stir_perm(permutations[3])\n",
    "print(graph)\n",
    "\n",
    "G = nx.DiGraph()\n",
    "G.add_edges_from(graph)\n",
    "nx.draw_shell(G, with_labels=True)\n"
   ]
  },
  {
   "cell_type": "markdown",
   "metadata": {},
   "source": [
    "### Flattened Stirling Permutations"
   ]
  },
  {
   "cell_type": "code",
   "execution_count": 40,
   "metadata": {},
   "outputs": [
    {
     "data": {
      "text/plain": [
       "False"
      ]
     },
     "execution_count": 40,
     "metadata": {},
     "output_type": "execute_result"
    }
   ],
   "source": [
    "# Exemple\n",
    "perm = [1, 4, 5, 2, 3, 6, 1, 9]\n",
    "is_run_sorted(perm)"
   ]
  },
  {
   "cell_type": "markdown",
   "metadata": {},
   "source": [
    "Bijection entre Type B merging-free partitions et Flattened stirling permutations."
   ]
  },
  {
   "cell_type": "code",
   "execution_count": 41,
   "metadata": {},
   "outputs": [
    {
     "name": "stdout",
     "output_type": "stream",
     "text": [
      "Partition Merging-Free : [[1, 2, 3, 5, 6], [4]]\n",
      "Permutation de Stirling : [1, 1, 2, 2, 3, 3, 4, 5, 5, 6, 6, 4]\n"
     ]
    },
    {
     "data": {
      "image/png": "[encoded data removed]",
      "text/plain": [
       "<Figure size 640x480 with 1 Axes>"
      ]
     },
     "metadata": {},
     "output_type": "display_data"
    }
   ],
   "source": [
    "# Exemple\n",
    "part = [[1, -6, 7], [2, 3, -4, 8, -9, -10], [5, -11, 12]]\n",
    "part = [[1, 2, 3, 5, 6], [4]]\n",
    "perm = get_flattened_stirling_permutations(part)\n",
    "print(f\"Partition Merging-Free : {part}\")\n",
    "print(f\"Permutation de Stirling : {perm}\")\n",
    "\n",
    "# Afficher un arbre\n",
    "graph = get_tree_from_stir_perm(perm)\n",
    "G = nx.DiGraph()\n",
    "G.add_edges_from(graph)\n",
    "nx.draw_shell(G, with_labels=True)\n"
   ]
  },
  {
   "cell_type": "markdown",
   "metadata": {},
   "source": [
    "Trees Flattened stirling permutations"
   ]
  },
  {
   "cell_type": "code",
   "execution_count": 42,
   "metadata": {},
   "outputs": [
    {
     "name": "stdout",
     "output_type": "stream",
     "text": [
      "[(0, 2), (2, 7), (2, 9), (0, 10), (0, 3), (3, 4), (3, 6), (0, 12), (0, 11)]\n"
     ]
    },
    {
     "data": {
      "text/plain": [
       "True"
      ]
     },
     "execution_count": 42,
     "metadata": {},
     "output_type": "execute_result"
    },
    {
     "data": {
      "image/png": "[encoded data removed]",
      "text/plain": [
       "<Figure size 640x480 with 1 Axes>"
      ]
     },
     "metadata": {},
     "output_type": "display_data"
    }
   ],
   "source": [
    "# Afficher un arbre\n",
    "perm = [2, 7, 7, 9, 9, 2, 10, 10, 3, 4, 4, 6, 6, 3, 12, 12, 11, 11]\n",
    "graph = get_tree_from_stir_perm(perm)\n",
    "G = nx.DiGraph()\n",
    "G.add_edges_from(graph)\n",
    "nx.draw_shell(G, with_labels=True)\n",
    "print(graph)\n",
    "is_run_sorted(perm)"
   ]
  },
  {
   "cell_type": "code",
   "execution_count": 43,
   "metadata": {},
   "outputs": [
    {
     "name": "stdout",
     "output_type": "stream",
     "text": [
      "Arbre de la permutation de Stirling : [(0, 1), (0, 2), (0, 9), (0, 3), (3, 8), (0, 10), (10, 12), (0, 11), (0, 4), (4, 6), (4, 7), (0, 5)]\n",
      "Perm run-sorted : False\n",
      "Flattened : False\n"
     ]
    },
    {
     "data": {
      "image/png": "[encoded data removed]",
      "text/plain": [
       "<Figure size 640x480 with 1 Axes>"
      ]
     },
     "metadata": {},
     "output_type": "display_data"
    }
   ],
   "source": [
    "def is_flattened_stirling_tree(tree):\n",
    "    \"\"\"\n",
    "    Vérifie si un arbre respectes la définition de flattened.\n",
    "    \"\"\"\n",
    "    tree_array = np.array(tree)\n",
    "    parents = tree_array[:, 0]\n",
    "    children = tree_array[:, 1]\n",
    "    low_leaves = children[np.where(parents == 0)]\n",
    "    high_leaves = children[np.where(parents != 0)]\n",
    "    internal_nodes = pd.unique(parents[parents != 0])\n",
    "\n",
    "    # Une feuille est toujours supérieur à son noeud parent\n",
    "    if np.any(children <= parents):\n",
    "        return False\n",
    "\n",
    "    # La hauteur maximale est de 2\n",
    "    # i.e. un enfant de parent non nul ne peux pas être parent\n",
    "    if np.any(np.isin(high_leaves, parents)):\n",
    "        return False\n",
    "    \n",
    "    # Les noeuds de hauteur 1 doivent être run sorted.\n",
    "    vertices_height_1 = []\n",
    "    for i in range(len(parents)):\n",
    "        if parents[i] == 0:\n",
    "            vertices_height_1.append(children[i])\n",
    "        else:\n",
    "            vertices_height_1.append(parents[i])\n",
    "    if not is_run_sorted(vertices_height_1):\n",
    "        return False\n",
    "    \n",
    "    # Si i et j deux feuilles avec le même noeud parent non nul\n",
    "    # et j à droite de i, alors il faut que i < j.\n",
    "    for node in internal_nodes:\n",
    "        children_node = children[np.where(parents == node)]\n",
    "        if len(children_node) > 1:\n",
    "            for i in range(len(children_node) - 1):\n",
    "                if children_node[i] > children_node[i + 1]:\n",
    "                    return False\n",
    "\n",
    "    # Si une feuille est basse,\n",
    "    # alors elle doit être supérieure au noeud le plus proche à sa gauche.\n",
    "    for i in range(1, len(parents)):\n",
    "        if children[i] in low_leaves:\n",
    "            # Trouver le noeud parent le plus proche à gauche\n",
    "            if not len(parents[:i][np.where(parents[:i] != 0)]) == 0:\n",
    "                parent_left = max(parents[:i][np.where(parents[:i] != 0)])\n",
    "            else:\n",
    "                parent_left = 0\n",
    "            if children[i] < parent_left:\n",
    "                return False\n",
    "\n",
    "    return True\n",
    "\n",
    "# Exemple\n",
    "perm = [2, 7, 7, 9, 9, 2, 14, 14, 13, 13, 3, 4, 4, 6, 6, 3, 12, 12, 11, 11]\n",
    "perm = [1, 1, 2, 2, 9, 9, 3, 8, 8, 3, 10, 12, 12, 10, 11, 11, 4, 6, 6, 7, 7, 4, 5, 5, ]\n",
    "\n",
    "tree = get_tree_from_stir_perm(perm)\n",
    "print(\"Arbre de la permutation de Stirling :\", tree)\n",
    "print(\"Perm run-sorted :\", is_run_sorted(perm))\n",
    "print(\"Flattened :\", is_flattened_stirling_tree(tree))\n",
    "G = nx.DiGraph()\n",
    "G.add_edges_from(tree)\n",
    "nx.draw_shell(G, with_labels=True)"
   ]
  },
  {
   "cell_type": "code",
   "execution_count": 122,
   "metadata": {},
   "outputs": [
    {
     "name": "stdout",
     "output_type": "stream",
     "text": [
      "Nombre de permutations de Stirling flattenned : 116\n",
      "Nombre d'arbres flattenned : 116\n",
      "Nombre de permutations de Stirling flattenned et d'arbres flattenned : 116\n"
     ]
    }
   ],
   "source": [
    "n = 5\n",
    "permutations = generate_stirling_permutations_rec(n)\n",
    "\n",
    "count_run_sorted_perm = 0\n",
    "count_run_sorted_tree = 0\n",
    "count = 0\n",
    "for perm in permutations:\n",
    "    tree = get_tree_from_stir_perm(perm)\n",
    "    if is_run_sorted(perm):\n",
    "        count_run_sorted_perm += 1\n",
    "    if is_flattened_stirling_tree(tree):\n",
    "        count_run_sorted_tree += 1\n",
    "    \n",
    "    if is_run_sorted(perm) and is_flattened_stirling_tree(tree):\n",
    "        count += 1\n",
    "\n",
    "print(f\"Nombre de permutations de Stirling flattenned : {count_run_sorted_perm}\")\n",
    "print(f\"Nombre d'arbres flattenned : {count_run_sorted_tree}\")\n",
    "print(f\"Nombre de permutations de Stirling flattenned et d'arbres flattenned : {count}\")\n"
   ]
  },
  {
   "cell_type": "code",
   "execution_count": 49,
   "metadata": {},
   "outputs": [
    {
     "name": "stdout",
     "output_type": "stream",
     "text": [
      "[1 2 4 5 6]\n"
     ]
    }
   ],
   "source": [
    "def get_rlm_inds(lst):\n",
    "    \"\"\"\n",
    "    Retourne la liste des indices des right-to-left minimum d'une liste.\n",
    "    \"\"\"\n",
    "    rlm_inds = []\n",
    "    min_so_far = float('inf')\n",
    "    for i in range(len(lst) - 1, -1, -1):\n",
    "        if lst[i] < min_so_far:\n",
    "            rlm_inds.append(i)\n",
    "            min_so_far = lst[i]\n",
    "    return rlm_inds[::-1]\n",
    "\n",
    "# Exemple\n",
    "lst = [1, 3, 2, 4, 7, 8, 5, 6]\n",
    "rlm_inds = get_rlm_inds(lst)\n",
    "print(np.array(lst)[rlm_inds])"
   ]
  },
  {
   "cell_type": "code",
   "execution_count": 58,
   "metadata": {},
   "outputs": [
    {
     "name": "stdout",
     "output_type": "stream",
     "text": [
      "Arbre : [(0, 1), (0, 2), (0, 9), (0, 3), (3, 8), (0, 10), (10, 12), (0, 11), (0, 4), (4, 6), (4, 7), (0, 5)]\n",
      "Permutation de Stirling : [1, 1, 2, 2, 9, 9, 3, 8, 8, 3, 10, 12, 12, 10, 11, 11, 4, 6, 6, 7, 7, 4, 5, 5]\n"
     ]
    }
   ],
   "source": [
    "def get_stir_perm_from_tree(tree):\n",
    "    \"\"\"\n",
    "    Retourne la permutation de Stirling à partir d'un arbre.\n",
    "    \"\"\"\n",
    "    stir_perm = [0, 0]\n",
    "    for edge in tree:\n",
    "        parent, child = edge\n",
    "        # ind est la position de la dernière occurence de parent dans stir_perm\n",
    "        ind = max([i for i, x in enumerate(stir_perm) if x == parent])\n",
    "        stir_perm = stir_perm[:ind] + [child]*2 + stir_perm[ind:]\n",
    "    return stir_perm[1:-1]\n",
    "\n",
    "# Exemple\n",
    "tree = [(0, 1), (0, 2), (0, 9), (0, 3), (3, 8), (0, 10), (10, 12), (0, 11), (0, 4), (4, 6), (4, 7), (0, 5)]\n",
    "stir_perm = get_stir_perm_from_tree(tree)\n",
    "print(\"Arbre :\", tree)\n",
    "print(\"Permutation de Stirling :\", stir_perm)\n"
   ]
  },
  {
   "cell_type": "code",
   "execution_count": 126,
   "metadata": {},
   "outputs": [
    {
     "name": "stdout",
     "output_type": "stream",
     "text": [
      "Nombre d'arbres flattenned de 5 noeuds générés : 116\n"
     ]
    }
   ],
   "source": [
    "def generate_flattened_trees(n):\n",
    "    \"\"\"\n",
    "    Génère tous les arbres flattenned de n noeuds.\n",
    "    \"\"\"\n",
    "    if n == 0:\n",
    "        return [[]]\n",
    "    elif n == 1:\n",
    "        return [[(0, 1)]]\n",
    "    \n",
    "    trees = []\n",
    "    for tree in generate_flattened_trees(n - 1):\n",
    "        #print(tree) \n",
    "        parents = np.array(tree)[:, 0]\n",
    "        children = np.array(tree)[:, 1]\n",
    "        low_leaves = children[np.where(parents == 0)]\n",
    "        low_leaves = [int(x) for x in low_leaves]\n",
    "        inds_rlm = get_rlm_inds(low_leaves)\n",
    "\n",
    "        for ind in inds_rlm:\n",
    "            new_tree_1 = tree.copy()\n",
    "            new_tree_2 = tree.copy()\n",
    "            new_tree_3 = tree.copy()\n",
    "\n",
    "            # Ajouter un nouveau noeud sur un noeud non nul et rlm. (L possibilités)\n",
    "            last_ind_of_rlm = 0\n",
    "            for i in range(len(new_tree_1)):\n",
    "                if new_tree_1[i][0] == low_leaves[ind] or new_tree_1[i][1] == low_leaves[ind]:\n",
    "                    last_ind_of_rlm = i\n",
    "            new_tree_1 = new_tree_1[:last_ind_of_rlm + 1] + [(low_leaves[ind], n)] + new_tree_1[last_ind_of_rlm + 1:]\n",
    "            trees.append(new_tree_1)\n",
    "\n",
    "            # Ajouter un nouveau noeud à la racine et à gauche d'un rlm. (L - 1 possibilités)\n",
    "            first_ind_of_rlm = 0\n",
    "            for i in range(len(new_tree_2)):\n",
    "                if new_tree_2[i][0] == low_leaves[ind] or new_tree_2[i][1] == low_leaves[ind]:\n",
    "                    first_ind_of_rlm = i\n",
    "                    break\n",
    "            if first_ind_of_rlm != 0:\n",
    "                new_tree_2 = new_tree_2[:first_ind_of_rlm] + [(0, n)] + new_tree_2[first_ind_of_rlm:]\n",
    "                trees.append(new_tree_2)\n",
    "\n",
    "        # Ajouter un nouveau noeud à la racine et tout à droite de l'arbre. (1 possibilité)\n",
    "        new_tree_3 = new_tree_3 + [(0, n)]\n",
    "        trees.append(new_tree_3)\n",
    "    \n",
    "    return trees\n",
    "\n",
    "# Exemple\n",
    "n = 5\n",
    "\n",
    "trees = generate_flattened_trees(n)\n",
    "count_list = []\n",
    "for tree in trees:\n",
    "    if tree not in count_list:\n",
    "        count_list.append(tree)\n",
    "\n",
    "permutations = generate_stirling_permutations_rec(n)\n",
    "trees_perm = []\n",
    "for perm in permutations:\n",
    "    tree_perm = get_tree_from_stir_perm(perm)\n",
    "    if is_flattened_stirling_tree(tree_perm):\n",
    "        trees_perm.append(tree_perm)\n",
    "        if tree_perm not in count_list:\n",
    "            print(tree_perm)\n",
    "\n",
    "\n",
    "print(f\"Nombre d'arbres flattenned de {n} noeuds générés : {len(count_list)}\")\n"
   ]
  },
  {
   "cell_type": "markdown",
   "metadata": {},
   "source": [
    "Ecriture récursive du nombre d'arbre avec :\n",
    "- n noeuds\n",
    "- r runs sigma(T)\n",
    "- l RLmin sigma(T)\n",
    "- k noeuds internes\n",
    "\n",
    "$$\n",
    "A_{n,r,l,k} = k A_{n-1, r, l, k} + (l-k) A_{n-1, r, l, k-1} + (r-1) A_{n-1, r, l, k} + (l-r) A_{n-1, r-1, l, k} + A_{n-1, r, l-1, k}\n",
    "$$\n"
   ]
  },
  {
   "cell_type": "code",
   "execution_count": null,
   "metadata": {},
   "outputs": [
    {
     "name": "stdout",
     "output_type": "stream",
     "text": [
      "0\n"
     ]
    }
   ],
   "source": [
    "# A_{n,r,l,k} =    \n",
    "\n",
    "# k A_{n-1, r, l, k}\n",
    "# On ajoute n comme fils d'un RLmin qui est déjà parent.\n",
    "\n",
    "# (l-k) A_{n-1, r, l, k-1}\n",
    "# On ajoute n comme fils d'un RLmin qui n'avait pas de fils.\n",
    "\n",
    "# + (r-1) A_{n-1, r, l, k}\n",
    "# On ajoute n à la racine et à gauche d'un RLmin, si ce RLmin est immédiatement à droite d'un non-RLmin,\n",
    "# i.e. on ajoute n à la fin d'un run (mais pas à la fin du dernier run).\n",
    "\n",
    "# + (l-r) A_{n-1, r-1, l, k}\n",
    "# On ajoute n à la racine et à gauche d'un RLmin, si ce RLmin est immédiatement à droite d'un RLmin,\n",
    "# i.e. on ajoute n à gauche d'un RLmin s'il ne commence pas un run.\n",
    "\n",
    "# + A_{n-1, r, l-1, k}\n",
    "# On ajoute n à la racine et tout à droite de l'arbre,\n",
    "# i.e. on ajoute n à la fin du dernier run.\n"
   ]
  },
  {
   "cell_type": "code",
   "execution_count": 5,
   "metadata": {},
   "outputs": [
    {
     "name": "stdout",
     "output_type": "stream",
     "text": [
      "2\n"
     ]
    }
   ],
   "source": [
    "def compte_runs(lst):\n",
    "    if len(lst) == 0:\n",
    "        return 0\n",
    "    \n",
    "    count = 1\n",
    "    for i in range(1, len(lst)):\n",
    "        if lst[i] < lst[i-1]:\n",
    "            count += 1\n",
    "\n",
    "    return count\n",
    "\n",
    "# Exemple\n",
    "perm = [1, 3, 2, 4, 5]\n",
    "print(compte_runs(perm))"
   ]
  },
  {
   "cell_type": "markdown",
   "metadata": {},
   "source": [
    "### Bijection Type B separated partitions and Flattened Stirling permutations"
   ]
  },
  {
   "cell_type": "code",
   "execution_count": 46,
   "metadata": {},
   "outputs": [
    {
     "name": "stdout",
     "output_type": "stream",
     "text": [
      "Nombre de partitions de type B séparées pour n=4 : 24\n",
      "Nombre de permutations de Stirling flattenned pour n=4 : 24\n",
      "Partitions de type B séparées :\n",
      "[[1, -2, 3, -4]]\n",
      "[[1, -2, 3], [4]]\n",
      "[[1, -2, 4], [3]]\n",
      "[[1, -2, -4], [3]]\n",
      "[[1, -2], [3, -4]]\n",
      "[[1, 3, -4], [2]]\n",
      "[[1, -3, 4], [2]]\n",
      "[[1, 3], [2, 4]]\n",
      "[[1, 3], [2, -4]]\n",
      "[[1, -3], [2, 4]]\n",
      "[[1, -3], [2, -4]]\n",
      "[[1, 4], [2, -3]]\n",
      "[[1, -4], [2, -3]]\n",
      "[[1], [2, -3, 4]]\n",
      "[[1, -2], [3], [4]]\n",
      "[[1, 3], [2], [4]]\n",
      "[[1, -3], [2], [4]]\n",
      "[[1], [2, -3], [4]]\n",
      "[[1, 4], [2], [3]]\n",
      "[[1, -4], [2], [3]]\n",
      "[[1], [2, 4], [3]]\n",
      "[[1], [2, -4], [3]]\n",
      "[[1], [2], [3, -4]]\n",
      "[[1], [2], [3], [4]]\n",
      "Permutations de Stirling flattenned :\n",
      "[1, 2, 2, 3, 3, 4, 4, 1]\n",
      "[1, 2, 2, 3, 3, 1, 4, 4]\n",
      "[1, 2, 2, 4, 4, 1, 3, 3]\n",
      "[1, 2, 2, 1, 4, 4, 3, 3]\n",
      "[1, 2, 2, 1, 3, 4, 4, 3]\n",
      "[1, 2, 2, 1, 3, 3, 4, 4]\n",
      "[1, 3, 3, 4, 4, 1, 2, 2]\n",
      "[1, 3, 3, 1, 4, 4, 2, 2]\n",
      "[1, 3, 3, 1, 2, 4, 4, 2]\n",
      "[1, 3, 3, 1, 2, 2, 4, 4]\n",
      "[1, 4, 4, 1, 3, 3, 2, 2]\n",
      "[1, 1, 3, 3, 4, 4, 2, 2]\n",
      "[1, 1, 3, 3, 2, 4, 4, 2]\n",
      "[1, 1, 3, 3, 2, 2, 4, 4]\n",
      "[1, 4, 4, 1, 2, 3, 3, 2]\n",
      "[1, 1, 4, 4, 2, 3, 3, 2]\n",
      "[1, 1, 2, 3, 3, 4, 4, 2]\n",
      "[1, 1, 2, 3, 3, 2, 4, 4]\n",
      "[1, 4, 4, 1, 2, 2, 3, 3]\n",
      "[1, 1, 4, 4, 2, 2, 3, 3]\n",
      "[1, 1, 2, 4, 4, 2, 3, 3]\n",
      "[1, 1, 2, 2, 4, 4, 3, 3]\n",
      "[1, 1, 2, 2, 3, 4, 4, 3]\n",
      "[1, 1, 2, 2, 3, 3, 4, 4]\n"
     ]
    }
   ],
   "source": [
    "n = 4\n",
    "# Générer toutes les partitions de type A.\n",
    "E = list(range(1, n+1))\n",
    "parts_A = partitionne_bell(E)\n",
    "parts_B = get_all_parts_B_from_A(parts_A)\n",
    "parts_B_separated = [part for part in parts_B if is_separated(part)]\n",
    "print(f\"Nombre de partitions de type B séparées pour n={n} : {len(parts_B_separated)}\")\n",
    "\n",
    "stir_perms = generate_stirling_permutations_rec(n)\n",
    "flatt_stir_perms = [perm for perm in stir_perms if is_run_sorted(perm)]\n",
    "print(f\"Nombre de permutations de Stirling flattenned pour n={n} : {len(flatt_stir_perms)}\")\n",
    "\n",
    "print(\"Partitions de type B séparées :\")\n",
    "for part in parts_B_separated:\n",
    "    print(part)\n",
    "\n",
    "print(\"Permutations de Stirling flattenned :\")\n",
    "for perm in flatt_stir_perms:\n",
    "    print(perm)"
   ]
  },
  {
   "cell_type": "code",
   "execution_count": 47,
   "metadata": {},
   "outputs": [],
   "source": [
    "def get_flat_stir_perm_from_sep_part(part):\n",
    "    \"\"\"\n",
    "    Récupère la permutation de Stirling flattenned à partir d'une partition de type B séparée.\n",
    "    \"\"\"\n",
    "    perm = []\n",
    "\n",
    "    return True"
   ]
  }
 ],
 "metadata": {
  "kernelspec": {
   "display_name": "Python 3",
   "language": "python",
   "name": "python3"
  },
  "language_info": {
   "codemirror_mode": {
    "name": "ipython",
    "version": 3
   },
   "file_extension": ".py",
   "mimetype": "text/x-python",
   "name": "python",
   "nbconvert_exporter": "python",
   "pygments_lexer": "ipython3",
   "version": "3.11.12"
  }
 },
 "nbformat": 4,
 "nbformat_minor": 2
}
